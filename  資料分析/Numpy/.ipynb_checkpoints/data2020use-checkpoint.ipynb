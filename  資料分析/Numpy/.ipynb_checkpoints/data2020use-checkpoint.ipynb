{
 "cells": [
  {
   "cell_type": "code",
   "execution_count": 1,
   "metadata": {},
   "outputs": [],
   "source": [
    "import pandas as pd\n",
    "import numpy as np\n",
    "\n"
   ]
  },
  {
   "cell_type": "code",
   "execution_count": 1,
   "metadata": {},
   "outputs": [],
   "source": [
    "DataIndex = {\n",
    "    '2007y' : ['x05', 'a02a', 'a01', 'a03a', 'a04a', 'a05', 'a21a', 'a09a01', 'a10b', 'a25b', 'a16', 'a19', 'a11a', 'd01a', 'd07e'],\n",
    "    '2008y' : ['x05', 'a02a', 'a01', 'a03a', 'a04a', 'a05', 'a21a', 'a09a01', 'a10b', 'a25b', 'a16z01', 'a19', 'a11a', 'c01a', 'c07b'],\n",
    "    '2009y' : ['x05', 'a02a', 'a01', 'a03a', 'a04a', 'a05', 'a20', 'a09a01', 'a10a', 'a25a', 'a16z01', 'a18', 'a11a', 'c01a', 'c07b'],\n",
    "    '2010y' : ['x05', 'a02a', 'a01', 'a03a', 'a04a', 'a05', 'a20', 'a09a01', 'a10a', 'a25a', 'a16z01', 'a18', 'a11a', 'c01a', 'c07b'],\n",
    "    '2011y' : ['x05', 'a02a', 'a01', 'a03a', 'a04a', 'a05', 'a20', 'a09a01', 'a10a', 'a25a', 'a16a', 'a18', 'a11a', 'c01a', 'c07b'],\n",
    "\n",
    "}\n",
    "\n",
    "# 2007\n",
    "# 'x05': 地址\n",
    "# a02a : Age\n",
    "# a01  : Sex\n",
    "# a03a : Happiness\n",
    "# a04a : Health\n",
    "# a05  : Work?\n",
    "# a21a : Work?(Mate)\n",
    "# a09a01 : Vocation\n",
    "# a10b : Income\n",
    "# a25b : Income(Mate)\n",
    "# a16  : Marriage?\n",
    "# a19  : Education(Mate)\n",
    "# a11a : WorkHour\n",
    "# d01a : HouseworkHour\n",
    "# d07e : Satisfaction\n",
    "\n",
    "\n",
    "#2011 #Marriage !!!!!!!!"
   ]
  },
  {
   "cell_type": "code",
   "execution_count": null,
   "metadata": {},
   "outputs": [],
   "source": []
  },
  {
   "cell_type": "code",
   "execution_count": 4,
   "metadata": {},
   "outputs": [],
   "source": [
    "def LoadData(path, ColumnUChoose = None):\n",
    "    import pandas as pd\n",
    "    \n",
    "    df = pd.read_csv(path)\n",
    "    if ColumnUChoose != None:\n",
    "        data = df[ColumnUChoose].copy()\n",
    "    else:\n",
    "        data = df.copy()\n",
    "    return data\n"
   ]
  },
  {
   "cell_type": "code",
   "execution_count": 6,
   "metadata": {},
   "outputs": [],
   "source": [
    "def ChangeColumnNames(data, newnamelist = None):\n",
    "    import pandas as pd\n",
    "\n",
    "    \n",
    "    colnames =  data.columns\n",
    "    \n",
    "    if newnamelist == None:\n",
    "        newcolumnlist = [] \n",
    "        for colname in colnames:\n",
    "            try:\n",
    "                new_colname = input(colname + '\\t changes to :(  or a enter to skip  )')\n",
    "                if new_colname == '':\n",
    "                     newcolumnlist.append(colname)\n",
    "                else:\n",
    "                    newcolumnlist.append(new_colname)\n",
    "            except:        \n",
    "                print('error at  ' + colname)\n",
    "    else:\n",
    "        newcolumnlist = newnamelist\n",
    "        print('請注意長度')\n",
    "        \n",
    "        \n",
    "    print(newcolumnlist)\n",
    "    \n",
    "    newdi = dict(zip(colnames, newcolumnlist))\n",
    "    data = data.rename(columns = newdi)\n",
    "    return data"
   ]
  },
  {
   "cell_type": "code",
   "execution_count": 5,
   "metadata": {},
   "outputs": [],
   "source": [
    "def ValueInColumns(data):\n",
    "    import pandas as pd\n",
    "    \n",
    "    colnames =  data.columns\n",
    "    for colname in colnames:\n",
    "        print(data[colname].value_counts().index)\n"
   ]
  },
  {
   "cell_type": "code",
   "execution_count": 35,
   "metadata": {},
   "outputs": [],
   "source": [
    "def ChangeValueInColumns(data):\n",
    "    import pandas as pd\n",
    "    import numpy as np\n",
    "    from IPython.display import clear_output ############################################\n",
    "    import time\n",
    "    \n",
    "    \n",
    "    colnames =  data.columns\n",
    "    for colname in colnames:\n",
    "        time.sleep(0.1)\n",
    "        clear_output() ############################################\n",
    "        print(data[colname].value_counts().index)\n",
    "        \n",
    "        values = data[colname].value_counts().index\n",
    "        print(colname)\n",
    "        choice = input('press aa to change other to skip :')\n",
    "        \n",
    "        if choice == 'aa':\n",
    "            \n",
    "\n",
    "            default_values = dict(zip(list(values),[ str(i) for i in values])) \n",
    "            key = default_values.keys()\n",
    "            while True:\n",
    "\n",
    "                time.sleep(0.4)\n",
    "                clear_output() ############################################\n",
    "                    \n",
    "                count = 1\n",
    "                value1 = ''\n",
    "                print(colname)\n",
    "                print('-'*50)\n",
    "                print('Before : ')\n",
    "                for value in default_values.keys():\n",
    "                    \n",
    "                    print(\"'\" + str(value) + \"'\", end=', ')\n",
    "                print('\\n')\n",
    "                print('-'*50)\n",
    "\n",
    "                print('After : ') \n",
    "                print('-'*50)\n",
    "                for value in default_values.values():\n",
    "                    print(\"'\" + str(value) + \"'\", end=', ')\n",
    "                    try:\n",
    "                        if len(value.split(' ')) > 1:\n",
    "                            if count == 1:\n",
    "                                value1 = value\n",
    "                                count += 1\n",
    "\n",
    "                    except:\n",
    "                        pass\n",
    "    #                         print(str(value) + ' is error')\n",
    "\n",
    "                    \n",
    "                WantToChange = input('What value do U want to change :\\n(q1) to Exit \\n(aa)' + value1 +'\\n input:')\n",
    "                \n",
    "                if WantToChange == 'aaa':\n",
    "                    \n",
    "                    for value in default_values.values():\n",
    "                        if colname == 'Location':\n",
    "                            default_values[ value ] = value.split(' ')[1][0:2]\n",
    "                        else:\n",
    "                            if len(value.split(' ')) > 1:\n",
    "                                default_values[ value ] = value.split(' ')[0]\n",
    "                            \n",
    "                elif WantToChange == 'aaaa':\n",
    "                    \n",
    "                    for value in default_values.values():\n",
    "                        if len(value.split(' ')) > 1:\n",
    "                            default_values[ value ] = 'NaN'\n",
    "                    \n",
    "                else:\n",
    "                    if WantToChange == 'aa':\n",
    "                        WantToChange = value1\n",
    "                    if WantToChange in default_values.keys():\n",
    "                        ChangeValue = input('New Value : \\n(a1) ' + value1.split(' ')[0] \n",
    "                                           + '\\n(a11) NaN' + '\\n input:')\n",
    "                        if ChangeValue == 'a1':\n",
    "                            ChangeValue = value1.split(' ')[0]\n",
    "                        if ChangeValue == 'a11':\n",
    "                            ChangeValue = 'NaN'\n",
    "                        \n",
    "                        default_values[ WantToChange ] = ChangeValue\n",
    "                    \n",
    "                    elif WantToChange == 'q1':\n",
    "                        break\n",
    "                \n",
    "                    else: \n",
    "                        print('not in values!!!!!!!!!!!!!!!!!!!!!!')\n",
    "                        time.sleep(0.7)\n",
    "\n",
    "                    print('-'*50)\n",
    "                \n",
    "                    \n",
    "            data[colname] = data[colname].replace(default_values)\n",
    "            \n",
    "#             for value in values:\n",
    "#                 new_value = input(value + '\\t\\tchange to :(  or enter to skip)')\n",
    "#                 if new_value == '':\n",
    "#                     new_value_list.append(value)\n",
    "#                 else:\n",
    "#                     new_value_list.append(new_value)\n",
    "#             data[colname].replace(dict(zip(values, new_value_list)))\n",
    "            \n",
    "        print('\\n\\n','-'*50)\n",
    "    return data"
   ]
  },
  {
   "cell_type": "code",
   "execution_count": 141,
   "metadata": {},
   "outputs": [],
   "source": [
    "def OutputData(data, time, sex):\n",
    "    if sex == 'man':\n",
    "        sex = '1 男性'\n",
    "    else:\n",
    "        sex = '2 女性'\n",
    "        \n",
    "    dataman_marriage = data.copy()\n",
    "    try:\n",
    "        dataman_marriage['Age'] = int(time) - 1911 - dataman_marriage['Age']\n",
    "    except:\n",
    "        dataman_marriage['Age'] = [int(time) - 1911 - eval(i) for i in dataman_marriage['Age']]\n",
    "\n",
    "    dataman_marriage = data[(data['Sex']== sex) & (data['Marriage?']=='03 已婚(第一次結婚)')]\n",
    "\n",
    "        ###### IncomeContributionRate\n",
    "    dataman_marriage['Income'] = dataman_marriage['Income'].replace({'NaN':'0'})\n",
    "    dataman_marriage['Income(Mate)'] = dataman_marriage['Income(Mate)'].replace({'NaN':'0'})\n",
    "    \n",
    "    dataman_marriage['Income'] = [eval(i) for i in list(dataman_marriage['Income'])]\n",
    "    dataman_marriage['Income(Mate)'] = [eval(i) for i in list(dataman_marriage['Income(Mate)'])]\n",
    "    dataman_marriage.loc[:,'IncomeContributionRate'] = dataman_marriage['Income'] / (dataman_marriage['Income(Mate)'] + dataman_marriage['Income']) \n",
    "    dataman_marriage.loc[~(dataman_marriage.loc[:,'IncomeContributionRate'] >= 0),'IncomeContributionRate'] = '雙方無收入'\n",
    "       \n",
    "        ###### add time\n",
    "    dataman_marriage.loc[:,'Time'] = str(time)\n",
    "    \n",
    "        ###### Work?\n",
    "    dataman_marriage.loc[(dataman_marriage.loc[:,'Work?'] == '1 有') & (dataman_marriage.loc[:,'Work?(Mate)'] == '1 有'),\n",
    "                                'Work?Both'] = '都有'\n",
    "    dataman_marriage.loc[(dataman_marriage.loc[:,'Work?'] == '1 有') & (dataman_marriage.loc[:,'Work?(Mate)'] == '2 沒有'),\n",
    "                                'Work?Both'] = '自己有'\n",
    "    dataman_marriage.loc[(dataman_marriage.loc[:,'Work?'] == '2 沒有') & (dataman_marriage.loc[:,'Work?(Mate)'] == '1 有'),\n",
    "                                'Work?Both'] = '配偶有'\n",
    "    dataman_marriage.loc[(dataman_marriage.loc[:,'Work?'] == '2 沒有') & (dataman_marriage.loc[:,'Work?(Mate)'] == '2 沒有'),\n",
    "                                'Work?Both'] = '都沒有'\n",
    "\n",
    "\n",
    "    dataman_marriage.index = range(len(dataman_marriage.index))\n",
    "        ###### save data\n",
    "    dataman_marriage.to_csv('/Users/xiezhengqi/Desktop/data/dataprocessed/data' + str(time) +'model_' + sex + '.csv',chunksize=30, index_label=None)\n",
    "    print('/Users/xiezhengqi/Desktop/data/dataprocessed/data' + str(time) +'model_' + sex + '.csv')\n"
   ]
  },
  {
   "cell_type": "code",
   "execution_count": null,
   "metadata": {},
   "outputs": [],
   "source": []
  },
  {
   "cell_type": "code",
   "execution_count": null,
   "metadata": {},
   "outputs": [],
   "source": [
    "\n"
   ]
  },
  {
   "cell_type": "markdown",
   "metadata": {},
   "source": [
    "## data2007"
   ]
  },
  {
   "cell_type": "code",
   "execution_count": 52,
   "metadata": {},
   "outputs": [
    {
     "name": "stdout",
     "output_type": "stream",
     "text": [
      "請注意長度\n",
      "['Location', 'Age', 'Sex', 'Happiness', 'Health', 'Work?', 'Work?(Mate)', 'Vocation', 'Income', 'Income(Mate)', 'Marriage?', 'Education(Mate)', 'WorkHour', 'HouseworkHour', 'Satisfaction']\n"
     ]
    },
    {
     "name": "stderr",
     "output_type": "stream",
     "text": [
      "//anaconda3/lib/python3.7/site-packages/IPython/core/interactiveshell.py:3254: DtypeWarning: Columns (44,66,67,121,122,123,124,125,126,127,128,129,130,131,132,133,134,135,136,137,138,139,140,141,142,143,144,145,146,147,148,149,150,151,152,160,165,173,359,360,361,362) have mixed types.Specify dtype option on import or set low_memory=False.\n",
      "  if (await self.run_code(code, result,  async_=asy)):\n"
     ]
    }
   ],
   "source": [
    "data2007 = LoadData('/Users/xiezhengqi/Desktop/data/data_csv/RR2007_c_V201101_stata.csv')\n",
    "data2007 = data2007[DataIndex['2007y']]\n",
    "newnamelist = ['Location','Age','Sex', 'Happiness', 'Health', 'Work?','Work?(Mate)', 'Vocation', 'Income','Income(Mate)',\n",
    "               'Marriage?','Education(Mate)', 'WorkHour', 'HouseworkHour','Satisfaction']\n",
    "data2007 = ChangeColumnNames(data2007,newnamelist)\n",
    "\n",
    "# 2007\n",
    "\n",
    "#'x05' : Location\n",
    "# a02a : Age\n",
    "# a01  : Sex\n",
    "# a03a : Happiness\n",
    "# a04a : Health\n",
    "# a05  : Work?\n",
    "# a21a : Work?(Mate)\n",
    "# a09a01 : Vocation\n",
    "# a10b : Income\n",
    "# a25b : Income(Mate)\n",
    "# a16  : Marriage?\n",
    "# a19  : Education(Mate)\n",
    "# a11a : WorkHour\n",
    "# d01a : HouseworkHour\n",
    "# d07e : Satisfaction\n",
    "\n"
   ]
  },
  {
   "cell_type": "code",
   "execution_count": 62,
   "metadata": {},
   "outputs": [
    {
     "name": "stdout",
     "output_type": "stream",
     "text": [
      "Satisfaction\n",
      "--------------------------------------------------\n",
      "Before : \n",
      "'2 還算滿意', '1 很滿意', '3 不太滿意', '4 很不滿意', 'NaN', \n",
      "\n",
      "--------------------------------------------------\n",
      "After : \n",
      "--------------------------------------------------\n",
      "'2', '1', '3', '4', 'NaN', "
     ]
    },
    {
     "name": "stdin",
     "output_type": "stream",
     "text": [
      "What value do U want to change :\n",
      "(q1) to Exit \n",
      "(aa)\n",
      " input: q1\n"
     ]
    },
    {
     "name": "stdout",
     "output_type": "stream",
     "text": [
      "\n",
      "\n",
      " --------------------------------------------------\n"
     ]
    }
   ],
   "source": [
    "data2007 = ChangeValueInColumns(data2007)"
   ]
  },
  {
   "cell_type": "code",
   "execution_count": null,
   "metadata": {},
   "outputs": [],
   "source": []
  },
  {
   "cell_type": "code",
   "execution_count": 63,
   "metadata": {},
   "outputs": [
    {
     "name": "stdout",
     "output_type": "stream",
     "text": [
      "/Users/xiezhengqi/Desktop/data/dataprocessed/data2007model_1 男性.csv\n"
     ]
    },
    {
     "name": "stderr",
     "output_type": "stream",
     "text": [
      "//anaconda3/lib/python3.7/site-packages/ipykernel_launcher.py:13: SettingWithCopyWarning: \n",
      "A value is trying to be set on a copy of a slice from a DataFrame.\n",
      "Try using .loc[row_indexer,col_indexer] = value instead\n",
      "\n",
      "See the caveats in the documentation: https://pandas.pydata.org/pandas-docs/stable/user_guide/indexing.html#returning-a-view-versus-a-copy\n",
      "  del sys.path[0]\n",
      "//anaconda3/lib/python3.7/site-packages/ipykernel_launcher.py:14: SettingWithCopyWarning: \n",
      "A value is trying to be set on a copy of a slice from a DataFrame.\n",
      "Try using .loc[row_indexer,col_indexer] = value instead\n",
      "\n",
      "See the caveats in the documentation: https://pandas.pydata.org/pandas-docs/stable/user_guide/indexing.html#returning-a-view-versus-a-copy\n",
      "  \n",
      "//anaconda3/lib/python3.7/site-packages/ipykernel_launcher.py:16: SettingWithCopyWarning: \n",
      "A value is trying to be set on a copy of a slice from a DataFrame.\n",
      "Try using .loc[row_indexer,col_indexer] = value instead\n",
      "\n",
      "See the caveats in the documentation: https://pandas.pydata.org/pandas-docs/stable/user_guide/indexing.html#returning-a-view-versus-a-copy\n",
      "  app.launch_new_instance()\n",
      "//anaconda3/lib/python3.7/site-packages/ipykernel_launcher.py:17: SettingWithCopyWarning: \n",
      "A value is trying to be set on a copy of a slice from a DataFrame.\n",
      "Try using .loc[row_indexer,col_indexer] = value instead\n",
      "\n",
      "See the caveats in the documentation: https://pandas.pydata.org/pandas-docs/stable/user_guide/indexing.html#returning-a-view-versus-a-copy\n"
     ]
    }
   ],
   "source": [
    "OutputData(data2007,time ='2007',sex='man')"
   ]
  },
  {
   "cell_type": "code",
   "execution_count": 65,
   "metadata": {},
   "outputs": [
    {
     "name": "stdout",
     "output_type": "stream",
     "text": [
      "/Users/xiezhengqi/Desktop/data/dataprocessed/data2007model_2 女性.csv\n"
     ]
    },
    {
     "name": "stderr",
     "output_type": "stream",
     "text": [
      "//anaconda3/lib/python3.7/site-packages/ipykernel_launcher.py:13: SettingWithCopyWarning: \n",
      "A value is trying to be set on a copy of a slice from a DataFrame.\n",
      "Try using .loc[row_indexer,col_indexer] = value instead\n",
      "\n",
      "See the caveats in the documentation: https://pandas.pydata.org/pandas-docs/stable/user_guide/indexing.html#returning-a-view-versus-a-copy\n",
      "  del sys.path[0]\n",
      "//anaconda3/lib/python3.7/site-packages/ipykernel_launcher.py:14: SettingWithCopyWarning: \n",
      "A value is trying to be set on a copy of a slice from a DataFrame.\n",
      "Try using .loc[row_indexer,col_indexer] = value instead\n",
      "\n",
      "See the caveats in the documentation: https://pandas.pydata.org/pandas-docs/stable/user_guide/indexing.html#returning-a-view-versus-a-copy\n",
      "  \n",
      "//anaconda3/lib/python3.7/site-packages/ipykernel_launcher.py:16: SettingWithCopyWarning: \n",
      "A value is trying to be set on a copy of a slice from a DataFrame.\n",
      "Try using .loc[row_indexer,col_indexer] = value instead\n",
      "\n",
      "See the caveats in the documentation: https://pandas.pydata.org/pandas-docs/stable/user_guide/indexing.html#returning-a-view-versus-a-copy\n",
      "  app.launch_new_instance()\n",
      "//anaconda3/lib/python3.7/site-packages/ipykernel_launcher.py:17: SettingWithCopyWarning: \n",
      "A value is trying to be set on a copy of a slice from a DataFrame.\n",
      "Try using .loc[row_indexer,col_indexer] = value instead\n",
      "\n",
      "See the caveats in the documentation: https://pandas.pydata.org/pandas-docs/stable/user_guide/indexing.html#returning-a-view-versus-a-copy\n"
     ]
    }
   ],
   "source": [
    "OutputData(data2007,time ='2007',sex='woman')"
   ]
  },
  {
   "cell_type": "code",
   "execution_count": 190,
   "metadata": {},
   "outputs": [],
   "source": []
  },
  {
   "cell_type": "code",
   "execution_count": null,
   "metadata": {},
   "outputs": [],
   "source": []
  },
  {
   "cell_type": "code",
   "execution_count": null,
   "metadata": {},
   "outputs": [],
   "source": []
  },
  {
   "cell_type": "code",
   "execution_count": null,
   "metadata": {},
   "outputs": [],
   "source": []
  },
  {
   "cell_type": "markdown",
   "metadata": {},
   "source": [
    "## data2008"
   ]
  },
  {
   "cell_type": "code",
   "execution_count": 66,
   "metadata": {},
   "outputs": [
    {
     "name": "stdout",
     "output_type": "stream",
     "text": [
      "請注意長度\n",
      "['Location', 'Age', 'Sex', 'Happiness', 'Health', 'Work?', 'Work?(Mate)', 'Vocation', 'Income', 'Income(Mate)', 'Marriage?', 'Education(Mate)', 'WorkHour', 'HouseworkHour', 'Satisfaction']\n"
     ]
    },
    {
     "name": "stderr",
     "output_type": "stream",
     "text": [
      "//anaconda3/lib/python3.7/site-packages/IPython/core/interactiveshell.py:3254: DtypeWarning: Columns (340,341,372) have mixed types.Specify dtype option on import or set low_memory=False.\n",
      "  if (await self.run_code(code, result,  async_=asy)):\n"
     ]
    }
   ],
   "source": [
    "data2008 = LoadData('/Users/xiezhengqi/Desktop/data/data_csv/RR2008_c_v201207_stata.csv')\n",
    "data2008 = data2008[DataIndex['2008y']]\n",
    "newnamelist = ['Location', 'Age','Sex', 'Happiness', 'Health', 'Work?','Work?(Mate)', 'Vocation', 'Income','Income(Mate)',\n",
    "               'Marriage?','Education(Mate)', 'WorkHour', 'HouseworkHour','Satisfaction']\n",
    "data2008 = ChangeColumnNames(data2008,newnamelist)\n",
    "\n"
   ]
  },
  {
   "cell_type": "code",
   "execution_count": 67,
   "metadata": {},
   "outputs": [
    {
     "name": "stdout",
     "output_type": "stream",
     "text": [
      "Satisfaction\n",
      "--------------------------------------------------\n",
      "Before : \n",
      "'2 還算滿意', '1 很滿意', '3 不太滿意', '4 很不滿意', \n",
      "\n",
      "--------------------------------------------------\n",
      "After : \n",
      "--------------------------------------------------\n",
      "'2', '1', '3', '4', "
     ]
    },
    {
     "name": "stdin",
     "output_type": "stream",
     "text": [
      "What value do U want to change :\n",
      "(q1) to Exit \n",
      "(aa)\n",
      " input: q1\n"
     ]
    },
    {
     "name": "stdout",
     "output_type": "stream",
     "text": [
      "\n",
      "\n",
      " --------------------------------------------------\n"
     ]
    }
   ],
   "source": [
    "data2008 = ChangeValueInColumns(data2008)"
   ]
  },
  {
   "cell_type": "code",
   "execution_count": 72,
   "metadata": {},
   "outputs": [
    {
     "data": {
      "text/plain": [
       "1 有     2257\n",
       "2 沒有    1091\n",
       "Name: Work?, dtype: int64"
      ]
     },
     "execution_count": 72,
     "metadata": {},
     "output_type": "execute_result"
    }
   ],
   "source": [
    "data2008['Work?'].value_counts()"
   ]
  },
  {
   "cell_type": "code",
   "execution_count": 73,
   "metadata": {},
   "outputs": [],
   "source": [
    "data2008['Work?'] = data2008['Work?'].replace({'1 有,從事有收入的工作(包括臨時或固定工作)':'1 有',\n",
    "                                               '2 有,從事無酬家屬工作,而且每週工作15小時以上,或每天工作3小時以上':'1 有',\n",
    "                                               '3 沒有':'2 沒有'})"
   ]
  },
  {
   "cell_type": "code",
   "execution_count": 80,
   "metadata": {},
   "outputs": [
    {
     "data": {
      "text/plain": [
       "1 有     1341\n",
       "NaN     1145\n",
       "2 沒有     862\n",
       "Name: Work?(Mate), dtype: int64"
      ]
     },
     "execution_count": 80,
     "metadata": {},
     "output_type": "execute_result"
    }
   ],
   "source": [
    "data2008['Work?(Mate)'].value_counts()"
   ]
  },
  {
   "cell_type": "code",
   "execution_count": 79,
   "metadata": {},
   "outputs": [],
   "source": [
    "data2008['Work?(Mate)'] = data2008['Work?(Mate)'].replace({'1 有,從事有收入的工作(包括臨時或固定工作)':'1 有',\n",
    "                                                           '2 有,從事無酬家屬工作,而且每週工作15小時以上,或每天工作3小時以上':'1 有',\n",
    "                                                           '3 沒有':'2 沒有',\n",
    "                                                           '8 拒答':'NaN',\n",
    "                                                           '0 跳答,不適用':'NaN',\n",
    "                                                           '6 不知道,不清楚,不記得':'NaN'})"
   ]
  },
  {
   "cell_type": "code",
   "execution_count": 81,
   "metadata": {},
   "outputs": [
    {
     "name": "stdout",
     "output_type": "stream",
     "text": [
      "/Users/xiezhengqi/Desktop/data/dataprocessed/data2008model_1 男性.csv\n"
     ]
    },
    {
     "name": "stderr",
     "output_type": "stream",
     "text": [
      "//anaconda3/lib/python3.7/site-packages/ipykernel_launcher.py:13: SettingWithCopyWarning: \n",
      "A value is trying to be set on a copy of a slice from a DataFrame.\n",
      "Try using .loc[row_indexer,col_indexer] = value instead\n",
      "\n",
      "See the caveats in the documentation: https://pandas.pydata.org/pandas-docs/stable/user_guide/indexing.html#returning-a-view-versus-a-copy\n",
      "  del sys.path[0]\n",
      "//anaconda3/lib/python3.7/site-packages/ipykernel_launcher.py:14: SettingWithCopyWarning: \n",
      "A value is trying to be set on a copy of a slice from a DataFrame.\n",
      "Try using .loc[row_indexer,col_indexer] = value instead\n",
      "\n",
      "See the caveats in the documentation: https://pandas.pydata.org/pandas-docs/stable/user_guide/indexing.html#returning-a-view-versus-a-copy\n",
      "  \n",
      "//anaconda3/lib/python3.7/site-packages/ipykernel_launcher.py:16: SettingWithCopyWarning: \n",
      "A value is trying to be set on a copy of a slice from a DataFrame.\n",
      "Try using .loc[row_indexer,col_indexer] = value instead\n",
      "\n",
      "See the caveats in the documentation: https://pandas.pydata.org/pandas-docs/stable/user_guide/indexing.html#returning-a-view-versus-a-copy\n",
      "  app.launch_new_instance()\n",
      "//anaconda3/lib/python3.7/site-packages/ipykernel_launcher.py:17: SettingWithCopyWarning: \n",
      "A value is trying to be set on a copy of a slice from a DataFrame.\n",
      "Try using .loc[row_indexer,col_indexer] = value instead\n",
      "\n",
      "See the caveats in the documentation: https://pandas.pydata.org/pandas-docs/stable/user_guide/indexing.html#returning-a-view-versus-a-copy\n"
     ]
    }
   ],
   "source": [
    "OutputData(data2008,time ='2008',sex='man')"
   ]
  },
  {
   "cell_type": "code",
   "execution_count": 82,
   "metadata": {},
   "outputs": [
    {
     "name": "stdout",
     "output_type": "stream",
     "text": [
      "/Users/xiezhengqi/Desktop/data/dataprocessed/data2008model_2 女性.csv\n"
     ]
    },
    {
     "name": "stderr",
     "output_type": "stream",
     "text": [
      "//anaconda3/lib/python3.7/site-packages/ipykernel_launcher.py:13: SettingWithCopyWarning: \n",
      "A value is trying to be set on a copy of a slice from a DataFrame.\n",
      "Try using .loc[row_indexer,col_indexer] = value instead\n",
      "\n",
      "See the caveats in the documentation: https://pandas.pydata.org/pandas-docs/stable/user_guide/indexing.html#returning-a-view-versus-a-copy\n",
      "  del sys.path[0]\n",
      "//anaconda3/lib/python3.7/site-packages/ipykernel_launcher.py:14: SettingWithCopyWarning: \n",
      "A value is trying to be set on a copy of a slice from a DataFrame.\n",
      "Try using .loc[row_indexer,col_indexer] = value instead\n",
      "\n",
      "See the caveats in the documentation: https://pandas.pydata.org/pandas-docs/stable/user_guide/indexing.html#returning-a-view-versus-a-copy\n",
      "  \n",
      "//anaconda3/lib/python3.7/site-packages/ipykernel_launcher.py:16: SettingWithCopyWarning: \n",
      "A value is trying to be set on a copy of a slice from a DataFrame.\n",
      "Try using .loc[row_indexer,col_indexer] = value instead\n",
      "\n",
      "See the caveats in the documentation: https://pandas.pydata.org/pandas-docs/stable/user_guide/indexing.html#returning-a-view-versus-a-copy\n",
      "  app.launch_new_instance()\n",
      "//anaconda3/lib/python3.7/site-packages/ipykernel_launcher.py:17: SettingWithCopyWarning: \n",
      "A value is trying to be set on a copy of a slice from a DataFrame.\n",
      "Try using .loc[row_indexer,col_indexer] = value instead\n",
      "\n",
      "See the caveats in the documentation: https://pandas.pydata.org/pandas-docs/stable/user_guide/indexing.html#returning-a-view-versus-a-copy\n"
     ]
    }
   ],
   "source": [
    "OutputData(data2008,time ='2008',sex='woman')"
   ]
  },
  {
   "cell_type": "code",
   "execution_count": null,
   "metadata": {},
   "outputs": [],
   "source": []
  },
  {
   "cell_type": "code",
   "execution_count": null,
   "metadata": {},
   "outputs": [],
   "source": []
  },
  {
   "cell_type": "markdown",
   "metadata": {},
   "source": [
    "## data2009"
   ]
  },
  {
   "cell_type": "code",
   "execution_count": 83,
   "metadata": {},
   "outputs": [
    {
     "name": "stdout",
     "output_type": "stream",
     "text": [
      "請注意長度\n",
      "['Location', 'Age', 'Sex', 'Happiness', 'Health', 'Work?', 'Work?(Mate)', 'Vocation', 'Income', 'Income(Mate)', 'Marriage?', 'Education(Mate)', 'WorkHour', 'HouseworkHour', 'Satisfaction']\n"
     ]
    },
    {
     "name": "stderr",
     "output_type": "stream",
     "text": [
      "//anaconda3/lib/python3.7/site-packages/IPython/core/interactiveshell.py:3254: DtypeWarning: Columns (11,12,17,60,61,71,72,109,110,114,115,163,165,167,168,176,332,333,334,335,336,366,426,445,488,489,490,492,542,543) have mixed types.Specify dtype option on import or set low_memory=False.\n",
      "  if (await self.run_code(code, result,  async_=asy)):\n"
     ]
    }
   ],
   "source": [
    "data2009 = LoadData('/Users/xiezhengqi/Desktop/data/data_csv/RR2009_c_V201212_stata.csv')\n",
    "data2009 = data2009[DataIndex['2009y']].copy()\n",
    "newnamelist = ['Location', 'Age','Sex', 'Happiness', 'Health', 'Work?','Work?(Mate)', 'Vocation', 'Income','Income(Mate)',\n",
    "               'Marriage?','Education(Mate)', 'WorkHour', 'HouseworkHour','Satisfaction']\n",
    "data2009 = ChangeColumnNames(data2009,newnamelist)\n",
    "\n",
    "# 配偶工作 缺失 比例過高"
   ]
  },
  {
   "cell_type": "code",
   "execution_count": null,
   "metadata": {},
   "outputs": [],
   "source": []
  },
  {
   "cell_type": "code",
   "execution_count": 84,
   "metadata": {},
   "outputs": [
    {
     "name": "stdout",
     "output_type": "stream",
     "text": [
      "Satisfaction\n",
      "--------------------------------------------------\n",
      "Before : \n",
      "'2 還算滿意', '1 很滿意', '3 不太滿意', '4 很不滿意', \n",
      "\n",
      "--------------------------------------------------\n",
      "After : \n",
      "--------------------------------------------------\n",
      "'2', '1', '3', '4', "
     ]
    },
    {
     "name": "stdin",
     "output_type": "stream",
     "text": [
      "What value do U want to change :\n",
      "(q1) to Exit \n",
      "(aa)\n",
      " input: q1\n"
     ]
    },
    {
     "name": "stdout",
     "output_type": "stream",
     "text": [
      "\n",
      "\n",
      " --------------------------------------------------\n"
     ]
    }
   ],
   "source": [
    "data2009 = ChangeValueInColumns(data2009)"
   ]
  },
  {
   "cell_type": "code",
   "execution_count": 89,
   "metadata": {},
   "outputs": [
    {
     "data": {
      "text/plain": [
       "1 有     2025\n",
       "2 沒有    1183\n",
       "Name: Work?, dtype: int64"
      ]
     },
     "execution_count": 89,
     "metadata": {},
     "output_type": "execute_result"
    }
   ],
   "source": [
    "data2009['Work?'].value_counts()"
   ]
  },
  {
   "cell_type": "code",
   "execution_count": 90,
   "metadata": {},
   "outputs": [],
   "source": [
    "data2009['Work?'] = data2009['Work?'].replace({'1 有,從事有收入的工作(包括臨時或固定工作)':'1 有',\n",
    "                                               '2 有,從事無酬家屬工作,而且每週工作15小時以上,或每天工作3小時以上':'1 有',\n",
    "                                               '3 沒有':'2 沒有'})"
   ]
  },
  {
   "cell_type": "code",
   "execution_count": 91,
   "metadata": {},
   "outputs": [
    {
     "data": {
      "text/plain": [
       "1 有     1238\n",
       "NaN     1079\n",
       "2 沒有     891\n",
       "Name: Work?(Mate), dtype: int64"
      ]
     },
     "execution_count": 91,
     "metadata": {},
     "output_type": "execute_result"
    }
   ],
   "source": [
    "data2009['Work?(Mate)'].value_counts()"
   ]
  },
  {
   "cell_type": "code",
   "execution_count": 92,
   "metadata": {},
   "outputs": [],
   "source": [
    "data2009['Work?(Mate)'] = data2009['Work?(Mate)'].replace({'1 有,從事有收入的工作(包括臨時或固定工作)':'1 有',\n",
    "                                                           '2 有,從事無酬家屬工作,而且每週工作15小時以上,或每天工作3小時以上':'1 有',\n",
    "                                                           '3 沒有':'2 沒有',\n",
    "                                                           '8 拒答':'NaN',\n",
    "                                                           '6 不知道':'NaN',\n",
    "                                                           '0 不適用/跳答':'NaN'})"
   ]
  },
  {
   "cell_type": "code",
   "execution_count": 93,
   "metadata": {},
   "outputs": [
    {
     "name": "stdout",
     "output_type": "stream",
     "text": [
      "/Users/xiezhengqi/Desktop/data/dataprocessed/data2009model_1 男性.csv\n"
     ]
    },
    {
     "name": "stderr",
     "output_type": "stream",
     "text": [
      "//anaconda3/lib/python3.7/site-packages/ipykernel_launcher.py:13: SettingWithCopyWarning: \n",
      "A value is trying to be set on a copy of a slice from a DataFrame.\n",
      "Try using .loc[row_indexer,col_indexer] = value instead\n",
      "\n",
      "See the caveats in the documentation: https://pandas.pydata.org/pandas-docs/stable/user_guide/indexing.html#returning-a-view-versus-a-copy\n",
      "  del sys.path[0]\n",
      "//anaconda3/lib/python3.7/site-packages/ipykernel_launcher.py:14: SettingWithCopyWarning: \n",
      "A value is trying to be set on a copy of a slice from a DataFrame.\n",
      "Try using .loc[row_indexer,col_indexer] = value instead\n",
      "\n",
      "See the caveats in the documentation: https://pandas.pydata.org/pandas-docs/stable/user_guide/indexing.html#returning-a-view-versus-a-copy\n",
      "  \n",
      "//anaconda3/lib/python3.7/site-packages/ipykernel_launcher.py:16: SettingWithCopyWarning: \n",
      "A value is trying to be set on a copy of a slice from a DataFrame.\n",
      "Try using .loc[row_indexer,col_indexer] = value instead\n",
      "\n",
      "See the caveats in the documentation: https://pandas.pydata.org/pandas-docs/stable/user_guide/indexing.html#returning-a-view-versus-a-copy\n",
      "  app.launch_new_instance()\n",
      "//anaconda3/lib/python3.7/site-packages/ipykernel_launcher.py:17: SettingWithCopyWarning: \n",
      "A value is trying to be set on a copy of a slice from a DataFrame.\n",
      "Try using .loc[row_indexer,col_indexer] = value instead\n",
      "\n",
      "See the caveats in the documentation: https://pandas.pydata.org/pandas-docs/stable/user_guide/indexing.html#returning-a-view-versus-a-copy\n"
     ]
    }
   ],
   "source": [
    "OutputData(data2009,time ='2009',sex='man')"
   ]
  },
  {
   "cell_type": "code",
   "execution_count": 94,
   "metadata": {},
   "outputs": [
    {
     "name": "stdout",
     "output_type": "stream",
     "text": [
      "/Users/xiezhengqi/Desktop/data/dataprocessed/data2009model_2 女性.csv\n"
     ]
    },
    {
     "name": "stderr",
     "output_type": "stream",
     "text": [
      "//anaconda3/lib/python3.7/site-packages/ipykernel_launcher.py:13: SettingWithCopyWarning: \n",
      "A value is trying to be set on a copy of a slice from a DataFrame.\n",
      "Try using .loc[row_indexer,col_indexer] = value instead\n",
      "\n",
      "See the caveats in the documentation: https://pandas.pydata.org/pandas-docs/stable/user_guide/indexing.html#returning-a-view-versus-a-copy\n",
      "  del sys.path[0]\n",
      "//anaconda3/lib/python3.7/site-packages/ipykernel_launcher.py:14: SettingWithCopyWarning: \n",
      "A value is trying to be set on a copy of a slice from a DataFrame.\n",
      "Try using .loc[row_indexer,col_indexer] = value instead\n",
      "\n",
      "See the caveats in the documentation: https://pandas.pydata.org/pandas-docs/stable/user_guide/indexing.html#returning-a-view-versus-a-copy\n",
      "  \n",
      "//anaconda3/lib/python3.7/site-packages/ipykernel_launcher.py:16: SettingWithCopyWarning: \n",
      "A value is trying to be set on a copy of a slice from a DataFrame.\n",
      "Try using .loc[row_indexer,col_indexer] = value instead\n",
      "\n",
      "See the caveats in the documentation: https://pandas.pydata.org/pandas-docs/stable/user_guide/indexing.html#returning-a-view-versus-a-copy\n",
      "  app.launch_new_instance()\n",
      "//anaconda3/lib/python3.7/site-packages/ipykernel_launcher.py:17: SettingWithCopyWarning: \n",
      "A value is trying to be set on a copy of a slice from a DataFrame.\n",
      "Try using .loc[row_indexer,col_indexer] = value instead\n",
      "\n",
      "See the caveats in the documentation: https://pandas.pydata.org/pandas-docs/stable/user_guide/indexing.html#returning-a-view-versus-a-copy\n"
     ]
    }
   ],
   "source": [
    "OutputData(data2009,time ='2009',sex='woman')"
   ]
  },
  {
   "cell_type": "code",
   "execution_count": null,
   "metadata": {},
   "outputs": [],
   "source": []
  },
  {
   "cell_type": "markdown",
   "metadata": {},
   "source": [
    "## data2010"
   ]
  },
  {
   "cell_type": "code",
   "execution_count": 96,
   "metadata": {},
   "outputs": [
    {
     "name": "stdout",
     "output_type": "stream",
     "text": [
      "請注意長度\n",
      "['Location', 'Age', 'Sex', 'Happiness', 'Health', 'Work?', 'Work?(Mate)', 'Vocation', 'Income', 'Income(Mate)', 'Marriage?', 'Education(Mate)', 'WorkHour', 'HouseworkHour', 'Satisfaction']\n"
     ]
    }
   ],
   "source": [
    "data2010 = LoadData('/Users/xiezhengqi/Desktop/data/data_csv/RR2010_c_v201308_stata.csv')\n",
    "data2010 = data2010[DataIndex['2010y']]\n",
    "newnamelist = ['Location','Age','Sex', 'Happiness', 'Health', 'Work?','Work?(Mate)', 'Vocation', 'Income','Income(Mate)',\n",
    "               'Marriage?','Education(Mate)', 'WorkHour', 'HouseworkHour','Satisfaction']\n",
    "data2010 = ChangeColumnNames(data2010,newnamelist)\n",
    "\n",
    "# 配偶工作 缺失 比例過高"
   ]
  },
  {
   "cell_type": "code",
   "execution_count": 99,
   "metadata": {},
   "outputs": [
    {
     "name": "stdout",
     "output_type": "stream",
     "text": [
      "Index(['2', '1', '3', '4', 'NaN'], dtype='object')\n",
      "Satisfaction\n"
     ]
    },
    {
     "name": "stdin",
     "output_type": "stream",
     "text": [
      "press aa to change other to skip : \n"
     ]
    },
    {
     "name": "stdout",
     "output_type": "stream",
     "text": [
      "\n",
      "\n",
      " --------------------------------------------------\n"
     ]
    }
   ],
   "source": [
    "data2010 = ChangeValueInColumns(data2010)"
   ]
  },
  {
   "cell_type": "code",
   "execution_count": 104,
   "metadata": {},
   "outputs": [
    {
     "data": {
      "text/plain": [
       "1 有     3629\n",
       "2 沒有    1444\n",
       "Name: Work?, dtype: int64"
      ]
     },
     "execution_count": 104,
     "metadata": {},
     "output_type": "execute_result"
    }
   ],
   "source": [
    "data2010['Work?'].value_counts()"
   ]
  },
  {
   "cell_type": "code",
   "execution_count": 105,
   "metadata": {},
   "outputs": [],
   "source": [
    "data2010['Work?'] = data2010['Work?'].replace({'1 有,從事有收入的工作':'1 有',\n",
    "                                               '2 有,從事無酬家屬工作,而且每週工作15小時以上,或每天工作3小時以上':'1 有',\n",
    "                                               '3 沒有':'2 沒有'})"
   ]
  },
  {
   "cell_type": "code",
   "execution_count": 106,
   "metadata": {},
   "outputs": [
    {
     "data": {
      "text/plain": [
       "NaN     2372\n",
       "1 有     1764\n",
       "2 沒有     937\n",
       "Name: Work?(Mate), dtype: int64"
      ]
     },
     "execution_count": 106,
     "metadata": {},
     "output_type": "execute_result"
    }
   ],
   "source": [
    "data2010['Work?(Mate)'].value_counts()"
   ]
  },
  {
   "cell_type": "code",
   "execution_count": 107,
   "metadata": {},
   "outputs": [],
   "source": [
    "data2010['Work?(Mate)'] = data2010['Work?(Mate)'].replace({'1 有,從事有收入的工作':'1 有',\n",
    "                                                           '2 有,從事無酬家屬工作,而且每週工作15小時以上,或每天工作3小時以上':'1 有',\n",
    "                                                           '3 沒有':'2 沒有',\n",
    "                                                           '8 拒答':'NaN',\n",
    "                                                           '6 不知道':'NaN',\n",
    "                                                           '0 不適用/跳答':'NaN'})"
   ]
  },
  {
   "cell_type": "code",
   "execution_count": null,
   "metadata": {},
   "outputs": [],
   "source": []
  },
  {
   "cell_type": "code",
   "execution_count": 142,
   "metadata": {},
   "outputs": [
    {
     "name": "stdout",
     "output_type": "stream",
     "text": [
      "/Users/xiezhengqi/Desktop/data/dataprocessed/data2010model_1 男性.csv\n"
     ]
    },
    {
     "name": "stderr",
     "output_type": "stream",
     "text": [
      "//anaconda3/lib/python3.7/site-packages/ipykernel_launcher.py:16: SettingWithCopyWarning: \n",
      "A value is trying to be set on a copy of a slice from a DataFrame.\n",
      "Try using .loc[row_indexer,col_indexer] = value instead\n",
      "\n",
      "See the caveats in the documentation: https://pandas.pydata.org/pandas-docs/stable/user_guide/indexing.html#returning-a-view-versus-a-copy\n",
      "  app.launch_new_instance()\n",
      "//anaconda3/lib/python3.7/site-packages/ipykernel_launcher.py:17: SettingWithCopyWarning: \n",
      "A value is trying to be set on a copy of a slice from a DataFrame.\n",
      "Try using .loc[row_indexer,col_indexer] = value instead\n",
      "\n",
      "See the caveats in the documentation: https://pandas.pydata.org/pandas-docs/stable/user_guide/indexing.html#returning-a-view-versus-a-copy\n",
      "//anaconda3/lib/python3.7/site-packages/ipykernel_launcher.py:19: SettingWithCopyWarning: \n",
      "A value is trying to be set on a copy of a slice from a DataFrame.\n",
      "Try using .loc[row_indexer,col_indexer] = value instead\n",
      "\n",
      "See the caveats in the documentation: https://pandas.pydata.org/pandas-docs/stable/user_guide/indexing.html#returning-a-view-versus-a-copy\n",
      "//anaconda3/lib/python3.7/site-packages/ipykernel_launcher.py:20: SettingWithCopyWarning: \n",
      "A value is trying to be set on a copy of a slice from a DataFrame.\n",
      "Try using .loc[row_indexer,col_indexer] = value instead\n",
      "\n",
      "See the caveats in the documentation: https://pandas.pydata.org/pandas-docs/stable/user_guide/indexing.html#returning-a-view-versus-a-copy\n"
     ]
    }
   ],
   "source": [
    "OutputData(data2010,time ='2010',sex='man')"
   ]
  },
  {
   "cell_type": "code",
   "execution_count": 143,
   "metadata": {},
   "outputs": [
    {
     "name": "stdout",
     "output_type": "stream",
     "text": [
      "/Users/xiezhengqi/Desktop/data/dataprocessed/data2010model_2 女性.csv\n"
     ]
    },
    {
     "name": "stderr",
     "output_type": "stream",
     "text": [
      "//anaconda3/lib/python3.7/site-packages/ipykernel_launcher.py:16: SettingWithCopyWarning: \n",
      "A value is trying to be set on a copy of a slice from a DataFrame.\n",
      "Try using .loc[row_indexer,col_indexer] = value instead\n",
      "\n",
      "See the caveats in the documentation: https://pandas.pydata.org/pandas-docs/stable/user_guide/indexing.html#returning-a-view-versus-a-copy\n",
      "  app.launch_new_instance()\n",
      "//anaconda3/lib/python3.7/site-packages/ipykernel_launcher.py:17: SettingWithCopyWarning: \n",
      "A value is trying to be set on a copy of a slice from a DataFrame.\n",
      "Try using .loc[row_indexer,col_indexer] = value instead\n",
      "\n",
      "See the caveats in the documentation: https://pandas.pydata.org/pandas-docs/stable/user_guide/indexing.html#returning-a-view-versus-a-copy\n",
      "//anaconda3/lib/python3.7/site-packages/ipykernel_launcher.py:19: SettingWithCopyWarning: \n",
      "A value is trying to be set on a copy of a slice from a DataFrame.\n",
      "Try using .loc[row_indexer,col_indexer] = value instead\n",
      "\n",
      "See the caveats in the documentation: https://pandas.pydata.org/pandas-docs/stable/user_guide/indexing.html#returning-a-view-versus-a-copy\n",
      "//anaconda3/lib/python3.7/site-packages/ipykernel_launcher.py:20: SettingWithCopyWarning: \n",
      "A value is trying to be set on a copy of a slice from a DataFrame.\n",
      "Try using .loc[row_indexer,col_indexer] = value instead\n",
      "\n",
      "See the caveats in the documentation: https://pandas.pydata.org/pandas-docs/stable/user_guide/indexing.html#returning-a-view-versus-a-copy\n"
     ]
    }
   ],
   "source": [
    "OutputData(data2010,time ='2010',sex='woman')"
   ]
  },
  {
   "cell_type": "code",
   "execution_count": null,
   "metadata": {},
   "outputs": [],
   "source": []
  },
  {
   "cell_type": "code",
   "execution_count": 11,
   "metadata": {},
   "outputs": [],
   "source": [
    "from sklearn.linear_model import LinearRegression\n",
    "import pandas as pd\n",
    "import numpy as np"
   ]
  },
  {
   "cell_type": "code",
   "execution_count": 12,
   "metadata": {},
   "outputs": [
    {
     "name": "stderr",
     "output_type": "stream",
     "text": [
      "//anaconda3/lib/python3.7/site-packages/pandas/core/frame.py:2963: SettingWithCopyWarning: \n",
      "A value is trying to be set on a copy of a slice from a DataFrame.\n",
      "Try using .loc[row_indexer,col_indexer] = value instead\n",
      "\n",
      "See the caveats in the documentation: https://pandas.pydata.org/pandas-docs/stable/user_guide/indexing.html#returning-a-view-versus-a-copy\n",
      "  self[k1] = value[k2]\n"
     ]
    }
   ],
   "source": [
    "\n",
    "df = df.loc[df['IncomeContributionRate'] !=  '雙方無收入',:]\n",
    "workdata = df[{'Work?Both':list(df['Work?Both'].value_counts().index)}]\n",
    "df[list(pd.get_dummies(workdata).columns)] = pd.get_dummies(workdata)\n",
    "\n",
    "edudata = df[{'Education(Mate)':list(df['Education(Mate)'].value_counts().index)}]\n",
    "df[list(pd.get_dummies(edudata).columns)] = pd.get_dummies(edudata)"
   ]
  },
  {
   "cell_type": "code",
   "execution_count": 13,
   "metadata": {},
   "outputs": [
    {
     "name": "stderr",
     "output_type": "stream",
     "text": [
      "//anaconda3/lib/python3.7/site-packages/pandas/core/generic.py:5303: SettingWithCopyWarning: \n",
      "A value is trying to be set on a copy of a slice from a DataFrame.\n",
      "Try using .loc[row_indexer,col_indexer] = value instead\n",
      "\n",
      "See the caveats in the documentation: https://pandas.pydata.org/pandas-docs/stable/user_guide/indexing.html#returning-a-view-versus-a-copy\n",
      "  self[name] = value\n"
     ]
    }
   ],
   "source": [
    "\n",
    "y = df.Satisfaction\n",
    "X = df[['Age','Happiness','Health','Income','Income(Mate)','WorkHour','HouseworkHour','IncomeContributionRate']\n",
    "       + list(pd.get_dummies(workdata).columns)\n",
    "       + list(pd.get_dummies(edudata).columns)]\n",
    "\n",
    "\n",
    "X.WorkHour = X.WorkHour.fillna(X.WorkHour.median())\n",
    "X.HouseworkHour = X.HouseworkHour.fillna(X.HouseworkHour.median())\n",
    "y =  y.fillna(y.median())"
   ]
  },
  {
   "cell_type": "code",
   "execution_count": 36,
   "metadata": {},
   "outputs": [],
   "source": [
    "# ans = LinearRegression().fit(X,y)\n",
    "# ans.score(X,y)\n",
    "\n"
   ]
  },
  {
   "cell_type": "code",
   "execution_count": 3,
   "metadata": {},
   "outputs": [],
   "source": [
    "df1 = pd.read_csv('/Users/xiezhengqi/Desktop/data/dataprocessed/data2008model_1 男性.csv')\n",
    "df2 = pd.read_csv('/Users/xiezhengqi/Desktop/data/dataprocessed/data2007model_1 男性.csv')\n",
    "df3 = pd.read_csv('/Users/xiezhengqi/Desktop/data/dataprocessed/data2009model_1 男性.csv')\n",
    "df4 = pd.read_csv('/Users/xiezhengqi/Desktop/data/dataprocessed/data2010model_1 男性.csv')"
   ]
  },
  {
   "cell_type": "code",
   "execution_count": 4,
   "metadata": {},
   "outputs": [
    {
     "data": {
      "text/html": [
       "<div>\n",
       "<style scoped>\n",
       "    .dataframe tbody tr th:only-of-type {\n",
       "        vertical-align: middle;\n",
       "    }\n",
       "\n",
       "    .dataframe tbody tr th {\n",
       "        vertical-align: top;\n",
       "    }\n",
       "\n",
       "    .dataframe thead th {\n",
       "        text-align: right;\n",
       "    }\n",
       "</style>\n",
       "<table border=\"1\" class=\"dataframe\">\n",
       "  <thead>\n",
       "    <tr style=\"text-align: right;\">\n",
       "      <th></th>\n",
       "      <th>Location</th>\n",
       "      <th>Age</th>\n",
       "      <th>Sex</th>\n",
       "      <th>Happiness</th>\n",
       "      <th>Health</th>\n",
       "      <th>Work?</th>\n",
       "      <th>Work?(Mate)</th>\n",
       "      <th>Vocation</th>\n",
       "      <th>Income</th>\n",
       "      <th>Income(Mate)</th>\n",
       "      <th>Marriage?</th>\n",
       "      <th>Education(Mate)</th>\n",
       "      <th>WorkHour</th>\n",
       "      <th>HouseworkHour</th>\n",
       "      <th>Satisfaction</th>\n",
       "      <th>IncomeContributionRate</th>\n",
       "      <th>Time</th>\n",
       "      <th>Work?Both</th>\n",
       "    </tr>\n",
       "  </thead>\n",
       "  <tbody>\n",
       "    <tr>\n",
       "      <th>0</th>\n",
       "      <td>台北</td>\n",
       "      <td>51.0</td>\n",
       "      <td>1 男性</td>\n",
       "      <td>4.0</td>\n",
       "      <td>2</td>\n",
       "      <td>1 有</td>\n",
       "      <td>1 有</td>\n",
       "      <td>062 零售業(包含電腦買賣,藥局,書局以及超商百貨)</td>\n",
       "      <td>55000.0</td>\n",
       "      <td>24917.0</td>\n",
       "      <td>03 已婚(第一次結婚)</td>\n",
       "      <td>08 高職</td>\n",
       "      <td>72.0</td>\n",
       "      <td>7.0</td>\n",
       "      <td>2</td>\n",
       "      <td>0.6882140220478746</td>\n",
       "      <td>2008</td>\n",
       "      <td>都有</td>\n",
       "    </tr>\n",
       "    <tr>\n",
       "      <th>1</th>\n",
       "      <td>高雄</td>\n",
       "      <td>51.0</td>\n",
       "      <td>1 男性</td>\n",
       "      <td>3.0</td>\n",
       "      <td>3</td>\n",
       "      <td>1 有</td>\n",
       "      <td>1 有</td>\n",
       "      <td>097 文化及康樂服務業</td>\n",
       "      <td>16000.0</td>\n",
       "      <td>25250.0</td>\n",
       "      <td>03 已婚(第一次結婚)</td>\n",
       "      <td>08 高職</td>\n",
       "      <td>40.0</td>\n",
       "      <td>2.0</td>\n",
       "      <td>2</td>\n",
       "      <td>0.3878787878787879</td>\n",
       "      <td>2008</td>\n",
       "      <td>都有</td>\n",
       "    </tr>\n",
       "    <tr>\n",
       "      <th>2</th>\n",
       "      <td>高雄</td>\n",
       "      <td>48.0</td>\n",
       "      <td>1 男性</td>\n",
       "      <td>4.0</td>\n",
       "      <td>3</td>\n",
       "      <td>1 有</td>\n",
       "      <td>2 沒有</td>\n",
       "      <td>000 跳答,不適用</td>\n",
       "      <td>25000.0</td>\n",
       "      <td>0.0</td>\n",
       "      <td>03 已婚(第一次結婚)</td>\n",
       "      <td>08 高職</td>\n",
       "      <td>44.0</td>\n",
       "      <td>8.0</td>\n",
       "      <td>2</td>\n",
       "      <td>1.0</td>\n",
       "      <td>2008</td>\n",
       "      <td>自己有</td>\n",
       "    </tr>\n",
       "    <tr>\n",
       "      <th>3</th>\n",
       "      <td>高雄</td>\n",
       "      <td>49.0</td>\n",
       "      <td>1 男性</td>\n",
       "      <td>4.0</td>\n",
       "      <td>3</td>\n",
       "      <td>1 有</td>\n",
       "      <td>2 沒有</td>\n",
       "      <td>000 跳答,不適用</td>\n",
       "      <td>33750.0</td>\n",
       "      <td>0.0</td>\n",
       "      <td>03 已婚(第一次結婚)</td>\n",
       "      <td>08 高職</td>\n",
       "      <td>40.0</td>\n",
       "      <td>3.0</td>\n",
       "      <td>1</td>\n",
       "      <td>1.0</td>\n",
       "      <td>2008</td>\n",
       "      <td>自己有</td>\n",
       "    </tr>\n",
       "    <tr>\n",
       "      <th>4</th>\n",
       "      <td>臺東</td>\n",
       "      <td>62.0</td>\n",
       "      <td>1 男性</td>\n",
       "      <td>7.0</td>\n",
       "      <td>1</td>\n",
       "      <td>1 有</td>\n",
       "      <td>1 有</td>\n",
       "      <td>000 跳答,不適用</td>\n",
       "      <td>61583.0</td>\n",
       "      <td>37125.0</td>\n",
       "      <td>03 已婚(第一次結婚)</td>\n",
       "      <td>13 大學</td>\n",
       "      <td>48.0</td>\n",
       "      <td>1.0</td>\n",
       "      <td>1</td>\n",
       "      <td>0.6238906674231065</td>\n",
       "      <td>2008</td>\n",
       "      <td>都有</td>\n",
       "    </tr>\n",
       "    <tr>\n",
       "      <th>...</th>\n",
       "      <td>...</td>\n",
       "      <td>...</td>\n",
       "      <td>...</td>\n",
       "      <td>...</td>\n",
       "      <td>...</td>\n",
       "      <td>...</td>\n",
       "      <td>...</td>\n",
       "      <td>...</td>\n",
       "      <td>...</td>\n",
       "      <td>...</td>\n",
       "      <td>...</td>\n",
       "      <td>...</td>\n",
       "      <td>...</td>\n",
       "      <td>...</td>\n",
       "      <td>...</td>\n",
       "      <td>...</td>\n",
       "      <td>...</td>\n",
       "      <td>...</td>\n",
       "    </tr>\n",
       "    <tr>\n",
       "      <th>1281</th>\n",
       "      <td>台北</td>\n",
       "      <td>26.0</td>\n",
       "      <td>1 男性</td>\n",
       "      <td>7.0</td>\n",
       "      <td>5</td>\n",
       "      <td>2 沒有</td>\n",
       "      <td>2 沒有</td>\n",
       "      <td>000 不適用/跳答</td>\n",
       "      <td>0.0</td>\n",
       "      <td>0.0</td>\n",
       "      <td>03 已婚(第一次結婚)</td>\n",
       "      <td>03 小學</td>\n",
       "      <td>NaN</td>\n",
       "      <td>0.0</td>\n",
       "      <td>2</td>\n",
       "      <td>雙方無收入</td>\n",
       "      <td>2010</td>\n",
       "      <td>都沒有</td>\n",
       "    </tr>\n",
       "    <tr>\n",
       "      <th>1282</th>\n",
       "      <td>花蓮</td>\n",
       "      <td>71.0</td>\n",
       "      <td>1 男性</td>\n",
       "      <td>4.0</td>\n",
       "      <td>3</td>\n",
       "      <td>1 有</td>\n",
       "      <td>2 沒有</td>\n",
       "      <td>043 專門營造業</td>\n",
       "      <td>20000.0</td>\n",
       "      <td>0.0</td>\n",
       "      <td>03 已婚(第一次結婚)</td>\n",
       "      <td>08 高職</td>\n",
       "      <td>16.0</td>\n",
       "      <td>5.0</td>\n",
       "      <td>2</td>\n",
       "      <td>1.0</td>\n",
       "      <td>2010</td>\n",
       "      <td>自己有</td>\n",
       "    </tr>\n",
       "    <tr>\n",
       "      <th>1283</th>\n",
       "      <td>花蓮</td>\n",
       "      <td>67.0</td>\n",
       "      <td>1 男性</td>\n",
       "      <td>5.0</td>\n",
       "      <td>3</td>\n",
       "      <td>1 有</td>\n",
       "      <td>1 有</td>\n",
       "      <td>000 不適用/跳答</td>\n",
       "      <td>40000.0</td>\n",
       "      <td>20000.0</td>\n",
       "      <td>03 已婚(第一次結婚)</td>\n",
       "      <td>10 二專</td>\n",
       "      <td>48.0</td>\n",
       "      <td>8.0</td>\n",
       "      <td>1</td>\n",
       "      <td>0.6666666666666666</td>\n",
       "      <td>2010</td>\n",
       "      <td>都有</td>\n",
       "    </tr>\n",
       "    <tr>\n",
       "      <th>1284</th>\n",
       "      <td>花蓮</td>\n",
       "      <td>66.0</td>\n",
       "      <td>1 男性</td>\n",
       "      <td>2.0</td>\n",
       "      <td>3</td>\n",
       "      <td>1 有</td>\n",
       "      <td>1 有</td>\n",
       "      <td>039 污染整治業</td>\n",
       "      <td>25500.0</td>\n",
       "      <td>18000.0</td>\n",
       "      <td>03 已婚(第一次結婚)</td>\n",
       "      <td>08 高職</td>\n",
       "      <td>57.0</td>\n",
       "      <td>4.0</td>\n",
       "      <td>3</td>\n",
       "      <td>0.5862068965517241</td>\n",
       "      <td>2010</td>\n",
       "      <td>都有</td>\n",
       "    </tr>\n",
       "    <tr>\n",
       "      <th>1285</th>\n",
       "      <td>花蓮</td>\n",
       "      <td>68.0</td>\n",
       "      <td>1 男性</td>\n",
       "      <td>5.0</td>\n",
       "      <td>2</td>\n",
       "      <td>2 沒有</td>\n",
       "      <td>2 沒有</td>\n",
       "      <td>000 不適用/跳答</td>\n",
       "      <td>0.0</td>\n",
       "      <td>0.0</td>\n",
       "      <td>03 已婚(第一次結婚)</td>\n",
       "      <td>04 初(國)中</td>\n",
       "      <td>NaN</td>\n",
       "      <td>0.0</td>\n",
       "      <td>1</td>\n",
       "      <td>雙方無收入</td>\n",
       "      <td>2010</td>\n",
       "      <td>都沒有</td>\n",
       "    </tr>\n",
       "  </tbody>\n",
       "</table>\n",
       "<p>4545 rows × 18 columns</p>\n",
       "</div>"
      ],
      "text/plain": [
       "     Location   Age   Sex  Happiness  Health Work? Work?(Mate)  \\\n",
       "0          台北  51.0  1 男性        4.0       2   1 有         1 有   \n",
       "1          高雄  51.0  1 男性        3.0       3   1 有         1 有   \n",
       "2          高雄  48.0  1 男性        4.0       3   1 有        2 沒有   \n",
       "3          高雄  49.0  1 男性        4.0       3   1 有        2 沒有   \n",
       "4          臺東  62.0  1 男性        7.0       1   1 有         1 有   \n",
       "...       ...   ...   ...        ...     ...   ...         ...   \n",
       "1281       台北  26.0  1 男性        7.0       5  2 沒有        2 沒有   \n",
       "1282       花蓮  71.0  1 男性        4.0       3   1 有        2 沒有   \n",
       "1283       花蓮  67.0  1 男性        5.0       3   1 有         1 有   \n",
       "1284       花蓮  66.0  1 男性        2.0       3   1 有         1 有   \n",
       "1285       花蓮  68.0  1 男性        5.0       2  2 沒有        2 沒有   \n",
       "\n",
       "                         Vocation   Income  Income(Mate)     Marriage?  \\\n",
       "0     062 零售業(包含電腦買賣,藥局,書局以及超商百貨)  55000.0       24917.0  03 已婚(第一次結婚)   \n",
       "1                    097 文化及康樂服務業  16000.0       25250.0  03 已婚(第一次結婚)   \n",
       "2                      000 跳答,不適用  25000.0           0.0  03 已婚(第一次結婚)   \n",
       "3                      000 跳答,不適用  33750.0           0.0  03 已婚(第一次結婚)   \n",
       "4                      000 跳答,不適用  61583.0       37125.0  03 已婚(第一次結婚)   \n",
       "...                           ...      ...           ...           ...   \n",
       "1281                   000 不適用/跳答      0.0           0.0  03 已婚(第一次結婚)   \n",
       "1282                    043 專門營造業  20000.0           0.0  03 已婚(第一次結婚)   \n",
       "1283                   000 不適用/跳答  40000.0       20000.0  03 已婚(第一次結婚)   \n",
       "1284                    039 污染整治業  25500.0       18000.0  03 已婚(第一次結婚)   \n",
       "1285                   000 不適用/跳答      0.0           0.0  03 已婚(第一次結婚)   \n",
       "\n",
       "     Education(Mate)  WorkHour  HouseworkHour  Satisfaction  \\\n",
       "0              08 高職      72.0            7.0             2   \n",
       "1              08 高職      40.0            2.0             2   \n",
       "2              08 高職      44.0            8.0             2   \n",
       "3              08 高職      40.0            3.0             1   \n",
       "4              13 大學      48.0            1.0             1   \n",
       "...              ...       ...            ...           ...   \n",
       "1281           03 小學       NaN            0.0             2   \n",
       "1282           08 高職      16.0            5.0             2   \n",
       "1283           10 二專      48.0            8.0             1   \n",
       "1284           08 高職      57.0            4.0             3   \n",
       "1285        04 初(國)中       NaN            0.0             1   \n",
       "\n",
       "     IncomeContributionRate  Time Work?Both  \n",
       "0        0.6882140220478746  2008        都有  \n",
       "1        0.3878787878787879  2008        都有  \n",
       "2                       1.0  2008       自己有  \n",
       "3                       1.0  2008       自己有  \n",
       "4        0.6238906674231065  2008        都有  \n",
       "...                     ...   ...       ...  \n",
       "1281                  雙方無收入  2010       都沒有  \n",
       "1282                    1.0  2010       自己有  \n",
       "1283     0.6666666666666666  2010        都有  \n",
       "1284     0.5862068965517241  2010        都有  \n",
       "1285                  雙方無收入  2010       都沒有  \n",
       "\n",
       "[4545 rows x 18 columns]"
      ]
     },
     "execution_count": 4,
     "metadata": {},
     "output_type": "execute_result"
    }
   ],
   "source": [
    "df = pd.concat([df1,df2,df3,df4])\n",
    "df = df.iloc[:, 1:]\n",
    "df"
   ]
  },
  {
   "cell_type": "code",
   "execution_count": 5,
   "metadata": {},
   "outputs": [],
   "source": [
    "locationdata = df[{'Location':list(df['Location'].value_counts().index)}]\n",
    "df[list(pd.get_dummies(locationdata).columns)] = pd.get_dummies(locationdata)"
   ]
  },
  {
   "cell_type": "code",
   "execution_count": 6,
   "metadata": {},
   "outputs": [],
   "source": [
    "df.loc[(df['Age'] >= 65),'AgeClass'] = '65 ~ '\n",
    "df.loc[(df['Age'] >= 25) & (df['Age'] < 35),'AgeClass'] = '25 ~ 35'\n",
    "df.loc[(df['Age'] >= 35) & (df['Age'] < 43),'AgeClass'] = '35 ~ 43'\n",
    "df.loc[(df['Age'] >= 43) & (df['Age'] < 54),'AgeClass'] = '43 ~ 54'\n",
    "df.loc[(df['Age'] >= 54) & (df['Age'] < 56),'AgeClass'] = '54 ~ 65'\n",
    "agedata = df[{'AgeClass':list(df['AgeClass'].value_counts().index)}]\n",
    "df[list(pd.get_dummies(agedata).columns)] = pd.get_dummies(agedata)"
   ]
  },
  {
   "cell_type": "code",
   "execution_count": null,
   "metadata": {},
   "outputs": [],
   "source": []
  },
  {
   "cell_type": "code",
   "execution_count": null,
   "metadata": {},
   "outputs": [],
   "source": []
  },
  {
   "cell_type": "code",
   "execution_count": 7,
   "metadata": {},
   "outputs": [],
   "source": [
    "df.loc[:, 'FamilyIncome'] = df.loc[:,'Income'] + df.loc[:,'Income(Mate)']"
   ]
  },
  {
   "cell_type": "code",
   "execution_count": 8,
   "metadata": {},
   "outputs": [],
   "source": [
    "df.loc[(df['FamilyIncome'] >= 200000),'FamilyIncomeClass'] = ' > 200,000'\n",
    "df.loc[(df['FamilyIncome'] >= 150000) & (df['FamilyIncome'] < 200000),'FamilyIncomeClass'] = '150,000 ~ 200,000'\n",
    "df.loc[(df['FamilyIncome'] >= 100000) & (df['FamilyIncome'] < 150000),'FamilyIncomeClass'] = '100,000 ~ 150,000'\n",
    "df.loc[(df['FamilyIncome'] >= 50000) & (df['FamilyIncome'] < 100000),'FamilyIncomeClass'] = '50,000 ~ 100,000'\n",
    "df.loc[(df['FamilyIncome'] >= 0) & (df['FamilyIncome'] < 50000),'FamilyIncomeClass'] = '0 ~ 50,000'\n",
    "\n",
    "\n",
    "incomedata = df[{'FamilyIncomeClass':list(df['FamilyIncomeClass'].value_counts().index)}]\n",
    "df[list(pd.get_dummies(incomedata).columns)] = pd.get_dummies(incomedata)"
   ]
  },
  {
   "cell_type": "code",
   "execution_count": 9,
   "metadata": {},
   "outputs": [],
   "source": [
    "df.to_csv('/Users/xiezhengqi/Desktop/data/dataprocessed/2007-2010_man.csv', chunksize=30, index_label = None)"
   ]
  },
  {
   "cell_type": "code",
   "execution_count": 10,
   "metadata": {},
   "outputs": [
    {
     "data": {
      "text/html": [
       "<div>\n",
       "<style scoped>\n",
       "    .dataframe tbody tr th:only-of-type {\n",
       "        vertical-align: middle;\n",
       "    }\n",
       "\n",
       "    .dataframe tbody tr th {\n",
       "        vertical-align: top;\n",
       "    }\n",
       "\n",
       "    .dataframe thead th {\n",
       "        text-align: right;\n",
       "    }\n",
       "</style>\n",
       "<table border=\"1\" class=\"dataframe\">\n",
       "  <thead>\n",
       "    <tr style=\"text-align: right;\">\n",
       "      <th></th>\n",
       "      <th>Location</th>\n",
       "      <th>Age</th>\n",
       "      <th>Sex</th>\n",
       "      <th>Happiness</th>\n",
       "      <th>Health</th>\n",
       "      <th>Work?</th>\n",
       "      <th>Work?(Mate)</th>\n",
       "      <th>Vocation</th>\n",
       "      <th>Income</th>\n",
       "      <th>Income(Mate)</th>\n",
       "      <th>...</th>\n",
       "      <th>AgeClass_43 ~ 54</th>\n",
       "      <th>AgeClass_54 ~ 65</th>\n",
       "      <th>AgeClass_65 ~</th>\n",
       "      <th>FamilyIncome</th>\n",
       "      <th>FamilyIncomeClass</th>\n",
       "      <th>FamilyIncomeClass_ &gt; 200,000</th>\n",
       "      <th>FamilyIncomeClass_0 ~ 50,000</th>\n",
       "      <th>FamilyIncomeClass_100,000 ~ 150,000</th>\n",
       "      <th>FamilyIncomeClass_150,000 ~ 200,000</th>\n",
       "      <th>FamilyIncomeClass_50,000 ~ 100,000</th>\n",
       "    </tr>\n",
       "  </thead>\n",
       "  <tbody>\n",
       "    <tr>\n",
       "      <th>0</th>\n",
       "      <td>台北</td>\n",
       "      <td>51.0</td>\n",
       "      <td>1 男性</td>\n",
       "      <td>4.0</td>\n",
       "      <td>2</td>\n",
       "      <td>1 有</td>\n",
       "      <td>1 有</td>\n",
       "      <td>062 零售業(包含電腦買賣,藥局,書局以及超商百貨)</td>\n",
       "      <td>55000.0</td>\n",
       "      <td>24917.0</td>\n",
       "      <td>...</td>\n",
       "      <td>1</td>\n",
       "      <td>0</td>\n",
       "      <td>0</td>\n",
       "      <td>79917.0</td>\n",
       "      <td>50,000 ~ 100,000</td>\n",
       "      <td>0</td>\n",
       "      <td>0</td>\n",
       "      <td>0</td>\n",
       "      <td>0</td>\n",
       "      <td>1</td>\n",
       "    </tr>\n",
       "    <tr>\n",
       "      <th>1</th>\n",
       "      <td>高雄</td>\n",
       "      <td>51.0</td>\n",
       "      <td>1 男性</td>\n",
       "      <td>3.0</td>\n",
       "      <td>3</td>\n",
       "      <td>1 有</td>\n",
       "      <td>1 有</td>\n",
       "      <td>097 文化及康樂服務業</td>\n",
       "      <td>16000.0</td>\n",
       "      <td>25250.0</td>\n",
       "      <td>...</td>\n",
       "      <td>1</td>\n",
       "      <td>0</td>\n",
       "      <td>0</td>\n",
       "      <td>41250.0</td>\n",
       "      <td>0 ~ 50,000</td>\n",
       "      <td>0</td>\n",
       "      <td>1</td>\n",
       "      <td>0</td>\n",
       "      <td>0</td>\n",
       "      <td>0</td>\n",
       "    </tr>\n",
       "    <tr>\n",
       "      <th>2</th>\n",
       "      <td>高雄</td>\n",
       "      <td>48.0</td>\n",
       "      <td>1 男性</td>\n",
       "      <td>4.0</td>\n",
       "      <td>3</td>\n",
       "      <td>1 有</td>\n",
       "      <td>2 沒有</td>\n",
       "      <td>000 跳答,不適用</td>\n",
       "      <td>25000.0</td>\n",
       "      <td>0.0</td>\n",
       "      <td>...</td>\n",
       "      <td>1</td>\n",
       "      <td>0</td>\n",
       "      <td>0</td>\n",
       "      <td>25000.0</td>\n",
       "      <td>0 ~ 50,000</td>\n",
       "      <td>0</td>\n",
       "      <td>1</td>\n",
       "      <td>0</td>\n",
       "      <td>0</td>\n",
       "      <td>0</td>\n",
       "    </tr>\n",
       "    <tr>\n",
       "      <th>3</th>\n",
       "      <td>高雄</td>\n",
       "      <td>49.0</td>\n",
       "      <td>1 男性</td>\n",
       "      <td>4.0</td>\n",
       "      <td>3</td>\n",
       "      <td>1 有</td>\n",
       "      <td>2 沒有</td>\n",
       "      <td>000 跳答,不適用</td>\n",
       "      <td>33750.0</td>\n",
       "      <td>0.0</td>\n",
       "      <td>...</td>\n",
       "      <td>1</td>\n",
       "      <td>0</td>\n",
       "      <td>0</td>\n",
       "      <td>33750.0</td>\n",
       "      <td>0 ~ 50,000</td>\n",
       "      <td>0</td>\n",
       "      <td>1</td>\n",
       "      <td>0</td>\n",
       "      <td>0</td>\n",
       "      <td>0</td>\n",
       "    </tr>\n",
       "    <tr>\n",
       "      <th>4</th>\n",
       "      <td>臺東</td>\n",
       "      <td>62.0</td>\n",
       "      <td>1 男性</td>\n",
       "      <td>7.0</td>\n",
       "      <td>1</td>\n",
       "      <td>1 有</td>\n",
       "      <td>1 有</td>\n",
       "      <td>000 跳答,不適用</td>\n",
       "      <td>61583.0</td>\n",
       "      <td>37125.0</td>\n",
       "      <td>...</td>\n",
       "      <td>0</td>\n",
       "      <td>0</td>\n",
       "      <td>0</td>\n",
       "      <td>98708.0</td>\n",
       "      <td>50,000 ~ 100,000</td>\n",
       "      <td>0</td>\n",
       "      <td>0</td>\n",
       "      <td>0</td>\n",
       "      <td>0</td>\n",
       "      <td>1</td>\n",
       "    </tr>\n",
       "    <tr>\n",
       "      <th>...</th>\n",
       "      <td>...</td>\n",
       "      <td>...</td>\n",
       "      <td>...</td>\n",
       "      <td>...</td>\n",
       "      <td>...</td>\n",
       "      <td>...</td>\n",
       "      <td>...</td>\n",
       "      <td>...</td>\n",
       "      <td>...</td>\n",
       "      <td>...</td>\n",
       "      <td>...</td>\n",
       "      <td>...</td>\n",
       "      <td>...</td>\n",
       "      <td>...</td>\n",
       "      <td>...</td>\n",
       "      <td>...</td>\n",
       "      <td>...</td>\n",
       "      <td>...</td>\n",
       "      <td>...</td>\n",
       "      <td>...</td>\n",
       "      <td>...</td>\n",
       "    </tr>\n",
       "    <tr>\n",
       "      <th>1281</th>\n",
       "      <td>台北</td>\n",
       "      <td>26.0</td>\n",
       "      <td>1 男性</td>\n",
       "      <td>7.0</td>\n",
       "      <td>5</td>\n",
       "      <td>2 沒有</td>\n",
       "      <td>2 沒有</td>\n",
       "      <td>000 不適用/跳答</td>\n",
       "      <td>0.0</td>\n",
       "      <td>0.0</td>\n",
       "      <td>...</td>\n",
       "      <td>0</td>\n",
       "      <td>0</td>\n",
       "      <td>0</td>\n",
       "      <td>0.0</td>\n",
       "      <td>0 ~ 50,000</td>\n",
       "      <td>0</td>\n",
       "      <td>1</td>\n",
       "      <td>0</td>\n",
       "      <td>0</td>\n",
       "      <td>0</td>\n",
       "    </tr>\n",
       "    <tr>\n",
       "      <th>1282</th>\n",
       "      <td>花蓮</td>\n",
       "      <td>71.0</td>\n",
       "      <td>1 男性</td>\n",
       "      <td>4.0</td>\n",
       "      <td>3</td>\n",
       "      <td>1 有</td>\n",
       "      <td>2 沒有</td>\n",
       "      <td>043 專門營造業</td>\n",
       "      <td>20000.0</td>\n",
       "      <td>0.0</td>\n",
       "      <td>...</td>\n",
       "      <td>0</td>\n",
       "      <td>0</td>\n",
       "      <td>1</td>\n",
       "      <td>20000.0</td>\n",
       "      <td>0 ~ 50,000</td>\n",
       "      <td>0</td>\n",
       "      <td>1</td>\n",
       "      <td>0</td>\n",
       "      <td>0</td>\n",
       "      <td>0</td>\n",
       "    </tr>\n",
       "    <tr>\n",
       "      <th>1283</th>\n",
       "      <td>花蓮</td>\n",
       "      <td>67.0</td>\n",
       "      <td>1 男性</td>\n",
       "      <td>5.0</td>\n",
       "      <td>3</td>\n",
       "      <td>1 有</td>\n",
       "      <td>1 有</td>\n",
       "      <td>000 不適用/跳答</td>\n",
       "      <td>40000.0</td>\n",
       "      <td>20000.0</td>\n",
       "      <td>...</td>\n",
       "      <td>0</td>\n",
       "      <td>0</td>\n",
       "      <td>1</td>\n",
       "      <td>60000.0</td>\n",
       "      <td>50,000 ~ 100,000</td>\n",
       "      <td>0</td>\n",
       "      <td>0</td>\n",
       "      <td>0</td>\n",
       "      <td>0</td>\n",
       "      <td>1</td>\n",
       "    </tr>\n",
       "    <tr>\n",
       "      <th>1284</th>\n",
       "      <td>花蓮</td>\n",
       "      <td>66.0</td>\n",
       "      <td>1 男性</td>\n",
       "      <td>2.0</td>\n",
       "      <td>3</td>\n",
       "      <td>1 有</td>\n",
       "      <td>1 有</td>\n",
       "      <td>039 污染整治業</td>\n",
       "      <td>25500.0</td>\n",
       "      <td>18000.0</td>\n",
       "      <td>...</td>\n",
       "      <td>0</td>\n",
       "      <td>0</td>\n",
       "      <td>1</td>\n",
       "      <td>43500.0</td>\n",
       "      <td>0 ~ 50,000</td>\n",
       "      <td>0</td>\n",
       "      <td>1</td>\n",
       "      <td>0</td>\n",
       "      <td>0</td>\n",
       "      <td>0</td>\n",
       "    </tr>\n",
       "    <tr>\n",
       "      <th>1285</th>\n",
       "      <td>花蓮</td>\n",
       "      <td>68.0</td>\n",
       "      <td>1 男性</td>\n",
       "      <td>5.0</td>\n",
       "      <td>2</td>\n",
       "      <td>2 沒有</td>\n",
       "      <td>2 沒有</td>\n",
       "      <td>000 不適用/跳答</td>\n",
       "      <td>0.0</td>\n",
       "      <td>0.0</td>\n",
       "      <td>...</td>\n",
       "      <td>0</td>\n",
       "      <td>0</td>\n",
       "      <td>1</td>\n",
       "      <td>0.0</td>\n",
       "      <td>0 ~ 50,000</td>\n",
       "      <td>0</td>\n",
       "      <td>1</td>\n",
       "      <td>0</td>\n",
       "      <td>0</td>\n",
       "      <td>0</td>\n",
       "    </tr>\n",
       "  </tbody>\n",
       "</table>\n",
       "<p>4545 rows × 51 columns</p>\n",
       "</div>"
      ],
      "text/plain": [
       "     Location   Age   Sex  Happiness  Health Work? Work?(Mate)  \\\n",
       "0          台北  51.0  1 男性        4.0       2   1 有         1 有   \n",
       "1          高雄  51.0  1 男性        3.0       3   1 有         1 有   \n",
       "2          高雄  48.0  1 男性        4.0       3   1 有        2 沒有   \n",
       "3          高雄  49.0  1 男性        4.0       3   1 有        2 沒有   \n",
       "4          臺東  62.0  1 男性        7.0       1   1 有         1 有   \n",
       "...       ...   ...   ...        ...     ...   ...         ...   \n",
       "1281       台北  26.0  1 男性        7.0       5  2 沒有        2 沒有   \n",
       "1282       花蓮  71.0  1 男性        4.0       3   1 有        2 沒有   \n",
       "1283       花蓮  67.0  1 男性        5.0       3   1 有         1 有   \n",
       "1284       花蓮  66.0  1 男性        2.0       3   1 有         1 有   \n",
       "1285       花蓮  68.0  1 男性        5.0       2  2 沒有        2 沒有   \n",
       "\n",
       "                         Vocation   Income  Income(Mate)  ...  \\\n",
       "0     062 零售業(包含電腦買賣,藥局,書局以及超商百貨)  55000.0       24917.0  ...   \n",
       "1                    097 文化及康樂服務業  16000.0       25250.0  ...   \n",
       "2                      000 跳答,不適用  25000.0           0.0  ...   \n",
       "3                      000 跳答,不適用  33750.0           0.0  ...   \n",
       "4                      000 跳答,不適用  61583.0       37125.0  ...   \n",
       "...                           ...      ...           ...  ...   \n",
       "1281                   000 不適用/跳答      0.0           0.0  ...   \n",
       "1282                    043 專門營造業  20000.0           0.0  ...   \n",
       "1283                   000 不適用/跳答  40000.0       20000.0  ...   \n",
       "1284                    039 污染整治業  25500.0       18000.0  ...   \n",
       "1285                   000 不適用/跳答      0.0           0.0  ...   \n",
       "\n",
       "     AgeClass_43 ~ 54 AgeClass_54 ~ 65  AgeClass_65 ~   FamilyIncome  \\\n",
       "0                   1                0               0       79917.0   \n",
       "1                   1                0               0       41250.0   \n",
       "2                   1                0               0       25000.0   \n",
       "3                   1                0               0       33750.0   \n",
       "4                   0                0               0       98708.0   \n",
       "...               ...              ...             ...           ...   \n",
       "1281                0                0               0           0.0   \n",
       "1282                0                0               1       20000.0   \n",
       "1283                0                0               1       60000.0   \n",
       "1284                0                0               1       43500.0   \n",
       "1285                0                0               1           0.0   \n",
       "\n",
       "      FamilyIncomeClass FamilyIncomeClass_ > 200,000  \\\n",
       "0      50,000 ~ 100,000                            0   \n",
       "1            0 ~ 50,000                            0   \n",
       "2            0 ~ 50,000                            0   \n",
       "3            0 ~ 50,000                            0   \n",
       "4      50,000 ~ 100,000                            0   \n",
       "...                 ...                          ...   \n",
       "1281         0 ~ 50,000                            0   \n",
       "1282         0 ~ 50,000                            0   \n",
       "1283   50,000 ~ 100,000                            0   \n",
       "1284         0 ~ 50,000                            0   \n",
       "1285         0 ~ 50,000                            0   \n",
       "\n",
       "      FamilyIncomeClass_0 ~ 50,000 FamilyIncomeClass_100,000 ~ 150,000  \\\n",
       "0                                0                                   0   \n",
       "1                                1                                   0   \n",
       "2                                1                                   0   \n",
       "3                                1                                   0   \n",
       "4                                0                                   0   \n",
       "...                            ...                                 ...   \n",
       "1281                             1                                   0   \n",
       "1282                             1                                   0   \n",
       "1283                             0                                   0   \n",
       "1284                             1                                   0   \n",
       "1285                             1                                   0   \n",
       "\n",
       "      FamilyIncomeClass_150,000 ~ 200,000  FamilyIncomeClass_50,000 ~ 100,000  \n",
       "0                                       0                                   1  \n",
       "1                                       0                                   0  \n",
       "2                                       0                                   0  \n",
       "3                                       0                                   0  \n",
       "4                                       0                                   1  \n",
       "...                                   ...                                 ...  \n",
       "1281                                    0                                   0  \n",
       "1282                                    0                                   0  \n",
       "1283                                    0                                   1  \n",
       "1284                                    0                                   0  \n",
       "1285                                    0                                   0  \n",
       "\n",
       "[4545 rows x 51 columns]"
      ]
     },
     "execution_count": 10,
     "metadata": {},
     "output_type": "execute_result"
    }
   ],
   "source": [
    "df"
   ]
  },
  {
   "cell_type": "code",
   "execution_count": 11,
   "metadata": {},
   "outputs": [
    {
     "data": {
      "text/plain": [
       "0 ~ 50,000           2704\n",
       "50,000 ~ 100,000     1311\n",
       "100,000 ~ 150,000     366\n",
       "150,000 ~ 200,000      87\n",
       " > 200,000             77\n",
       "Name: FamilyIncomeClass, dtype: int64"
      ]
     },
     "execution_count": 11,
     "metadata": {},
     "output_type": "execute_result"
    }
   ],
   "source": [
    "df.FamilyIncomeClass.value_counts()"
   ]
  },
  {
   "cell_type": "code",
   "execution_count": 12,
   "metadata": {},
   "outputs": [],
   "source": [
    "df = pd.read_csv('/Users/xiezhengqi/Desktop/data/dataprocessed/2007-2010_man.csv')\n",
    "df1 = pd.read_csv('/Users/xiezhengqi/Desktop/data/dataprocessed/2007-2010.csv')"
   ]
  },
  {
   "cell_type": "code",
   "execution_count": 13,
   "metadata": {},
   "outputs": [],
   "source": [
    "df2 = pd.concat([df, df1])"
   ]
  },
  {
   "cell_type": "code",
   "execution_count": 17,
   "metadata": {},
   "outputs": [],
   "source": [
    "df2.index = range(len(df2.index))"
   ]
  },
  {
   "cell_type": "code",
   "execution_count": null,
   "metadata": {},
   "outputs": [],
   "source": []
  }
 ],
 "metadata": {
  "kernelspec": {
   "display_name": "Python 3",
   "language": "python",
   "name": "python3"
  },
  "language_info": {
   "codemirror_mode": {
    "name": "ipython",
    "version": 3
   },
   "file_extension": ".py",
   "mimetype": "text/x-python",
   "name": "python",
   "nbconvert_exporter": "python",
   "pygments_lexer": "ipython3",
   "version": "3.7.3"
  }
 },
 "nbformat": 4,
 "nbformat_minor": 4
}
