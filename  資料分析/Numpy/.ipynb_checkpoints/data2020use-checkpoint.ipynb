{
 "cells": [
  {
   "cell_type": "code",
   "execution_count": 1,
   "metadata": {},
   "outputs": [],
   "source": [
    "import pandas as pd\n",
    "import numpy as np\n",
    "\n"
   ]
  },
  {
   "cell_type": "code",
   "execution_count": 2,
   "metadata": {},
   "outputs": [],
   "source": [
    "DataIndex = {\n",
    "    '2007y' : ['x01b', 'a01', 'a03a', 'a03b','a04a','a10b','a11a',\"a19\",'a20','a25b','a26a','d01a','d01b','d07e'],\n",
    "    '2008y' : ['x01b', 'a01', 'a03a', 'a03b','a04a','a10b','a11a',\"a19\",'a20','a25b','a26a','c01a','c01b','c07b'],\n",
    "    '2009y' : ['x01b', 'a01', 'a03a', 'a03b','a03c', 'a04a','a10a','a11a',\"a18\",'a19','a25a','a26a','c01a','c01b', 'd01e', 'c07b'],\n",
    "    '2010y' : ['x01b', 'a01', 'a03a', 'a03b','a03c', 'a04a','a10a','a11a',\"a18\",'a19','a25a','a26a','c01a','c01b', 'c07b'],\n",
    "    '2011y' : ['x01b', 'a01', 'a03a', 'a03b','a03c', 'a04a','a10a','a11a',\"a18\",'a19','a25a','a26a','c01a','c01b', 'c07b'],\n",
    "    '2012y' : ['x01b', 'a01', 'a03a', 'a03b','a03c', 'a04a','a10a','a11a',\"a18\",'a19','a25a','a26a'],\n",
    "    '2014y' : ['x01b', 'a01', 'a03a', 'a03b','a03c', 'a04a','a08a','a09B',\"a27\",'a28','a32a','a32B','c01a','c01b', 'c07b'],\n",
    "}"
   ]
  },
  {
   "cell_type": "code",
   "execution_count": null,
   "metadata": {},
   "outputs": [],
   "source": []
  },
  {
   "cell_type": "code",
   "execution_count": 3,
   "metadata": {},
   "outputs": [],
   "source": [
    "def LoadData(path, ColumnUChoose = None):\n",
    "    import pandas as pd\n",
    "    \n",
    "    df = pd.read_csv(path)\n",
    "    if ColumnUChoose != None:\n",
    "        data = df[ColumnUChoose].copy()\n",
    "    else:\n",
    "        data = df.copy()\n",
    "    return data\n"
   ]
  },
  {
   "cell_type": "code",
   "execution_count": 4,
   "metadata": {},
   "outputs": [],
   "source": [
    "def ChangeColumnNames(data):\n",
    "    import pandas as pd\n",
    "    \n",
    "    colnames =  data.columns\n",
    "    newcolumnlist = [] \n",
    "    for colname in colnames:\n",
    "        try:\n",
    "            new_colname = input(colname + '\\t changes to :(  or a enter to skip  )')\n",
    "            if new_colname == '':\n",
    "                 newcolumnlist.append(colname)\n",
    "            else:\n",
    "                newcolumnlist.append(new_colname)\n",
    "        except:        \n",
    "            print('error at  ' + colname)\n",
    "    print(newcolumnlist)\n",
    "    \n",
    "    newdi = dict(zip(colnames, newcolumnlist))\n",
    "    data = data.rename(columns = newdi)\n",
    "    return data"
   ]
  },
  {
   "cell_type": "code",
   "execution_count": 5,
   "metadata": {},
   "outputs": [],
   "source": [
    "def ValueInColumns(data):\n",
    "    import pandas as pd\n",
    "    \n",
    "    colnames =  data.columns\n",
    "    for colname in colnames:\n",
    "        print(data[colname].value_counts().index)\n"
   ]
  },
  {
   "cell_type": "code",
   "execution_count": 6,
   "metadata": {},
   "outputs": [],
   "source": [
    "def ChangeValueInColumns(data):\n",
    "    import pandas as pd\n",
    "    from IPython.display import clear_output ############################################\n",
    "    import time\n",
    "    colnames =  data.columns\n",
    "    for colname in colnames:\n",
    "        time.sleep(0.3)\n",
    "        clear_output() ############################################\n",
    "        print(data[colname].value_counts().index)\n",
    "        \n",
    "        values = data[colname].value_counts().index\n",
    "        choice = input('press aa to change other to skip :')\n",
    "        \n",
    "        if choice == 'aa':\n",
    "            print('\\n\\n\\n')\n",
    "\n",
    "            default_values = dict(zip(list(values),list(values))) \n",
    "            clean = 1\n",
    "            while True:\n",
    "                clean += 1\n",
    "                if clean % 2 == 0:\n",
    "                    time.sleep(0.4)\n",
    "                    clear_output() ############################################\n",
    "                count = 1\n",
    "                value1 = ''\n",
    "                for value in default_values.values():\n",
    "                    print(\"'\" + value + \"'\", end=', ')\n",
    "                    try:\n",
    "                        if len(value.split(' ')) > 1:\n",
    "                            if count == 1:\n",
    "                                value1 = value\n",
    "                                count += 1\n",
    "                            \n",
    "                    except:\n",
    "                        print(value + ' is error')\n",
    "\n",
    "                    \n",
    "                WantToChange = input('What value do U want to change :\\n(q1) to Exit \\n(aa)' + value1 +'\\n input:')\n",
    "                if WantToChange == 'aa':\n",
    "                    WantToChange = value1\n",
    "                if WantToChange in default_values.keys():\n",
    "                    ChangeValue = input('New Value : \\n(a1) ' + value1.split(' ')[0] \n",
    "                                       + '\\n(a11) NaN' + '\\n input:')\n",
    "                    if ChangeValue == 'a1':\n",
    "                        ChangeValue = value1.split(' ')[0]\n",
    "                    if ChangeValue == 'a11':\n",
    "                        ChangeValue = 'NaN'\n",
    "                        \n",
    "                    default_values[ WantToChange ] = ChangeValue\n",
    "                    \n",
    "                elif WantToChange == 'q1':\n",
    "                    break\n",
    "                \n",
    "                else: \n",
    "                    print('not in values!!!!!!!!!!!!!!!!!!!!!!')\n",
    "                \n",
    "\n",
    "                print('-'*50)\n",
    "                \n",
    "                    \n",
    "            data[colname] = data[colname].replace(default_values)\n",
    "            \n",
    "#             for value in values:\n",
    "#                 new_value = input(value + '\\t\\tchange to :(  or enter to skip)')\n",
    "#                 if new_value == '':\n",
    "#                     new_value_list.append(value)\n",
    "#                 else:\n",
    "#                     new_value_list.append(new_value)\n",
    "#             data[colname].replace(dict(zip(values, new_value_list)))\n",
    "            \n",
    "            \n",
    "        print('\\n\\n','-'*50)\n",
    "    return data"
   ]
  },
  {
   "cell_type": "code",
   "execution_count": null,
   "metadata": {},
   "outputs": [],
   "source": []
  },
  {
   "cell_type": "code",
   "execution_count": null,
   "metadata": {},
   "outputs": [],
   "source": []
  },
  {
   "cell_type": "markdown",
   "metadata": {},
   "source": [
    "## data2007"
   ]
  },
  {
   "cell_type": "code",
   "execution_count": 170,
   "metadata": {},
   "outputs": [
    {
     "name": "stderr",
     "output_type": "stream",
     "text": [
      "//anaconda3/lib/python3.7/site-packages/IPython/core/interactiveshell.py:3254: DtypeWarning: Columns (44,66,67,121,122,123,124,125,126,127,128,129,130,131,132,133,134,135,136,137,138,139,140,141,142,143,144,145,146,147,148,149,150,151,152,160,165,173,359,360,361,362) have mixed types.Specify dtype option on import or set low_memory=False.\n",
      "  if (await self.run_code(code, result,  async_=asy)):\n"
     ]
    },
    {
     "name": "stdin",
     "output_type": "stream",
     "text": [
      "x01b\t changes to :(  or a enter to skip  ) Age\n",
      "a01\t changes to :(  or a enter to skip  ) Sex\n",
      "a05\t changes to :(  or a enter to skip  ) Work?\n",
      "a21a\t changes to :(  or a enter to skip  ) Work?(Mate)\n",
      "a10b\t changes to :(  or a enter to skip  ) Income\n",
      "a25b\t changes to :(  or a enter to skip  ) Income(Mate)\n",
      "a16\t changes to :(  or a enter to skip  ) Marriage?\n",
      "a19\t changes to :(  or a enter to skip  ) Education(Mate)\n",
      "d01a\t changes to :(  or a enter to skip  ) HouseworkHour\n",
      "d07e\t changes to :(  or a enter to skip  ) Satisfaction\n"
     ]
    },
    {
     "name": "stdout",
     "output_type": "stream",
     "text": [
      "['Age', 'Sex', 'Work?', 'Work?(Mate)', 'Income', 'Income(Mate)', 'Marriage?', 'Education(Mate)', 'HouseworkHour', 'Satisfaction']\n"
     ]
    }
   ],
   "source": [
    "data2007 = LoadData('/Users/xiezhengqi/Desktop/data/data_csv/RR2007_c_V201101_stata.csv')# , ColumnUChoose=DataIndex['2007y']\n",
    "# data2007 = LoadData('/Users/xiezhengqi/Desktop/data/data2007.csv')\n",
    "data2007 = data2007.iloc[:,1:]\n",
    "data2007 = data2007[['x01b','a01','a05','a21a','a10b','a25b','a16','a19','d01a','d07e']]\n",
    "data2007 = ChangeColumnNames(data2007)\n",
    "\n",
    "# x01b : Age\n",
    "# a01  : Sex\n",
    "# a05  : Work?\n",
    "# a21a : Work?(Mate)\n",
    "# a10b : Income\n",
    "# a25b : Income(Mate)\n",
    "# a16  : Marriage?\n",
    "# a19  : Education(Mate)\n",
    "# d01a : HouseworkHour\n",
    "# d07e : Satisfaction\n",
    "\n"
   ]
  },
  {
   "cell_type": "code",
   "execution_count": 173,
   "metadata": {},
   "outputs": [
    {
     "name": "stdout",
     "output_type": "stream",
     "text": [
      "'2', '1', '3', '4', 'NaN', "
     ]
    },
    {
     "name": "stdin",
     "output_type": "stream",
     "text": [
      "What value do U want to change :\n",
      "(q1) to Exit \n",
      "(aa)\n",
      " input: q1\n"
     ]
    },
    {
     "name": "stdout",
     "output_type": "stream",
     "text": [
      "\n",
      "\n",
      " --------------------------------------------------\n",
      "Index(['2 1935-1954年出生之主樣本', '3 1964-1976年出生之主樣本', '1 1953-1964年出生之主樣本',\n",
      "       '4 1978-1979年出生之子女樣本', '5 1980年出生之子女樣本'],\n",
      "      dtype='object')\n",
      "Index(['1 男性', '2 女性'], dtype='object')\n",
      "Index(['1 有', '2 沒有'], dtype='object')\n",
      "Index(['1 有', 'NaN', '2 沒有'], dtype='object')\n",
      "Index(['0', '30000', '20000', '40000', '50000', '25000', '35000', '45000',\n",
      "       '15000', 'NaN',\n",
      "       ...\n",
      "       '36666', '22750', '28650', '30417', '35333', '31400', '32666', '27417',\n",
      "       '800000', '8300'],\n",
      "      dtype='object', length=425)\n",
      "Index(['0', '30000', 'NaN', '20000', '40000', '25000', '50000', '15000',\n",
      "       '35000', '45000',\n",
      "       ...\n",
      "       '25333', '393333', '25917', '5833', '21700', '46500', '56666', '118000',\n",
      "       '70375', '130000'],\n",
      "      dtype='object', length=273)\n",
      "Index(['03 已婚(第一次結婚)', '01 未婚', '08 喪偶', '07 離婚', '02 同居', '06 分居', '04 離婚再婚',\n",
      "       '05 喪偶再婚'],\n",
      "      dtype='object')\n",
      "Index(['00 不適用/跳答', '03 小學', '08 高職', '04 國中/初中', '13 大學', '10 二專', '01 無',\n",
      "       '06 高中普通科', '09 五專', '07 高中職業科', '14 碩士', '12 技術學院(科技大學)', '11 三專',\n",
      "       '02 自修', 'NaN', '15 博士', '97 其他'],\n",
      "      dtype='object')\n",
      "Index(['7', '0', '14', '2', '1', '21', '3', '4', '10', '28', '5', '35', '20',\n",
      "       '6', '30', '8', '15', '42', '12', '56', '25', '11', '18', '16', '40',\n",
      "       '70', '24', 'NaN', '60', '49', '48', '9', '50', '84', '64', '26', '29',\n",
      "       '72', '23', '45', '112', '120', '65', '91', '105', '34', '17', '100',\n",
      "       '36', '33', '32', '13', '63', '168', '44'],\n",
      "      dtype='object')\n",
      "Index(['2', '1', '3', '4', 'NaN'], dtype='object')\n"
     ]
    }
   ],
   "source": [
    "data2007 = ChangeValueInColumns(data2007)\n",
    "ValueInColumns(data2007)\n"
   ]
  },
  {
   "cell_type": "code",
   "execution_count": 184,
   "metadata": {},
   "outputs": [
    {
     "data": {
      "text/html": [
       "<div>\n",
       "<style scoped>\n",
       "    .dataframe tbody tr th:only-of-type {\n",
       "        vertical-align: middle;\n",
       "    }\n",
       "\n",
       "    .dataframe tbody tr th {\n",
       "        vertical-align: top;\n",
       "    }\n",
       "\n",
       "    .dataframe thead th {\n",
       "        text-align: right;\n",
       "    }\n",
       "</style>\n",
       "<table border=\"1\" class=\"dataframe\">\n",
       "  <thead>\n",
       "    <tr style=\"text-align: right;\">\n",
       "      <th></th>\n",
       "      <th>HouseworkHour</th>\n",
       "      <th>Age</th>\n",
       "      <th>Education(Mate)</th>\n",
       "      <th>Satisfaction</th>\n",
       "      <th>IncomeContributionRate</th>\n",
       "      <th>Time</th>\n",
       "      <th>Work?Both</th>\n",
       "    </tr>\n",
       "  </thead>\n",
       "  <tbody>\n",
       "    <tr>\n",
       "      <th>0</th>\n",
       "      <td>1</td>\n",
       "      <td>1 1953-1964年出生之主樣本</td>\n",
       "      <td>08 高職</td>\n",
       "      <td>3</td>\n",
       "      <td>0.643629</td>\n",
       "      <td>2007</td>\n",
       "      <td>都有</td>\n",
       "    </tr>\n",
       "    <tr>\n",
       "      <th>1</th>\n",
       "      <td>14</td>\n",
       "      <td>1 1953-1964年出生之主樣本</td>\n",
       "      <td>03 小學</td>\n",
       "      <td>1</td>\n",
       "      <td>1.000000</td>\n",
       "      <td>2007</td>\n",
       "      <td>自己有</td>\n",
       "    </tr>\n",
       "    <tr>\n",
       "      <th>2</th>\n",
       "      <td>7</td>\n",
       "      <td>1 1953-1964年出生之主樣本</td>\n",
       "      <td>08 高職</td>\n",
       "      <td>2</td>\n",
       "      <td>0.731278</td>\n",
       "      <td>2007</td>\n",
       "      <td>都有</td>\n",
       "    </tr>\n",
       "    <tr>\n",
       "      <th>3</th>\n",
       "      <td>14</td>\n",
       "      <td>1 1953-1964年出生之主樣本</td>\n",
       "      <td>08 高職</td>\n",
       "      <td>1</td>\n",
       "      <td>1.000000</td>\n",
       "      <td>2007</td>\n",
       "      <td>自己有</td>\n",
       "    </tr>\n",
       "    <tr>\n",
       "      <th>4</th>\n",
       "      <td>7</td>\n",
       "      <td>1 1953-1964年出生之主樣本</td>\n",
       "      <td>08 高職</td>\n",
       "      <td>3</td>\n",
       "      <td>0.718230</td>\n",
       "      <td>2007</td>\n",
       "      <td>都有</td>\n",
       "    </tr>\n",
       "    <tr>\n",
       "      <th>...</th>\n",
       "      <td>...</td>\n",
       "      <td>...</td>\n",
       "      <td>...</td>\n",
       "      <td>...</td>\n",
       "      <td>...</td>\n",
       "      <td>...</td>\n",
       "      <td>...</td>\n",
       "    </tr>\n",
       "    <tr>\n",
       "      <th>1048</th>\n",
       "      <td>2</td>\n",
       "      <td>2 1935-1954年出生之主樣本</td>\n",
       "      <td>09 五專</td>\n",
       "      <td>1</td>\n",
       "      <td>1.000000</td>\n",
       "      <td>2007</td>\n",
       "      <td>自己有</td>\n",
       "    </tr>\n",
       "    <tr>\n",
       "      <th>1049</th>\n",
       "      <td>0</td>\n",
       "      <td>2 1935-1954年出生之主樣本</td>\n",
       "      <td>13 大學</td>\n",
       "      <td>1</td>\n",
       "      <td>1.000000</td>\n",
       "      <td>2007</td>\n",
       "      <td>自己有</td>\n",
       "    </tr>\n",
       "    <tr>\n",
       "      <th>1050</th>\n",
       "      <td>7</td>\n",
       "      <td>2 1935-1954年出生之主樣本</td>\n",
       "      <td>13 大學</td>\n",
       "      <td>1</td>\n",
       "      <td>1.000000</td>\n",
       "      <td>2007</td>\n",
       "      <td>自己有</td>\n",
       "    </tr>\n",
       "    <tr>\n",
       "      <th>1051</th>\n",
       "      <td>0</td>\n",
       "      <td>2 1935-1954年出生之主樣本</td>\n",
       "      <td>04 國中/初中</td>\n",
       "      <td>2</td>\n",
       "      <td>0.000000</td>\n",
       "      <td>2007</td>\n",
       "      <td>都沒有</td>\n",
       "    </tr>\n",
       "    <tr>\n",
       "      <th>1052</th>\n",
       "      <td>0</td>\n",
       "      <td>2 1935-1954年出生之主樣本</td>\n",
       "      <td>11 三專</td>\n",
       "      <td>1</td>\n",
       "      <td>0.000000</td>\n",
       "      <td>2007</td>\n",
       "      <td>都沒有</td>\n",
       "    </tr>\n",
       "  </tbody>\n",
       "</table>\n",
       "<p>1053 rows × 7 columns</p>\n",
       "</div>"
      ],
      "text/plain": [
       "     HouseworkHour                 Age Education(Mate) Satisfaction  \\\n",
       "0                1  1 1953-1964年出生之主樣本           08 高職            3   \n",
       "1               14  1 1953-1964年出生之主樣本           03 小學            1   \n",
       "2                7  1 1953-1964年出生之主樣本           08 高職            2   \n",
       "3               14  1 1953-1964年出生之主樣本           08 高職            1   \n",
       "4                7  1 1953-1964年出生之主樣本           08 高職            3   \n",
       "...            ...                 ...             ...          ...   \n",
       "1048             2  2 1935-1954年出生之主樣本           09 五專            1   \n",
       "1049             0  2 1935-1954年出生之主樣本           13 大學            1   \n",
       "1050             7  2 1935-1954年出生之主樣本           13 大學            1   \n",
       "1051             0  2 1935-1954年出生之主樣本        04 國中/初中            2   \n",
       "1052             0  2 1935-1954年出生之主樣本           11 三專            1   \n",
       "\n",
       "      IncomeContributionRate  Time Work?Both  \n",
       "0                   0.643629  2007        都有  \n",
       "1                   1.000000  2007       自己有  \n",
       "2                   0.731278  2007        都有  \n",
       "3                   1.000000  2007       自己有  \n",
       "4                   0.718230  2007        都有  \n",
       "...                      ...   ...       ...  \n",
       "1048                1.000000  2007       自己有  \n",
       "1049                1.000000  2007       自己有  \n",
       "1050                1.000000  2007       自己有  \n",
       "1051                0.000000  2007       都沒有  \n",
       "1052                0.000000  2007       都沒有  \n",
       "\n",
       "[1053 rows x 7 columns]"
      ]
     },
     "execution_count": 184,
     "metadata": {},
     "output_type": "execute_result"
    }
   ],
   "source": [
    "data2007man_marriage = data2007[(data2007['Sex']=='1 男性') & (data2007['Marriage?']=='03 已婚(第一次結婚)')].copy()\n",
    "data2007man_marriage = data2007man_marriage[(data2007man_marriage['Income']!= 'NaN') & \n",
    "                                            (data2007man_marriage['Income(Mate)']!= 'NaN')]\n",
    "\n",
    "\n",
    "###### IncomeContributionRate\n",
    "data2007man_marriage['Income'] = [int(i) for i in list(data2007man_marriage['Income'])]\n",
    "data2007man_marriage['Income(Mate)'] = [int(i) for i in list(data2007man_marriage['Income(Mate)'])]\n",
    "data2007man_marriage.loc[:,'IncomeContributionRate'] = data2007man_marriage['Income'] / (data2007man_marriage['Income(Mate)'] + data2007man_marriage['Income']) \n",
    "data2007man_marriage.loc[:,'IncomeContributionRate'] = 1 - data2007man_marriage['Income(Mate)'] / (data2007man_marriage['Income(Mate)'] + data2007man_marriage['Income'])\n",
    "data2007man_marriage.loc[~(data2007man_marriage.loc[:,'IncomeContributionRate'] > 0),'IncomeContributionRate'] = 0\n",
    "###### add time\n",
    "data2007man_marriage.loc[:,'Time'] = '2007'\n",
    "###### Work?\n",
    "data2007man_marriage.loc[(data2007man_marriage.loc[:,'Work?'] == '1 有') & (data2007man_marriage.loc[:,'Work?(Mate)'] == '1 有'),\n",
    "                        'Work?Both'] = '都有'\n",
    "data2007man_marriage.loc[(data2007man_marriage.loc[:,'Work?'] == '1 有') & (data2007man_marriage.loc[:,'Work?(Mate)'] == '2 沒有'),\n",
    "                        'Work?Both'] = '自己有'\n",
    "data2007man_marriage.loc[(data2007man_marriage.loc[:,'Work?'] == '2 沒有') & (data2007man_marriage.loc[:,'Work?(Mate)'] == '1 有'),\n",
    "                        'Work?Both'] = '配偶有'\n",
    "data2007man_marriage.loc[(data2007man_marriage.loc[:,'Work?'] == '2 沒有') & (data2007man_marriage.loc[:,'Work?(Mate)'] == '2 沒有'),\n",
    "                        'Work?Both'] = '都沒有'\n",
    "\n",
    "data2007man_marriage = data2007man_marriage[['HouseworkHour','Age', 'Education(Mate)', 'Satisfaction',\n",
    "                                             'IncomeContributionRate','Time','Work?Both']]\n",
    "data2007man_marriage.index = range(len(data2007man_marriage.index))\n",
    "###### save data\n",
    "data2007man_marriage.to_csv('/Users/xiezhengqi/Desktop/data/data2007model2_man.csv',chunksize=30, index_label=None)\n",
    "data2007man_marriage"
   ]
  },
  {
   "cell_type": "code",
   "execution_count": 181,
   "metadata": {},
   "outputs": [
    {
     "data": {
      "text/plain": [
       "0       False\n",
       "1       False\n",
       "2       False\n",
       "3       False\n",
       "4       False\n",
       "        ...  \n",
       "1048    False\n",
       "1049    False\n",
       "1050    False\n",
       "1051     True\n",
       "1052     True\n",
       "Name: IncomeContributionRate, Length: 1053, dtype: bool"
      ]
     },
     "execution_count": 181,
     "metadata": {},
     "output_type": "execute_result"
    }
   ],
   "source": []
  },
  {
   "cell_type": "code",
   "execution_count": null,
   "metadata": {},
   "outputs": [],
   "source": []
  },
  {
   "cell_type": "code",
   "execution_count": null,
   "metadata": {},
   "outputs": [],
   "source": []
  },
  {
   "cell_type": "code",
   "execution_count": null,
   "metadata": {},
   "outputs": [],
   "source": []
  },
  {
   "cell_type": "code",
   "execution_count": null,
   "metadata": {},
   "outputs": [],
   "source": []
  },
  {
   "cell_type": "code",
   "execution_count": null,
   "metadata": {},
   "outputs": [],
   "source": []
  },
  {
   "cell_type": "code",
   "execution_count": null,
   "metadata": {},
   "outputs": [],
   "source": []
  },
  {
   "cell_type": "code",
   "execution_count": 11,
   "metadata": {},
   "outputs": [],
   "source": [
    "# IncomeContributionRate\n",
    "# data2007.loc[:, 'IncomeContributionRate'] = data2007.loc[:,'Income']/ (data2007.loc[:,'Income'] + data2007.loc[:,'Income(Mate)'])"
   ]
  },
  {
   "cell_type": "code",
   "execution_count": null,
   "metadata": {},
   "outputs": [],
   "source": []
  },
  {
   "cell_type": "code",
   "execution_count": null,
   "metadata": {},
   "outputs": [],
   "source": []
  },
  {
   "cell_type": "code",
   "execution_count": null,
   "metadata": {},
   "outputs": [],
   "source": []
  },
  {
   "cell_type": "code",
   "execution_count": null,
   "metadata": {},
   "outputs": [],
   "source": []
  },
  {
   "cell_type": "code",
   "execution_count": null,
   "metadata": {},
   "outputs": [],
   "source": []
  },
  {
   "cell_type": "code",
   "execution_count": null,
   "metadata": {},
   "outputs": [],
   "source": []
  },
  {
   "cell_type": "code",
   "execution_count": null,
   "metadata": {},
   "outputs": [],
   "source": []
  },
  {
   "cell_type": "code",
   "execution_count": 13,
   "metadata": {},
   "outputs": [],
   "source": [
    "# data2007 = ChangeColumnNames(data2007)"
   ]
  },
  {
   "cell_type": "code",
   "execution_count": null,
   "metadata": {},
   "outputs": [],
   "source": [
    "##data2007['Time']"
   ]
  },
  {
   "cell_type": "code",
   "execution_count": null,
   "metadata": {},
   "outputs": [],
   "source": [
    "# ValueInColumns(data2007)\n",
    "# data2007 = ChangeValueInColumns(data2007)"
   ]
  },
  {
   "cell_type": "code",
   "execution_count": null,
   "metadata": {},
   "outputs": [],
   "source": []
  },
  {
   "cell_type": "markdown",
   "metadata": {},
   "source": [
    "## process"
   ]
  },
  {
   "cell_type": "code",
   "execution_count": 94,
   "metadata": {},
   "outputs": [],
   "source": [
    "##  model1\n",
    "\n"
   ]
  },
  {
   "cell_type": "code",
   "execution_count": 78,
   "metadata": {},
   "outputs": [],
   "source": [
    "data2007model1 = data2007.copy()"
   ]
  },
  {
   "cell_type": "code",
   "execution_count": null,
   "metadata": {},
   "outputs": [],
   "source": []
  },
  {
   "cell_type": "code",
   "execution_count": null,
   "metadata": {},
   "outputs": [],
   "source": []
  },
  {
   "cell_type": "code",
   "execution_count": 53,
   "metadata": {},
   "outputs": [],
   "source": []
  },
  {
   "cell_type": "code",
   "execution_count": 111,
   "metadata": {},
   "outputs": [],
   "source": [
    "data2007 = 0"
   ]
  },
  {
   "cell_type": "code",
   "execution_count": null,
   "metadata": {},
   "outputs": [],
   "source": []
  },
  {
   "cell_type": "code",
   "execution_count": null,
   "metadata": {},
   "outputs": [],
   "source": []
  },
  {
   "cell_type": "code",
   "execution_count": null,
   "metadata": {},
   "outputs": [],
   "source": []
  }
 ],
 "metadata": {
  "kernelspec": {
   "display_name": "Python 3",
   "language": "python",
   "name": "python3"
  },
  "language_info": {
   "codemirror_mode": {
    "name": "ipython",
    "version": 3
   },
   "file_extension": ".py",
   "mimetype": "text/x-python",
   "name": "python",
   "nbconvert_exporter": "python",
   "pygments_lexer": "ipython3",
   "version": "3.7.3"
  }
 },
 "nbformat": 4,
 "nbformat_minor": 4
}
