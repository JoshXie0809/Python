{
 "cells": [
  {
   "cell_type": "code",
   "execution_count": 2,
   "metadata": {},
   "outputs": [],
   "source": [
    "import pandas as pd"
   ]
  },
  {
   "cell_type": "code",
   "execution_count": 81,
   "metadata": {},
   "outputs": [],
   "source": [
    "DataIndex = {\n",
    "    '2007y' : ['x01b', 'a01', 'a03a', 'a03b','a04a','a10b','a11a',\"a19\",'a20','a25b','a26a','d01a','d01b','d07e'],\n",
    "    '2008y' : ['x01b', 'a01', 'a03a', 'a03b','a04a','a10b','a11a',\"a19\",'a20','a25b','a26a','c01a','c01b','c07b'],\n",
    "    '2009y' : ['x01b', 'a01', 'a03a', 'a03b','a03c', 'a04a','a10a','a11a',\"a18\",'a19','a25a','a26a','c01a','c01b', 'd01e', 'c07b'],\n",
    "    '2010y' : ['x01b', 'a01', 'a03a', 'a03b','a03c', 'a04a','a10a','a11a',\"a18\",'a19','a25a','a26a','c01a','c01b', 'c07b'],\n",
    "    '2011y' : ['x01b', 'a01', 'a03a', 'a03b','a03c', 'a04a','a10a','a11a',\"a18\",'a19','a25a','a26a','c01a','c01b', 'c07b'],\n",
    "    '2012y' : ['x01b', 'a01', 'a03a', 'a03b','a03c', 'a04a','a10a','a11a',\"a18\",'a19','a25a','a26a'],\n",
    "    '2014y' : ['x01b', 'a01', 'a03a', 'a03b','a03c', 'a04a','a08a','a09B',\"a27\",'a28','a32a','a32B','c01a','c01b', 'c07b'],\n",
    "}"
   ]
  },
  {
   "cell_type": "markdown",
   "metadata": {},
   "source": [
    "## data2007"
   ]
  },
  {
   "cell_type": "code",
   "execution_count": 77,
   "metadata": {},
   "outputs": [],
   "source": [
    "df = pd.read_csv('/Users/xiezhengqi/Desktop/data/data_csv/RR2007_c_V201101_stata.csv')"
   ]
  },
  {
   "cell_type": "code",
   "execution_count": 66,
   "metadata": {},
   "outputs": [],
   "source": [
    "data2007 = df[DataIndex['2007y']].copy()"
   ]
  },
  {
   "cell_type": "code",
   "execution_count": null,
   "metadata": {},
   "outputs": [],
   "source": []
  },
  {
   "cell_type": "markdown",
   "metadata": {},
   "source": [
    "## data2008"
   ]
  },
  {
   "cell_type": "code",
   "execution_count": 79,
   "metadata": {},
   "outputs": [],
   "source": [
    "df = pd.read_csv('/Users/xiezhengqi/Desktop/data/data_csv/RR2008_c_v201207_stata.csv')"
   ]
  },
  {
   "cell_type": "code",
   "execution_count": 68,
   "metadata": {},
   "outputs": [],
   "source": [
    "data2008 = df[DataIndex['2008y']].copy()"
   ]
  },
  {
   "cell_type": "code",
   "execution_count": null,
   "metadata": {},
   "outputs": [],
   "source": []
  },
  {
   "cell_type": "markdown",
   "metadata": {},
   "source": [
    "## data2009"
   ]
  },
  {
   "cell_type": "code",
   "execution_count": 69,
   "metadata": {},
   "outputs": [],
   "source": [
    "df = pd.read_csv('/Users/xiezhengqi/Desktop/data/data_csv/RR2009_c_V201212_stata.csv')"
   ]
  },
  {
   "cell_type": "code",
   "execution_count": 72,
   "metadata": {},
   "outputs": [],
   "source": [
    "data2009 = df[DataIndex['2009y']].copy()"
   ]
  },
  {
   "cell_type": "code",
   "execution_count": null,
   "metadata": {},
   "outputs": [],
   "source": []
  },
  {
   "cell_type": "code",
   "execution_count": null,
   "metadata": {},
   "outputs": [],
   "source": []
  }
 ],
 "metadata": {
  "kernelspec": {
   "display_name": "Python 3",
   "language": "python",
   "name": "python3"
  },
  "language_info": {
   "codemirror_mode": {
    "name": "ipython",
    "version": 3
   },
   "file_extension": ".py",
   "mimetype": "text/x-python",
   "name": "python",
   "nbconvert_exporter": "python",
   "pygments_lexer": "ipython3",
   "version": "3.7.3"
  }
 },
 "nbformat": 4,
 "nbformat_minor": 4
}
