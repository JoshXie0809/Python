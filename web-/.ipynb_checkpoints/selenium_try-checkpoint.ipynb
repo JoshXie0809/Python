{
 "cells": [
  {
   "cell_type": "code",
   "execution_count": 117,
   "metadata": {},
   "outputs": [],
   "source": [
    "import sys\n",
    "import os\n",
    "from selenium import webdriver\n",
    "import time\n"
   ]
  },
  {
   "cell_type": "code",
   "execution_count": 175,
   "metadata": {},
   "outputs": [
    {
     "ename": "SyntaxError",
     "evalue": "unexpected EOF while parsing (<ipython-input-175-b3a34c0ee644>, line 22)",
     "output_type": "error",
     "traceback": [
      "\u001b[0;36m  File \u001b[0;32m\"<ipython-input-175-b3a34c0ee644>\"\u001b[0;36m, line \u001b[0;32m22\u001b[0m\n\u001b[0;31m    \u001b[0m\n\u001b[0m    ^\u001b[0m\n\u001b[0;31mSyntaxError\u001b[0m\u001b[0;31m:\u001b[0m unexpected EOF while parsing\n"
     ]
    }
   ],
   "source": [
    "def login():\n",
    "    browser = webdriver.Safari()\n",
    "    browser.get(\"https://www.github.com/login\")\n",
    "    #write email adress by xpath\n",
    "    python_button = browser.find_elements_by_xpath('//*[@id=\"login_field\"]')[0]\n",
    "    python_button.send_keys('sjosh4374@icloud.com')\n",
    "\n",
    "    python_button = browser.find_elements_by_xpath('//*[@id=\"password\"]')[0]\n",
    "    python_button.send_keys(password)\n",
    "\n",
    "    python_button = browser.find_elements_by_xpath('//*[@id=\"login\"]/form/div[4]/input[9]')[0]\n",
    "    python_button.click()\n",
    "    \n",
    "    time.sleep(3)\n",
    "    python_button = browser.find_elements_by_xpath('/html/body/div[4]/div/aside[1]/div[2]/div[1]/div/h2/a')[0]\n",
    "    python_button.click()\n",
    "    \n",
    "    print(python_button = browser.find_elements_by_xpath('//*[@id=\"repository_name\"]')\n",
    "\n",
    "\n",
    "\n",
    "\n"
   ]
  },
  {
   "cell_type": "code",
   "execution_count": null,
   "metadata": {},
   "outputs": [],
   "source": [
    "if __name__ == \"__main__\":\n",
    "    login()\n",
    "\n",
    "\n",
    "\n",
    "    "
   ]
  },
  {
   "cell_type": "code",
   "execution_count": null,
   "metadata": {},
   "outputs": [],
   "source": []
  },
  {
   "cell_type": "code",
   "execution_count": 70,
   "metadata": {
    "collapsed": true
   },
   "outputs": [],
   "source": [
    "python_button = browser.find_elements_by_xpath('//*[@id=\"repository_name\"]')[0]\n",
    "    python_button.send_keys('new')\n",
    "    \n",
    "    python_button = browser.find_elements_by_xpath('//*[@id=\"new_repository\"]/div[3]/button')[0]\n",
    "    python_button.click()"
   ]
  },
  {
   "cell_type": "code",
   "execution_count": null,
   "metadata": {},
   "outputs": [],
   "source": []
  },
  {
   "cell_type": "code",
   "execution_count": null,
   "metadata": {},
   "outputs": [],
   "source": []
  }
 ],
 "metadata": {
  "kernelspec": {
   "display_name": "Python 3",
   "language": "python",
   "name": "python3"
  },
  "language_info": {
   "codemirror_mode": {
    "name": "ipython",
    "version": 3
   },
   "file_extension": ".py",
   "mimetype": "text/x-python",
   "name": "python",
   "nbconvert_exporter": "python",
   "pygments_lexer": "ipython3",
   "version": "3.7.3"
  }
 },
 "nbformat": 4,
 "nbformat_minor": 2
}
