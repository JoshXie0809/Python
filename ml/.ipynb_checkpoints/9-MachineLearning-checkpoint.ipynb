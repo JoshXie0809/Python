{
 "cells": [
  {
   "cell_type": "markdown",
   "metadata": {},
   "source": [
    "# Machine learning\n",
    "\n",
    "<img src=\"https://www.continuum.io/sites/default/files/Continuum-Wordmark.png\">\n",
    "This material is all available at: http://j.mp/academy-intro-saleswk"
   ]
  },
  {
   "cell_type": "markdown",
   "metadata": {},
   "source": [
    "Table of Contents\n",
    "----------------\n",
    "* [Machine learning](#Machine-learning)\n",
    "* [Learning Objectives:](#Learning-Objectives:)\n",
    "\t* [Some comments on pedagogical style](#Some-comments-on-pedagogical-style)\n",
    "\t* [Importing our libraries](#Importing-our-libraries)\n",
    "\t\t* [Some Simple Data](#Some-Simple-Data)\n",
    "\t\t* [A Simple kNN Classifier](#A-Simple-kNN-Classifier)\n",
    "\t\t* [Simple Evaluation](#Simple-Evaluation)\n",
    "\t\t* [Visualization using two features](#Visualization-using-two-features)\n",
    "\t\t* [Exercise](#Exercise)\n",
    "\t\t* [Simple Comparison](#Simple-Comparison)\n",
    "\t\t* [Synthetic Datasets](#Synthetic-Datasets)\n",
    "\t\t\t* [make_blobs](#make_blobs)\n",
    "\t\t\t* [make_classification](#make_classification)\n",
    "\t\t* [Downloading Common Datasets](#Downloading-Common-Datasets)\n",
    "\t\t* [Exercise](#Exercise)\n",
    "\t\t* [Splitting Data for Evaluation](#Splitting-Data-for-Evaluation)\n",
    "\t\t* [Use KFold to Drive a Simple Train-Test Split](#Use-KFold-to-Drive-a-Simple-Train-Test-Split)\n",
    "\t\t* [Finer Grained Control Over Train/Test Splits](#Finer-Grained-Control-Over-Train/Test-Splits)\n",
    "\t\t* [Stratification](#Stratification)\n",
    "\t\t* [Model Comparison](#Model-Comparison)\n",
    "\t\t* [Learning Curves](#Learning-Curves)\n",
    "\t\t* [Evaluation Metrics](#Evaluation-Metrics)\n",
    "\t\t\t* [For Classification Models](#For-Classification-Models)\n",
    "\t\t\t* [ROC Curves](#ROC-Curves)\n",
    "\t\t* [Exercise](#Exercise)\n",
    "\t\t* [For Regression Models](#For-Regression-Models)\n",
    "\t\t* [Exercise](#Exercise)\n",
    "\t\t* [Choosing Model Parameters with Grid Search](#Choosing-Model-Parameters-with-Grid-Search)\n",
    "\t\t* [Multiple Parameters](#Multiple-Parameters)\n",
    "\t\t* [Exercise](#Exercise)\n",
    "\t\t* [Meta:  An answer](#Meta:--An-answer)\n",
    "\t\t* [Randomized Parameter Search](#Randomized-Parameter-Search)\n",
    "\t\t* [A Larger Example Comparing Random and Grid Search](#A-Larger-Example-Comparing-Random-and-Grid-Search)\n",
    "\t\t* [Preprocessing](#Preprocessing)\n",
    "\t\t\t* [Linear Min/Max Scaling](#Linear-Min/Max-Scaling)\n",
    "\t\t* [PCA](#PCA)\n",
    "\t\t\t* [PCA Take 1: Rotation from Pricipal (Data) Axes to Standard Axes](#PCA-Take-1:-Rotation-from-Pricipal-%28Data%29-Axes-to-Standard-Axes)\n",
    "\t\t\t* [PCA Take 2:  *Sphere*ing (i.e., Whitening or IID Whitening)](#PCA-Take-2:--*Sphere*ing-%28i.e.,-Whitening-or-IID-Whitening%29)\n",
    "\t\t\t* [PCA Take 3:  On Standardized Data](#PCA-Take-3:--On-Standardized-Data)\n",
    "\t\t\t* [And One More Example](#And-One-More-Example)\n",
    "\t\t* [ICA](#ICA)\n",
    "\t\t* [Application of PCA and ICA](#Application-of-PCA-and-ICA)\n",
    "\t\t* [Basis Expansion](#Basis-Expansion)\n",
    "\t\t* [Exercise](#Exercise)\n",
    "\t\t* [Pipelines](#Pipelines)\n",
    "\t\t* [Exercise](#Exercise)\n",
    "\t\t* [Other Topics](#Other-Topics)\n",
    "\t\t\t* [Feature Extraction](#Feature-Extraction)\n",
    "\t\t\t* [Feature Selection](#Feature-Selection)\n",
    "\t\t* [Best Practices for SVM](#Best-Practices-for-SVM)\n",
    "\t\t* [Preprocessing, SVM, and Faces](#Preprocessing,-SVM,-and-Faces)\n",
    "\t\t\t* [Imports](#Imports)\n",
    "\t\t\t* [Retrieve Data](#Retrieve-Data)\n",
    "\t\t\t* [Split Data, Preprocess, and Build Model](#Split-Data,-Preprocess,-and-Build-Model)\n",
    "\t\t\t* [Apply Model and Look at Results](#Apply-Model-and-Look-at-Results)\n",
    "\t\t* [SVM as a Feature Selector](#SVM-as-a-Feature-Selector)\n",
    "\t\t* [Exercise](#Exercise)\n",
    "\t\t* [Other SVM Options](#Other-SVM-Options)\n",
    "\t\t\t* [Orange](#Orange)\n",
    "\t\t* [libsvm](#libsvm)\n",
    "\t\t* [A Simple Linear Program](#A-Simple-Linear-Program)\n",
    "\t\t* [A Simple QP](#A-Simple-QP)\n",
    "\t\t* [An Example of Coding an SVM via cvxopt](#An-Example-of-Coding-an-SVM-via-cvxopt)\n",
    "\t\t\t* [Define Some Helper Routines to Drive the SVM](#Define-Some-Helper-Routines-to-Drive-the-SVM)\n",
    "\t\t\t* [Define Some Test Functions](#Define-Some-Test-Functions)\n",
    "\t\t\t* [And Execute The Examples](#And-Execute-The-Examples)\n"
   ]
  },
  {
   "cell_type": "markdown",
   "metadata": {},
   "source": [
    "**Developed by**\n",
    "\n",
    "* Mark Fenner &lt;[mark.fenner@continuum.io](mailto:mark.fenner@continuum.io)&gt;\n",
    "* David Mertz &lt;[dmertz@continuum.io](mailto:dmertz@continuum.io)&gt;\n",
    "\n",
    "**Taught by**\n",
    "\n",
    "* *&lt;Fill in instructor info at start of class&gt;*"
   ]
  },
  {
   "cell_type": "markdown",
   "metadata": {},
   "source": [
    "# Learning Objectives:"
   ]
  },
  {
   "cell_type": "markdown",
   "metadata": {},
   "source": [
    "After completion of this module, learners should be able to:\n",
    "\n",
    "* Be aware of the range of facilities in scikit-learn.\n",
    "* Understand classifiers, such as K-nearest neighbor, logistic regression, decision tree, and linear discriminant analysis.\n",
    "* Develop training/testing sets and perform model validation.\n",
    "* Perform model comparisons.\n",
    "* Understand data normalization and dealing with outliers.\n",
    "* Work with primary component analysis and support vector machines.\n",
    "* Compare optimization and curve fitting techniques."
   ]
  },
  {
   "cell_type": "markdown",
   "metadata": {},
   "source": [
    "## Some comments on pedagogical style"
   ]
  },
  {
   "cell_type": "markdown",
   "metadata": {},
   "source": [
    "For the most part, we will introduce new concepts incrementally. Sometimes examples will deliberately introduce something you haven't seen yet with suggestions of how to proceed. You can probably guess what these new constructs are doing along the way, but if they are unclear, **please** stop and ask for more information.  \n",
    "\n",
    "Even if you think you understand&mdash;either something covered explicitly, or something thrown in early&mdash;and would like to play with that construct some more, *let's do it!* The great thing about Notebooks (and about the Python interactive shell itself) is that we can play around, try things out, interactively discover options, and so on. We'll learn this material *together,* and experimentation and exploration is a much better way to learn than passive observation. \n",
    "\n",
    "* Discussion mixed with exercises\n",
    "* Please ask questions\n",
    "* Don't hesitate to ask for more detail\n",
    "\n",
    "---"
   ]
  },
  {
   "cell_type": "markdown",
   "metadata": {},
   "source": [
    "This tutorial (and Python in general) runs more smoothly under versions of Python 3. There is still legacy Python 2 code in the wild and you may well encounter it, but we will use Python 3 in this tutorial. To execute a cell while advancing the cursor to the next cell beyond, press  &lt;`Shift`&gt;&lt;`Enter`&gt; while the cursor is active in the cell. To execute the cell *without* advancing to the next cell, press &lt;`Control`&gt;&lt;`Enter`&gt; instead.\n",
    "\n",
    "Whether you're running on Python 2 or Python 3, please install the [Python-Future](http://python-future.org/futurize.html) module in your environment:\n",
    "```bash\n",
    "% conda install future\n",
    "```"
   ]
  },
  {
   "cell_type": "markdown",
   "metadata": {},
   "source": [
    "You will then want to execute the boilerplate code below to avoid some of the glitches that occur in converting between Python 2 and Python 3."
   ]
  },
  {
   "cell_type": "code",
   "execution_count": 13,
   "metadata": {
    "collapsed": true
   },
   "outputs": [],
   "source": [
    "from __future__ import (absolute_import, division,\n",
    "                        print_function, unicode_literals)\n",
    "from future import standard_library\n",
    "standard_library.install_aliases()\n",
    "from future.builtins import (\n",
    "         bytes, dict, int, list, object, range, str,\n",
    "         ascii, chr, hex, input, next, oct, open,\n",
    "         pow, round, super, filter, map, zip)"
   ]
  },
  {
   "cell_type": "markdown",
   "metadata": {},
   "source": [
    "## Importing our libraries"
   ]
  },
  {
   "cell_type": "code",
   "execution_count": 14,
   "metadata": {
    "collapsed": false
   },
   "outputs": [],
   "source": [
    "import numpy as np\n",
    "import pandas as pd\n",
    "import matplotlib.pyplot as plt\n",
    "from sklearn import (cross_validation, datasets,\n",
    "                     decomposition,\n",
    "                     grid_search, linear_model, \n",
    "                     neighbors, metrics)\n",
    "%matplotlib inline"
   ]
  },
  {
   "cell_type": "markdown",
   "metadata": {},
   "source": [
    "### Some Simple Data"
   ]
  },
  {
   "cell_type": "code",
   "execution_count": 16,
   "metadata": {
    "collapsed": false,
    "scrolled": true
   },
   "outputs": [
    {
     "name": "stdout",
     "output_type": "stream",
     "text": [
      "Iris Plants Database\n",
      "\n",
      "Notes\n",
      "-----\n",
      "Data Set Characteristics:\n",
      "    :Number of Instances: 150 (50 in each of three classes)\n",
      "    :Number of Attributes: 4 numeric, predictive attributes and the class\n",
      "    :Attribute Information:\n",
      "        - sepal length in cm\n",
      "        - sepal width in cm\n",
      "        - petal length in cm\n",
      "        - petal width in cm\n",
      "        - class:\n",
      "                - Iris-Setosa\n",
      "                - Iris-Versicolour\n",
      "                - Iris-Virginica\n",
      "    :Summary Statistics:\n",
      "    ============== ==== ==== ======= ===== ====================\n",
      "                    Min  Max   Mean    SD   Class Correlation\n",
      "    ============== ==== ==== ======= ===== ====================\n",
      "    sepal length:   4.3  7.9   5.84   0.83    0.7826\n",
      "    sepal width:    2.0  4.4   3.05   0.43   -0.4194\n",
      "    petal length:   1.0  6.9   3.76   1.76    0.9490  (high!)\n",
      "    petal width:    0.1  2.5   1.20  0.76     0.9565  (high!)\n",
      "    ============== ==== ==== ======= ===== ====================\n",
      "    :Missing Attribute Values: None\n",
      "    :Class Distribution: 33.3% for each of 3 classes.\n",
      "    :Creator: R.A. Fisher\n",
      "    :Donor: Michael Marshall (MARSHALL%PLU@io.arc.nasa.gov)\n",
      "    :Date: July, 1988\n",
      "\n",
      "This is a copy of UCI ML iris datasets.\n",
      "http://archive.ics.uci.edu/ml/datasets/Iris\n",
      "\n",
      "The famous Iris database, first used by Sir R.A Fisher\n",
      "\n",
      "This is perhaps the best known database to be found in the\n",
      "pattern recognition literature.  Fisher's paper is a classic in the field and\n",
      "is referenced frequently to this day.  (See Duda & Hart, for example.)  The\n",
      "data set contains 3 classes of 50 instances each, where each class refers to a\n",
      "type of iris plant.  One class is linearly separable from the other 2; the\n",
      "latter are NOT linearly separable from each other.\n",
      "\n",
      "References\n",
      "----------\n",
      "   - Fisher,R.A. \"The use of multiple measurements in taxonomic problems\"\n",
      "     Annual Eugenics, 7, Part II, 179-188 (1936); also in \"Contributions to\n",
      "     Mathematical Statistics\" (John Wiley, NY, 1950).\n",
      "   - Duda,R.O., & Hart,P.E. (1973) Pattern Classification and Scene Analysis.\n",
      "     (Q327.D83) John Wiley & Sons.  ISBN 0-471-22361-1.  See page 218.\n",
      "   - Dasarathy, B.V. (1980) \"Nosing Around the Neighborhood: A New System\n",
      "     Structure and Classification Rule for Recognition in Partially Exposed\n",
      "     Environments\".  IEEE Transactions on Pattern Analysis and Machine\n",
      "     Intelligence, Vol. PAMI-2, No. 1, 67-71.\n",
      "   - Gates, G.W. (1972) \"The Reduced Nearest Neighbor Rule\".  IEEE Transactions\n",
      "     on Information Theory, May 1972, 431-433.\n",
      "   - See also: 1988 MLC Proceedings, 54-64.  Cheeseman et al\"s AUTOCLASS II\n",
      "     conceptual clustering system finds 3 classes in the data.\n",
      "   - Many, many more ...\n",
      "\n"
     ]
    }
   ],
   "source": [
    "iris = datasets.load_iris()\n",
    "examples = iris.data\n",
    "classes  = iris.target\n",
    "print(iris.DESCR)"
   ]
  },
  {
   "cell_type": "code",
   "execution_count": 17,
   "metadata": {
    "collapsed": false
   },
   "outputs": [
    {
     "data": {
      "text/html": [
       "<div>\n",
       "<table border=\"1\" class=\"dataframe\">\n",
       "  <thead>\n",
       "    <tr style=\"text-align: right;\">\n",
       "      <th></th>\n",
       "      <th>sepal length (cm)</th>\n",
       "      <th>sepal width (cm)</th>\n",
       "      <th>petal length (cm)</th>\n",
       "      <th>petal width (cm)</th>\n",
       "      <th>species</th>\n",
       "      <th>species_name</th>\n",
       "    </tr>\n",
       "  </thead>\n",
       "  <tbody>\n",
       "    <tr>\n",
       "      <th>0</th>\n",
       "      <td>5.1</td>\n",
       "      <td>3.5</td>\n",
       "      <td>1.4</td>\n",
       "      <td>0.2</td>\n",
       "      <td>0</td>\n",
       "      <td>setosa</td>\n",
       "    </tr>\n",
       "    <tr>\n",
       "      <th>1</th>\n",
       "      <td>4.9</td>\n",
       "      <td>3.0</td>\n",
       "      <td>1.4</td>\n",
       "      <td>0.2</td>\n",
       "      <td>0</td>\n",
       "      <td>setosa</td>\n",
       "    </tr>\n",
       "    <tr>\n",
       "      <th>2</th>\n",
       "      <td>4.7</td>\n",
       "      <td>3.2</td>\n",
       "      <td>1.3</td>\n",
       "      <td>0.2</td>\n",
       "      <td>0</td>\n",
       "      <td>setosa</td>\n",
       "    </tr>\n",
       "    <tr>\n",
       "      <th>3</th>\n",
       "      <td>4.6</td>\n",
       "      <td>3.1</td>\n",
       "      <td>1.5</td>\n",
       "      <td>0.2</td>\n",
       "      <td>0</td>\n",
       "      <td>setosa</td>\n",
       "    </tr>\n",
       "    <tr>\n",
       "      <th>4</th>\n",
       "      <td>5.0</td>\n",
       "      <td>3.6</td>\n",
       "      <td>1.4</td>\n",
       "      <td>0.2</td>\n",
       "      <td>0</td>\n",
       "      <td>setosa</td>\n",
       "    </tr>\n",
       "    <tr>\n",
       "      <th>5</th>\n",
       "      <td>5.4</td>\n",
       "      <td>3.9</td>\n",
       "      <td>1.7</td>\n",
       "      <td>0.4</td>\n",
       "      <td>0</td>\n",
       "      <td>setosa</td>\n",
       "    </tr>\n",
       "    <tr>\n",
       "      <th>6</th>\n",
       "      <td>4.6</td>\n",
       "      <td>3.4</td>\n",
       "      <td>1.4</td>\n",
       "      <td>0.3</td>\n",
       "      <td>0</td>\n",
       "      <td>setosa</td>\n",
       "    </tr>\n",
       "    <tr>\n",
       "      <th>7</th>\n",
       "      <td>5.0</td>\n",
       "      <td>3.4</td>\n",
       "      <td>1.5</td>\n",
       "      <td>0.2</td>\n",
       "      <td>0</td>\n",
       "      <td>setosa</td>\n",
       "    </tr>\n",
       "    <tr>\n",
       "      <th>8</th>\n",
       "      <td>4.4</td>\n",
       "      <td>2.9</td>\n",
       "      <td>1.4</td>\n",
       "      <td>0.2</td>\n",
       "      <td>0</td>\n",
       "      <td>setosa</td>\n",
       "    </tr>\n",
       "    <tr>\n",
       "      <th>9</th>\n",
       "      <td>4.9</td>\n",
       "      <td>3.1</td>\n",
       "      <td>1.5</td>\n",
       "      <td>0.1</td>\n",
       "      <td>0</td>\n",
       "      <td>setosa</td>\n",
       "    </tr>\n",
       "    <tr>\n",
       "      <th>10</th>\n",
       "      <td>5.4</td>\n",
       "      <td>3.7</td>\n",
       "      <td>1.5</td>\n",
       "      <td>0.2</td>\n",
       "      <td>0</td>\n",
       "      <td>setosa</td>\n",
       "    </tr>\n",
       "    <tr>\n",
       "      <th>11</th>\n",
       "      <td>4.8</td>\n",
       "      <td>3.4</td>\n",
       "      <td>1.6</td>\n",
       "      <td>0.2</td>\n",
       "      <td>0</td>\n",
       "      <td>setosa</td>\n",
       "    </tr>\n",
       "    <tr>\n",
       "      <th>12</th>\n",
       "      <td>4.8</td>\n",
       "      <td>3.0</td>\n",
       "      <td>1.4</td>\n",
       "      <td>0.1</td>\n",
       "      <td>0</td>\n",
       "      <td>setosa</td>\n",
       "    </tr>\n",
       "    <tr>\n",
       "      <th>13</th>\n",
       "      <td>4.3</td>\n",
       "      <td>3.0</td>\n",
       "      <td>1.1</td>\n",
       "      <td>0.1</td>\n",
       "      <td>0</td>\n",
       "      <td>setosa</td>\n",
       "    </tr>\n",
       "    <tr>\n",
       "      <th>14</th>\n",
       "      <td>5.8</td>\n",
       "      <td>4.0</td>\n",
       "      <td>1.2</td>\n",
       "      <td>0.2</td>\n",
       "      <td>0</td>\n",
       "      <td>setosa</td>\n",
       "    </tr>\n",
       "    <tr>\n",
       "      <th>15</th>\n",
       "      <td>5.7</td>\n",
       "      <td>4.4</td>\n",
       "      <td>1.5</td>\n",
       "      <td>0.4</td>\n",
       "      <td>0</td>\n",
       "      <td>setosa</td>\n",
       "    </tr>\n",
       "    <tr>\n",
       "      <th>16</th>\n",
       "      <td>5.4</td>\n",
       "      <td>3.9</td>\n",
       "      <td>1.3</td>\n",
       "      <td>0.4</td>\n",
       "      <td>0</td>\n",
       "      <td>setosa</td>\n",
       "    </tr>\n",
       "    <tr>\n",
       "      <th>17</th>\n",
       "      <td>5.1</td>\n",
       "      <td>3.5</td>\n",
       "      <td>1.4</td>\n",
       "      <td>0.3</td>\n",
       "      <td>0</td>\n",
       "      <td>setosa</td>\n",
       "    </tr>\n",
       "    <tr>\n",
       "      <th>18</th>\n",
       "      <td>5.7</td>\n",
       "      <td>3.8</td>\n",
       "      <td>1.7</td>\n",
       "      <td>0.3</td>\n",
       "      <td>0</td>\n",
       "      <td>setosa</td>\n",
       "    </tr>\n",
       "    <tr>\n",
       "      <th>19</th>\n",
       "      <td>5.1</td>\n",
       "      <td>3.8</td>\n",
       "      <td>1.5</td>\n",
       "      <td>0.3</td>\n",
       "      <td>0</td>\n",
       "      <td>setosa</td>\n",
       "    </tr>\n",
       "    <tr>\n",
       "      <th>20</th>\n",
       "      <td>5.4</td>\n",
       "      <td>3.4</td>\n",
       "      <td>1.7</td>\n",
       "      <td>0.2</td>\n",
       "      <td>0</td>\n",
       "      <td>setosa</td>\n",
       "    </tr>\n",
       "    <tr>\n",
       "      <th>21</th>\n",
       "      <td>5.1</td>\n",
       "      <td>3.7</td>\n",
       "      <td>1.5</td>\n",
       "      <td>0.4</td>\n",
       "      <td>0</td>\n",
       "      <td>setosa</td>\n",
       "    </tr>\n",
       "    <tr>\n",
       "      <th>22</th>\n",
       "      <td>4.6</td>\n",
       "      <td>3.6</td>\n",
       "      <td>1.0</td>\n",
       "      <td>0.2</td>\n",
       "      <td>0</td>\n",
       "      <td>setosa</td>\n",
       "    </tr>\n",
       "    <tr>\n",
       "      <th>23</th>\n",
       "      <td>5.1</td>\n",
       "      <td>3.3</td>\n",
       "      <td>1.7</td>\n",
       "      <td>0.5</td>\n",
       "      <td>0</td>\n",
       "      <td>setosa</td>\n",
       "    </tr>\n",
       "    <tr>\n",
       "      <th>24</th>\n",
       "      <td>4.8</td>\n",
       "      <td>3.4</td>\n",
       "      <td>1.9</td>\n",
       "      <td>0.2</td>\n",
       "      <td>0</td>\n",
       "      <td>setosa</td>\n",
       "    </tr>\n",
       "    <tr>\n",
       "      <th>25</th>\n",
       "      <td>5.0</td>\n",
       "      <td>3.0</td>\n",
       "      <td>1.6</td>\n",
       "      <td>0.2</td>\n",
       "      <td>0</td>\n",
       "      <td>setosa</td>\n",
       "    </tr>\n",
       "    <tr>\n",
       "      <th>26</th>\n",
       "      <td>5.0</td>\n",
       "      <td>3.4</td>\n",
       "      <td>1.6</td>\n",
       "      <td>0.4</td>\n",
       "      <td>0</td>\n",
       "      <td>setosa</td>\n",
       "    </tr>\n",
       "    <tr>\n",
       "      <th>27</th>\n",
       "      <td>5.2</td>\n",
       "      <td>3.5</td>\n",
       "      <td>1.5</td>\n",
       "      <td>0.2</td>\n",
       "      <td>0</td>\n",
       "      <td>setosa</td>\n",
       "    </tr>\n",
       "    <tr>\n",
       "      <th>28</th>\n",
       "      <td>5.2</td>\n",
       "      <td>3.4</td>\n",
       "      <td>1.4</td>\n",
       "      <td>0.2</td>\n",
       "      <td>0</td>\n",
       "      <td>setosa</td>\n",
       "    </tr>\n",
       "    <tr>\n",
       "      <th>29</th>\n",
       "      <td>4.7</td>\n",
       "      <td>3.2</td>\n",
       "      <td>1.6</td>\n",
       "      <td>0.2</td>\n",
       "      <td>0</td>\n",
       "      <td>setosa</td>\n",
       "    </tr>\n",
       "    <tr>\n",
       "      <th>...</th>\n",
       "      <td>...</td>\n",
       "      <td>...</td>\n",
       "      <td>...</td>\n",
       "      <td>...</td>\n",
       "      <td>...</td>\n",
       "      <td>...</td>\n",
       "    </tr>\n",
       "    <tr>\n",
       "      <th>120</th>\n",
       "      <td>6.9</td>\n",
       "      <td>3.2</td>\n",
       "      <td>5.7</td>\n",
       "      <td>2.3</td>\n",
       "      <td>2</td>\n",
       "      <td>virginica</td>\n",
       "    </tr>\n",
       "    <tr>\n",
       "      <th>121</th>\n",
       "      <td>5.6</td>\n",
       "      <td>2.8</td>\n",
       "      <td>4.9</td>\n",
       "      <td>2.0</td>\n",
       "      <td>2</td>\n",
       "      <td>virginica</td>\n",
       "    </tr>\n",
       "    <tr>\n",
       "      <th>122</th>\n",
       "      <td>7.7</td>\n",
       "      <td>2.8</td>\n",
       "      <td>6.7</td>\n",
       "      <td>2.0</td>\n",
       "      <td>2</td>\n",
       "      <td>virginica</td>\n",
       "    </tr>\n",
       "    <tr>\n",
       "      <th>123</th>\n",
       "      <td>6.3</td>\n",
       "      <td>2.7</td>\n",
       "      <td>4.9</td>\n",
       "      <td>1.8</td>\n",
       "      <td>2</td>\n",
       "      <td>virginica</td>\n",
       "    </tr>\n",
       "    <tr>\n",
       "      <th>124</th>\n",
       "      <td>6.7</td>\n",
       "      <td>3.3</td>\n",
       "      <td>5.7</td>\n",
       "      <td>2.1</td>\n",
       "      <td>2</td>\n",
       "      <td>virginica</td>\n",
       "    </tr>\n",
       "    <tr>\n",
       "      <th>125</th>\n",
       "      <td>7.2</td>\n",
       "      <td>3.2</td>\n",
       "      <td>6.0</td>\n",
       "      <td>1.8</td>\n",
       "      <td>2</td>\n",
       "      <td>virginica</td>\n",
       "    </tr>\n",
       "    <tr>\n",
       "      <th>126</th>\n",
       "      <td>6.2</td>\n",
       "      <td>2.8</td>\n",
       "      <td>4.8</td>\n",
       "      <td>1.8</td>\n",
       "      <td>2</td>\n",
       "      <td>virginica</td>\n",
       "    </tr>\n",
       "    <tr>\n",
       "      <th>127</th>\n",
       "      <td>6.1</td>\n",
       "      <td>3.0</td>\n",
       "      <td>4.9</td>\n",
       "      <td>1.8</td>\n",
       "      <td>2</td>\n",
       "      <td>virginica</td>\n",
       "    </tr>\n",
       "    <tr>\n",
       "      <th>128</th>\n",
       "      <td>6.4</td>\n",
       "      <td>2.8</td>\n",
       "      <td>5.6</td>\n",
       "      <td>2.1</td>\n",
       "      <td>2</td>\n",
       "      <td>virginica</td>\n",
       "    </tr>\n",
       "    <tr>\n",
       "      <th>129</th>\n",
       "      <td>7.2</td>\n",
       "      <td>3.0</td>\n",
       "      <td>5.8</td>\n",
       "      <td>1.6</td>\n",
       "      <td>2</td>\n",
       "      <td>virginica</td>\n",
       "    </tr>\n",
       "    <tr>\n",
       "      <th>130</th>\n",
       "      <td>7.4</td>\n",
       "      <td>2.8</td>\n",
       "      <td>6.1</td>\n",
       "      <td>1.9</td>\n",
       "      <td>2</td>\n",
       "      <td>virginica</td>\n",
       "    </tr>\n",
       "    <tr>\n",
       "      <th>131</th>\n",
       "      <td>7.9</td>\n",
       "      <td>3.8</td>\n",
       "      <td>6.4</td>\n",
       "      <td>2.0</td>\n",
       "      <td>2</td>\n",
       "      <td>virginica</td>\n",
       "    </tr>\n",
       "    <tr>\n",
       "      <th>132</th>\n",
       "      <td>6.4</td>\n",
       "      <td>2.8</td>\n",
       "      <td>5.6</td>\n",
       "      <td>2.2</td>\n",
       "      <td>2</td>\n",
       "      <td>virginica</td>\n",
       "    </tr>\n",
       "    <tr>\n",
       "      <th>133</th>\n",
       "      <td>6.3</td>\n",
       "      <td>2.8</td>\n",
       "      <td>5.1</td>\n",
       "      <td>1.5</td>\n",
       "      <td>2</td>\n",
       "      <td>virginica</td>\n",
       "    </tr>\n",
       "    <tr>\n",
       "      <th>134</th>\n",
       "      <td>6.1</td>\n",
       "      <td>2.6</td>\n",
       "      <td>5.6</td>\n",
       "      <td>1.4</td>\n",
       "      <td>2</td>\n",
       "      <td>virginica</td>\n",
       "    </tr>\n",
       "    <tr>\n",
       "      <th>135</th>\n",
       "      <td>7.7</td>\n",
       "      <td>3.0</td>\n",
       "      <td>6.1</td>\n",
       "      <td>2.3</td>\n",
       "      <td>2</td>\n",
       "      <td>virginica</td>\n",
       "    </tr>\n",
       "    <tr>\n",
       "      <th>136</th>\n",
       "      <td>6.3</td>\n",
       "      <td>3.4</td>\n",
       "      <td>5.6</td>\n",
       "      <td>2.4</td>\n",
       "      <td>2</td>\n",
       "      <td>virginica</td>\n",
       "    </tr>\n",
       "    <tr>\n",
       "      <th>137</th>\n",
       "      <td>6.4</td>\n",
       "      <td>3.1</td>\n",
       "      <td>5.5</td>\n",
       "      <td>1.8</td>\n",
       "      <td>2</td>\n",
       "      <td>virginica</td>\n",
       "    </tr>\n",
       "    <tr>\n",
       "      <th>138</th>\n",
       "      <td>6.0</td>\n",
       "      <td>3.0</td>\n",
       "      <td>4.8</td>\n",
       "      <td>1.8</td>\n",
       "      <td>2</td>\n",
       "      <td>virginica</td>\n",
       "    </tr>\n",
       "    <tr>\n",
       "      <th>139</th>\n",
       "      <td>6.9</td>\n",
       "      <td>3.1</td>\n",
       "      <td>5.4</td>\n",
       "      <td>2.1</td>\n",
       "      <td>2</td>\n",
       "      <td>virginica</td>\n",
       "    </tr>\n",
       "    <tr>\n",
       "      <th>140</th>\n",
       "      <td>6.7</td>\n",
       "      <td>3.1</td>\n",
       "      <td>5.6</td>\n",
       "      <td>2.4</td>\n",
       "      <td>2</td>\n",
       "      <td>virginica</td>\n",
       "    </tr>\n",
       "    <tr>\n",
       "      <th>141</th>\n",
       "      <td>6.9</td>\n",
       "      <td>3.1</td>\n",
       "      <td>5.1</td>\n",
       "      <td>2.3</td>\n",
       "      <td>2</td>\n",
       "      <td>virginica</td>\n",
       "    </tr>\n",
       "    <tr>\n",
       "      <th>142</th>\n",
       "      <td>5.8</td>\n",
       "      <td>2.7</td>\n",
       "      <td>5.1</td>\n",
       "      <td>1.9</td>\n",
       "      <td>2</td>\n",
       "      <td>virginica</td>\n",
       "    </tr>\n",
       "    <tr>\n",
       "      <th>143</th>\n",
       "      <td>6.8</td>\n",
       "      <td>3.2</td>\n",
       "      <td>5.9</td>\n",
       "      <td>2.3</td>\n",
       "      <td>2</td>\n",
       "      <td>virginica</td>\n",
       "    </tr>\n",
       "    <tr>\n",
       "      <th>144</th>\n",
       "      <td>6.7</td>\n",
       "      <td>3.3</td>\n",
       "      <td>5.7</td>\n",
       "      <td>2.5</td>\n",
       "      <td>2</td>\n",
       "      <td>virginica</td>\n",
       "    </tr>\n",
       "    <tr>\n",
       "      <th>145</th>\n",
       "      <td>6.7</td>\n",
       "      <td>3.0</td>\n",
       "      <td>5.2</td>\n",
       "      <td>2.3</td>\n",
       "      <td>2</td>\n",
       "      <td>virginica</td>\n",
       "    </tr>\n",
       "    <tr>\n",
       "      <th>146</th>\n",
       "      <td>6.3</td>\n",
       "      <td>2.5</td>\n",
       "      <td>5.0</td>\n",
       "      <td>1.9</td>\n",
       "      <td>2</td>\n",
       "      <td>virginica</td>\n",
       "    </tr>\n",
       "    <tr>\n",
       "      <th>147</th>\n",
       "      <td>6.5</td>\n",
       "      <td>3.0</td>\n",
       "      <td>5.2</td>\n",
       "      <td>2.0</td>\n",
       "      <td>2</td>\n",
       "      <td>virginica</td>\n",
       "    </tr>\n",
       "    <tr>\n",
       "      <th>148</th>\n",
       "      <td>6.2</td>\n",
       "      <td>3.4</td>\n",
       "      <td>5.4</td>\n",
       "      <td>2.3</td>\n",
       "      <td>2</td>\n",
       "      <td>virginica</td>\n",
       "    </tr>\n",
       "    <tr>\n",
       "      <th>149</th>\n",
       "      <td>5.9</td>\n",
       "      <td>3.0</td>\n",
       "      <td>5.1</td>\n",
       "      <td>1.8</td>\n",
       "      <td>2</td>\n",
       "      <td>virginica</td>\n",
       "    </tr>\n",
       "  </tbody>\n",
       "</table>\n",
       "<p>150 rows × 6 columns</p>\n",
       "</div>"
      ],
      "text/plain": [
       "     sepal length (cm)  sepal width (cm)  petal length (cm)  petal width (cm)  \\\n",
       "0                  5.1               3.5                1.4               0.2   \n",
       "1                  4.9               3.0                1.4               0.2   \n",
       "2                  4.7               3.2                1.3               0.2   \n",
       "3                  4.6               3.1                1.5               0.2   \n",
       "4                  5.0               3.6                1.4               0.2   \n",
       "5                  5.4               3.9                1.7               0.4   \n",
       "6                  4.6               3.4                1.4               0.3   \n",
       "7                  5.0               3.4                1.5               0.2   \n",
       "8                  4.4               2.9                1.4               0.2   \n",
       "9                  4.9               3.1                1.5               0.1   \n",
       "10                 5.4               3.7                1.5               0.2   \n",
       "11                 4.8               3.4                1.6               0.2   \n",
       "12                 4.8               3.0                1.4               0.1   \n",
       "13                 4.3               3.0                1.1               0.1   \n",
       "14                 5.8               4.0                1.2               0.2   \n",
       "15                 5.7               4.4                1.5               0.4   \n",
       "16                 5.4               3.9                1.3               0.4   \n",
       "17                 5.1               3.5                1.4               0.3   \n",
       "18                 5.7               3.8                1.7               0.3   \n",
       "19                 5.1               3.8                1.5               0.3   \n",
       "20                 5.4               3.4                1.7               0.2   \n",
       "21                 5.1               3.7                1.5               0.4   \n",
       "22                 4.6               3.6                1.0               0.2   \n",
       "23                 5.1               3.3                1.7               0.5   \n",
       "24                 4.8               3.4                1.9               0.2   \n",
       "25                 5.0               3.0                1.6               0.2   \n",
       "26                 5.0               3.4                1.6               0.4   \n",
       "27                 5.2               3.5                1.5               0.2   \n",
       "28                 5.2               3.4                1.4               0.2   \n",
       "29                 4.7               3.2                1.6               0.2   \n",
       "..                 ...               ...                ...               ...   \n",
       "120                6.9               3.2                5.7               2.3   \n",
       "121                5.6               2.8                4.9               2.0   \n",
       "122                7.7               2.8                6.7               2.0   \n",
       "123                6.3               2.7                4.9               1.8   \n",
       "124                6.7               3.3                5.7               2.1   \n",
       "125                7.2               3.2                6.0               1.8   \n",
       "126                6.2               2.8                4.8               1.8   \n",
       "127                6.1               3.0                4.9               1.8   \n",
       "128                6.4               2.8                5.6               2.1   \n",
       "129                7.2               3.0                5.8               1.6   \n",
       "130                7.4               2.8                6.1               1.9   \n",
       "131                7.9               3.8                6.4               2.0   \n",
       "132                6.4               2.8                5.6               2.2   \n",
       "133                6.3               2.8                5.1               1.5   \n",
       "134                6.1               2.6                5.6               1.4   \n",
       "135                7.7               3.0                6.1               2.3   \n",
       "136                6.3               3.4                5.6               2.4   \n",
       "137                6.4               3.1                5.5               1.8   \n",
       "138                6.0               3.0                4.8               1.8   \n",
       "139                6.9               3.1                5.4               2.1   \n",
       "140                6.7               3.1                5.6               2.4   \n",
       "141                6.9               3.1                5.1               2.3   \n",
       "142                5.8               2.7                5.1               1.9   \n",
       "143                6.8               3.2                5.9               2.3   \n",
       "144                6.7               3.3                5.7               2.5   \n",
       "145                6.7               3.0                5.2               2.3   \n",
       "146                6.3               2.5                5.0               1.9   \n",
       "147                6.5               3.0                5.2               2.0   \n",
       "148                6.2               3.4                5.4               2.3   \n",
       "149                5.9               3.0                5.1               1.8   \n",
       "\n",
       "     species species_name  \n",
       "0          0       setosa  \n",
       "1          0       setosa  \n",
       "2          0       setosa  \n",
       "3          0       setosa  \n",
       "4          0       setosa  \n",
       "5          0       setosa  \n",
       "6          0       setosa  \n",
       "7          0       setosa  \n",
       "8          0       setosa  \n",
       "9          0       setosa  \n",
       "10         0       setosa  \n",
       "11         0       setosa  \n",
       "12         0       setosa  \n",
       "13         0       setosa  \n",
       "14         0       setosa  \n",
       "15         0       setosa  \n",
       "16         0       setosa  \n",
       "17         0       setosa  \n",
       "18         0       setosa  \n",
       "19         0       setosa  \n",
       "20         0       setosa  \n",
       "21         0       setosa  \n",
       "22         0       setosa  \n",
       "23         0       setosa  \n",
       "24         0       setosa  \n",
       "25         0       setosa  \n",
       "26         0       setosa  \n",
       "27         0       setosa  \n",
       "28         0       setosa  \n",
       "29         0       setosa  \n",
       "..       ...          ...  \n",
       "120        2    virginica  \n",
       "121        2    virginica  \n",
       "122        2    virginica  \n",
       "123        2    virginica  \n",
       "124        2    virginica  \n",
       "125        2    virginica  \n",
       "126        2    virginica  \n",
       "127        2    virginica  \n",
       "128        2    virginica  \n",
       "129        2    virginica  \n",
       "130        2    virginica  \n",
       "131        2    virginica  \n",
       "132        2    virginica  \n",
       "133        2    virginica  \n",
       "134        2    virginica  \n",
       "135        2    virginica  \n",
       "136        2    virginica  \n",
       "137        2    virginica  \n",
       "138        2    virginica  \n",
       "139        2    virginica  \n",
       "140        2    virginica  \n",
       "141        2    virginica  \n",
       "142        2    virginica  \n",
       "143        2    virginica  \n",
       "144        2    virginica  \n",
       "145        2    virginica  \n",
       "146        2    virginica  \n",
       "147        2    virginica  \n",
       "148        2    virginica  \n",
       "149        2    virginica  \n",
       "\n",
       "[150 rows x 6 columns]"
      ]
     },
     "execution_count": 17,
     "metadata": {},
     "output_type": "execute_result"
    }
   ],
   "source": [
    "# Let's take a look at the \"shape\" of the data\n",
    "df_iris = pd.DataFrame(iris.data, columns=iris.feature_names)\n",
    "df_iris['species'] = iris.target\n",
    "df_iris['species_name'] = [iris.target_names[i] for i in iris.target]\n",
    "df_iris"
   ]
  },
  {
   "cell_type": "code",
   "execution_count": 42,
   "metadata": {
    "collapsed": false
   },
   "outputs": [
    {
     "data": {
      "text/plain": [
       "(array([  4,  39, 106, 133,  68, 146,  59,  91, 137,  16, 135,  13,  73,\n",
       "         40, 130, 142,  75,  65,  88,  63,  49,  36, 145, 141, 123, 132,\n",
       "        105,  90, 131,  44, 119, 124,  77,  18,  66,  45, 111, 100,  62,\n",
       "        117, 108,  41,  10,  72,  61,  48,  17,  60,  27,  52,  69, 127,\n",
       "        148,   6,  82,  50,  15, 143,  93, 121,  22, 109,  70,  94,  35,\n",
       "        128, 101, 140,  21, 103, 134,  42,  51,  56, 118,   9,  57,  84,\n",
       "         53, 147,  55,  37,  95, 102,   0,  85,  98,  23,  11,  64,  30,\n",
       "         89, 120, 115,  43, 149,   7, 136,  86,   2,  46, 104,  87,  54,\n",
       "        144,  26, 139,  99,  71, 112,  20,  47,  76,  28,  24,  83,  14,\n",
       "        114,  92, 138]),\n",
       " array([116,  58,  29,  78,  34,   1,  74,  33, 107,  38, 110,  97,  31,\n",
       "        126, 129,   3,  12,  81, 122,  96, 113,   8,  80,  19, 125,  67,\n",
       "         79,   5,  32,  25]))"
      ]
     },
     "execution_count": 42,
     "metadata": {},
     "output_type": "execute_result"
    }
   ],
   "source": [
    "# Create a training and a testing set from this data by choosing indices\n",
    "# (wait a few cells for a better API)\n",
    "\n",
    "# Random order of indices\n",
    "n_examples = len(examples)\n",
    "shuffled_indices = np.random.permutation(n_examples)\n",
    "\n",
    "# Pick a trainig/testing split\n",
    "train_pct = 0.8\n",
    "train_ct  = int(n_examples * train_pct)\n",
    "\n",
    "# Select indices for training and testing\n",
    "train_idx, test_idx = shuffled_indices[:train_ct], shuffled_indices[train_ct:]\n",
    "train_idx, test_idx"
   ]
  },
  {
   "cell_type": "markdown",
   "metadata": {},
   "source": [
    "### A Simple kNN Classifier"
   ]
  },
  {
   "cell_type": "code",
   "execution_count": 52,
   "metadata": {
    "collapsed": false
   },
   "outputs": [],
   "source": [
    "knn5 = neighbors.KNeighborsClassifier(n_neighbors=5)"
   ]
  },
  {
   "cell_type": "markdown",
   "metadata": {},
   "source": [
    "### Simple Evaluation"
   ]
  },
  {
   "cell_type": "code",
   "execution_count": 53,
   "metadata": {
    "collapsed": false
   },
   "outputs": [
    {
     "name": "stdout",
     "output_type": "stream",
     "text": [
      "1.0\n"
     ]
    }
   ],
   "source": [
    "knn5.fit(examples[train_idx], classes[train_idx])\n",
    "predictions = knn5.predict(examples[test_idx])\n",
    "print(metrics.accuracy_score(predictions, classes[test_idx]))"
   ]
  },
  {
   "cell_type": "markdown",
   "metadata": {},
   "source": [
    "### Visualization using two features"
   ]
  },
  {
   "cell_type": "code",
   "execution_count": 79,
   "metadata": {
    "collapsed": true
   },
   "outputs": [],
   "source": [
    "datasets.make_classification?"
   ]
  },
  {
   "cell_type": "code",
   "execution_count": 93,
   "metadata": {
    "collapsed": false
   },
   "outputs": [
    {
     "data": {
      "image/png": "[encoded data removed]",
      "text/plain": [
       "<matplotlib.figure.Figure at 0x1129dbe10>"
      ]
     },
     "metadata": {},
     "output_type": "display_data"
    }
   ],
   "source": [
    "# the punch line is to predict for a large grid of data points\n",
    "# http://scikit-learn.org/stable/auto_examples/neighbors/plot_classification.html\n",
    "def KNN_2D_map(twodim):\n",
    "    grid_step = 0.1\n",
    "    knn5 = neighbors.KNeighborsClassifier(n_neighbors=5)\n",
    "    knn5.fit(twodim, classes)\n",
    "\n",
    "    # create testing data points on the standard \n",
    "    # Cartesian grid (over our data range)\n",
    "    # to color the background\n",
    "    maxes = np.max(twodim, axis=0) + 2*grid_step\n",
    "    mins  = np.min(twodim, axis=0) -   grid_step\n",
    "\n",
    "    xs,ys = np.mgrid[mins[0]:maxes[0]:grid_step, \n",
    "                     mins[1]:maxes[1]:grid_step]\n",
    "    grid_points = np.c_[xs.ravel(), ys.ravel()]\n",
    "\n",
    "    p = knn5.predict(grid_points)\n",
    "\n",
    "    # plot the predictions at the grid points\n",
    "    fig = plt.figure(figsize=(10,5))\n",
    "    ax = fig.gca()\n",
    "    ax.pcolormesh(xs,ys,p.reshape(xs.shape))\n",
    "\n",
    "    ax.set_xlim(mins[0], maxes[0]-grid_step)\n",
    "    ax.set_ylim(mins[1], maxes[1]-grid_step)\n",
    "    \n",
    "twodim = examples[:,:2] # select first two features\n",
    "KNN_2D_map(twodim)"
   ]
  },
  {
   "cell_type": "code",
   "execution_count": 94,
   "metadata": {
    "collapsed": false
   },
   "outputs": [
    {
     "data": {
      "image/png": "[encoded data removed]",
      "text/plain": [
       "<matplotlib.figure.Figure at 0x1129e8b38>"
      ]
     },
     "metadata": {},
     "output_type": "display_data"
    }
   ],
   "source": [
    "twodim2 = examples[:,2:]  # choose different features\n",
    "KNN_2D_map(twodim2)"
   ]
  },
  {
   "cell_type": "markdown",
   "metadata": {},
   "source": [
    "### Exercise"
   ]
  },
  {
   "cell_type": "markdown",
   "metadata": {},
   "source": [
    "Quick question: why did we add an extra `grid_step` value to the maxes, above?\n",
    "\n",
    "Investigate what happens to the decision boundary as we raise or lower the number of neighbors?  You could start answering this trying a range of neighbor values:  $k=3,5,10,15$.  Could the `grid_step` parameter mislead us, if we aren't paying close attention?"
   ]
  },
  {
   "cell_type": "markdown",
   "metadata": {},
   "source": [
    "### Simple Comparison"
   ]
  },
  {
   "cell_type": "code",
   "execution_count": 85,
   "metadata": {
    "collapsed": false
   },
   "outputs": [],
   "source": [
    "knn5 = neighbors.KNeighborsClassifier(n_neighbors=5)\n",
    "logreg = linear_model.LogisticRegression()"
   ]
  },
  {
   "cell_type": "code",
   "execution_count": 86,
   "metadata": {
    "collapsed": false
   },
   "outputs": [
    {
     "name": "stdout",
     "output_type": "stream",
     "text": [
      "0.966666666667\n",
      "1.0\n"
     ]
    }
   ],
   "source": [
    "knn5.fit(examples[train_idx], classes[train_idx])\n",
    "logreg.fit(examples[train_idx], classes[train_idx])\n",
    "\n",
    "lr_preds = logreg.predict(examples[test_idx])\n",
    "knn5_preds = knn5.predict(examples[test_idx])\n",
    "\n",
    "for preds in [lr_preds, knn5_preds]:\n",
    "    print(metrics.accuracy_score(preds, classes[test_idx]))"
   ]
  },
  {
   "cell_type": "code",
   "execution_count": 87,
   "metadata": {
    "collapsed": false
   },
   "outputs": [
    {
     "name": "stdout",
     "output_type": "stream",
     "text": [
      "[ 0.93333333  1.          0.93333333  0.93333333  0.93333333  1.          1.\n",
      "  1.          1.          0.86666667]\n",
      "[ 0.86666667  0.86666667  0.93333333  1.          1.          1.\n",
      "  0.93333333  1.          0.86666667  1.        ]\n"
     ]
    },
    {
     "data": {
      "text/plain": [
       "(0.0, 1.1)"
      ]
     },
     "execution_count": 87,
     "metadata": {},
     "output_type": "execute_result"
    },
    {
     "data": {
      "image/png": "[encoded data removed]",
      "text/plain": [
       "<matplotlib.figure.Figure at 0x1060ab470>"
      ]
     },
     "metadata": {},
     "output_type": "display_data"
    }
   ],
   "source": [
    "# cross_validation is more systematic than manually selecting testing/training\n",
    "models = [(knn5, '+'), (logreg, '^')]\n",
    "\n",
    "for m, shape in models:\n",
    "    k_fold    = cross_validation.KFold(n_examples, n_folds=10, shuffle=True)\n",
    "    cv_scores = cross_validation.cross_val_score(m, examples, classes, \n",
    "                                                 cv=k_fold, \n",
    "                                                 scoring='accuracy', \n",
    "                                                 n_jobs=-1) # all CPUs\n",
    "    print(cv_scores) \n",
    "    plt.plot(cv_scores, marker=shape)\n",
    "    \n",
    "plt.ylim(0.0, 1.1)"
   ]
  },
  {
   "cell_type": "markdown",
   "metadata": {},
   "source": [
    "### Synthetic Datasets"
   ]
  },
  {
   "cell_type": "markdown",
   "metadata": {},
   "source": [
    "#### make_blobs"
   ]
  },
  {
   "cell_type": "markdown",
   "metadata": {},
   "source": [
    "`sklearn.datasets.make_blobs(n_samples=100, \n",
    "                             n_features=2,\n",
    "                             centers=3,         # number of classes\n",
    "                             cluster_std=1.0)   # shared -or- class-by-class`"
   ]
  },
  {
   "cell_type": "code",
   "execution_count": 76,
   "metadata": {
    "collapsed": false
   },
   "outputs": [
    {
     "data": {
      "text/plain": [
       "<matplotlib.collections.PathCollection at 0x1126d6b38>"
      ]
     },
     "execution_count": 76,
     "metadata": {},
     "output_type": "execute_result"
    },
    {
     "data": {
      "image/png": "[encoded data removed]",
      "text/plain": [
       "<matplotlib.figure.Figure at 0x1129c88d0>"
      ]
     },
     "metadata": {},
     "output_type": "display_data"
    }
   ],
   "source": [
    "x, y = datasets.make_blobs(n_samples=50)\n",
    "plt.scatter(x[:,0], x[:,1], c=y, s=50)"
   ]
  },
  {
   "cell_type": "markdown",
   "metadata": {},
   "source": [
    "#### make_classification"
   ]
  },
  {
   "cell_type": "markdown",
   "metadata": {},
   "source": [
    "`sklearn.datasets.make_classification()`\n",
    "\n",
    "Many, many arguments.  See: http://scikit-learn.org/stable/modules/generated/sklearn.datasets.make_classification.html\n",
    "\n",
    "For examples, see:  http://scikit-learn.org/stable/auto_examples/datasets/plot_random_dataset.html"
   ]
  },
  {
   "cell_type": "code",
   "execution_count": 81,
   "metadata": {
    "collapsed": false
   },
   "outputs": [
    {
     "data": {
      "image/png": "[encoded data removed]",
      "text/plain": [
       "<matplotlib.figure.Figure at 0x1126bafd0>"
      ]
     },
     "metadata": {},
     "output_type": "display_data"
    }
   ],
   "source": [
    "x,y = datasets.make_classification(n_features=2, n_redundant=0, n_informative=2,\n",
    "                                   n_clusters_per_class=1, n_classes=3)\n",
    "plt.scatter(x[:, 0], x[:, 1], c=y, s=50);"
   ]
  },
  {
   "cell_type": "markdown",
   "metadata": {},
   "source": [
    "### Downloading Common Datasets"
   ]
  },
  {
   "cell_type": "code",
   "execution_count": 82,
   "metadata": {
    "collapsed": false
   },
   "outputs": [
    {
     "name": "stdout",
     "output_type": "stream",
     "text": [
      "(150, 4)\n",
      "(150,)\n"
     ]
    }
   ],
   "source": [
    "iris_dwn_1 = datasets.fetch_mldata('iris', data_home=\"./data\")\n",
    "print(iris_dwn_1.data.shape)\n",
    "print(iris_dwn_1.target.shape)"
   ]
  },
  {
   "cell_type": "code",
   "execution_count": 83,
   "metadata": {
    "collapsed": false
   },
   "outputs": [
    {
     "name": "stdout",
     "output_type": "stream",
     "text": [
      "(150, 4)\n",
      "(150,)\n"
     ]
    }
   ],
   "source": [
    "iris_dwn_2 = datasets.fetch_mldata('datasets-UCI Iris',\n",
    "                                   target_name='class', \n",
    "                                   data_name='double0',\n",
    "                                   data_home=\"./data\")\n",
    "print(iris_dwn_2.data.shape)\n",
    "print(iris_dwn_2.target.shape)"
   ]
  },
  {
   "cell_type": "markdown",
   "metadata": {},
   "source": [
    "### Exercise"
   ]
  },
  {
   "cell_type": "markdown",
   "metadata": {},
   "source": [
    "  1. Experiment with `make_gaussian_quantiles` to generate some data:\n",
    "\n",
    "http://scikit-learn.org/stable/modules/generated/sklearn.datasets.make_gaussian_quantiles.html\n",
    "\n",
    "  2. It turns out that the wine dataset at mldata is broken.  Here's is how you can grab it directly from UCI (it will be downloaded to wine.csv in your local directory):\n",
    "\n",
    "`\n",
    "import urllib\n",
    "url = 'https://archive.ics.uci.edu/ml/machine-learning-databases/wine/wine.data'\n",
    "urllib.urlretrieve(url, 'data/wine.csv')\n",
    "tbl = np.genfromtxt('data/wine.csv', delimiter=\",\")\n",
    "classes = tbl[:,0]\n",
    "examples = tbl[:,1:]\n",
    "`\n",
    "\n",
    "  Pick two classifiers from `sklearn` (a partial list is given below) and compare their performance on your random dataset and the wine dataset.\n",
    "\n",
    "\n",
    "`\n",
    "classifiers = [\n",
    "    KNeighborsClassifier(3),\n",
    "    SVC(kernel=\"linear\", C=0.025),\n",
    "    SVC(gamma=2, C=1),\n",
    "    DecisionTreeClassifier(max_depth=5),\n",
    "    RandomForestClassifier(max_depth=5, n_estimators=10, max_features=1), # ftrs @ split\n",
    "    AdaBoostClassifier(),\n",
    "    GaussianNB(),\n",
    "    LDA(),\n",
    "    QDA()]`"
   ]
  },
  {
   "cell_type": "code",
   "execution_count": 88,
   "metadata": {
    "collapsed": false
   },
   "outputs": [],
   "source": [
    "import numpy as np\n",
    "import matplotlib.pyplot as plt\n",
    "\n",
    "from scipy.stats import sem as ss_sem\n",
    "\n",
    "from sklearn import (cross_validation, datasets,\n",
    "                     learning_curve,\n",
    "                     decomposition,\n",
    "                     grid_search, linear_model, \n",
    "                     neighbors, metrics)\n",
    "%matplotlib inline"
   ]
  },
  {
   "cell_type": "code",
   "execution_count": 89,
   "metadata": {
    "collapsed": false
   },
   "outputs": [],
   "source": [
    "iris_data = datasets.load_iris()\n",
    "examples = iris_data.data\n",
    "classes  = iris_data.target\n",
    "n_examples = len(examples)"
   ]
  },
  {
   "cell_type": "markdown",
   "metadata": {},
   "source": [
    "### Splitting Data for Evaluation"
   ]
  },
  {
   "cell_type": "code",
   "execution_count": 100,
   "metadata": {
    "collapsed": false
   },
   "outputs": [],
   "source": [
    "# manually make a train-test split\n",
    "shuffled_indices = np.random.permutation(n_examples)\n",
    "train_pct = 0.8\n",
    "train_ct  = int(n_examples * train_pct)\n",
    "train_idx, test_idx = shuffled_indices[:train_ct], shuffled_indices[train_ct:]"
   ]
  },
  {
   "cell_type": "code",
   "execution_count": 101,
   "metadata": {
    "collapsed": false
   },
   "outputs": [
    {
     "name": "stdout",
     "output_type": "stream",
     "text": [
      "0.966666666667\n"
     ]
    }
   ],
   "source": [
    "knn5 = neighbors.KNeighborsClassifier(n_neighbors=5)\n",
    "knn5.fit(examples[train_idx], classes[train_idx])\n",
    "predictions = knn5.predict(examples[test_idx])\n",
    "print(metrics.accuracy_score(predictions, classes[test_idx]))"
   ]
  },
  {
   "cell_type": "code",
   "execution_count": 102,
   "metadata": {
    "collapsed": false
   },
   "outputs": [
    {
     "name": "stdout",
     "output_type": "stream",
     "text": [
      "[ 64 106  77 128  76   9  61 100 130  91  69 101 123 122 125  88  49  16\n",
      "  79  89 126 147  29  66 107  51 149  31  52   2  99  60  87  20  50  44\n",
      " 114 124  33 113  19  30  26 145  23  92  11 108 115  22  95 140  54  68\n",
      " 109  63 132  81 139  21 129 148  71  34  45 121  82  84 134  14  57 127\n",
      " 146  46  65 131  80  97  38  48  96  10  27 141  18  32  93 142  83   4\n",
      " 144  25   5  70  36 105  67  86  90  40  56  47 103 119  62 117  24 143\n",
      " 118 133   1  28] [ 58  35 111   7  39  15   3 104  94  85  78   6 138  55  73   8 135  17\n",
      "  41  72 112 137 136  12   0  59 110  43  75 116  42  37 102  98  13  74\n",
      " 120  53]\n",
      "[ 13  61  74   7  97  43 107 124  39  90  41  25  47 139 144 126 114  14\n",
      " 102  73 120  52  33  89  69  84 143 145  32 142  34  81  17  46 123 121\n",
      "  64   5 140 108 132  62  49   0 117  98  58 125 133  42 118 110  65  19\n",
      " 131  93  31   9 103  23 128 119 127  10  15  22  38 100  55   2   4  26\n",
      "  92  72 122  16 130  88  53 135  79  51  94  54  44   1  99  86  87  21\n",
      " 111   8 138  60 115  29 106 109  83  91  75  56  12  96  48 146  63  20\n",
      "  68  30   3   6  36 101  37  85  78 149 141  35 136 113  27 129 137  95\n",
      "  76 148  66  77 134  82 112  45 147] [104  40 105  18  57  70  67  50  11  59  71 116  80  24  28]\n"
     ]
    }
   ],
   "source": [
    "# there are a few methods to do this \"built-in\", but aren't as simple as they should be\n",
    "\n",
    "# this is \"usually\" (in the docs) used for data arrays, not an indexing array\n",
    "# default test_size = .25\n",
    "train_idx, test_idx = cross_validation.train_test_split(np.arange(n_examples))\n",
    "print(train_idx, test_idx)\n",
    "\n",
    "# for some reason, ShufleSplit returns a non-iterator\n",
    "# ShuffleSplit does not give disjoint train sets with n_iter > 1\n",
    "# default test_size = .1\n",
    "train_idx, test_idx = next(iter(cross_validation.ShuffleSplit(n_examples, n_iter=1)))\n",
    "print(train_idx, test_idx)"
   ]
  },
  {
   "cell_type": "code",
   "execution_count": 107,
   "metadata": {
    "collapsed": false
   },
   "outputs": [
    {
     "name": "stdout",
     "output_type": "stream",
     "text": [
      "CV Scores:  1.0  1.0  1.0  1.0  0.8  0.866666666667  1.0  0.866666666667  0.8  1.0\n"
     ]
    },
    {
     "data": {
      "image/png": "[encoded data removed]",
      "text/plain": [
       "<matplotlib.figure.Figure at 0x11267eb38>"
      ]
     },
     "metadata": {},
     "output_type": "display_data"
    }
   ],
   "source": [
    "# k-fold:  split training data into k ~equal sized groups\n",
    "#          train on k-1, test on kth group\n",
    "#          repeat with each group as the test group\n",
    "#          take average\n",
    "k_fold    = cross_validation.KFold(n_examples, n_folds=10)\n",
    "cv_scores = cross_validation.cross_val_score(knn, examples, classes, \n",
    "                                             cv=k_fold, \n",
    "                                             scoring='accuracy', \n",
    "                                             n_jobs=-1) # all CPUs\n",
    "print(\"CV Scores: \", \"  \".join(str(c) for c in cv_scores))\n",
    "plt.plot(cv_scores)\n",
    "plt.ylim(0.0, 1.1);"
   ]
  },
  {
   "cell_type": "code",
   "execution_count": 106,
   "metadata": {
    "collapsed": false
   },
   "outputs": [
    {
     "name": "stdout",
     "output_type": "stream",
     "text": [
      "Mean and sem: 0.96 0.010886621079\n"
     ]
    },
    {
     "data": {
      "image/png": "[encoded data removed]",
      "text/plain": [
       "<matplotlib.figure.Figure at 0x1082150b8>"
      ]
     },
     "metadata": {},
     "output_type": "display_data"
    }
   ],
   "source": [
    "# k-fold:  split training data into k ~equal sized groups\n",
    "#          train on k-1, test on kth group\n",
    "#          repeat with each group as the test group\n",
    "#          take average\n",
    "k_fold    = cross_validation.KFold(n_examples, n_folds=10, shuffle=True)\n",
    "cv_scores = cross_validation.cross_val_score(knn, examples, classes, \n",
    "                                             cv=k_fold, \n",
    "                                             scoring='accuracy', \n",
    "                                             n_jobs=-1) # all CPUs\n",
    "print(\"Mean and sem:\", cv_scores.mean(), ss_sem(cv_scores))\n",
    "plt.plot(cv_scores)\n",
    "plt.ylim(0.0, 1.1);"
   ]
  },
  {
   "cell_type": "markdown",
   "metadata": {},
   "source": [
    "### Use KFold to Drive a Simple Train-Test Split"
   ]
  },
  {
   "cell_type": "markdown",
   "metadata": {},
   "source": [
    "If we haven't discussed it, `next(iter(k_fold))` (below) acts like:\n",
    "\n",
    "  * take the iterable thing `kfold`\n",
    "  * create a (cheap) reference that tracks our location `iter`\n",
    "  * get the `next` item moving forward (aka, the first item)"
   ]
  },
  {
   "cell_type": "code",
   "execution_count": 108,
   "metadata": {
    "collapsed": false
   },
   "outputs": [
    {
     "name": "stdout",
     "output_type": "stream",
     "text": [
      "1.0\n"
     ]
    }
   ],
   "source": [
    "# testing a k-fold based process - just the first fold, please\n",
    "# line 4 is the punchline\n",
    "k_fold = cross_validation.KFold(n_examples, n_folds=10)\n",
    "train_idx, test_idx = next(iter(k_fold))  # (copied) iterator, get first element\n",
    "fitted = knn5.fit(examples[train_idx], classes[train_idx])\n",
    "preds  = knn5.predict(examples[test_idx])\n",
    "print(metrics.accuracy_score(preds, classes[test_idx]))"
   ]
  },
  {
   "cell_type": "markdown",
   "metadata": {},
   "source": [
    "### Finer Grained Control Over Train/Test Splits"
   ]
  },
  {
   "cell_type": "code",
   "execution_count": 113,
   "metadata": {
    "collapsed": false
   },
   "outputs": [
    {
     "name": "stdout",
     "output_type": "stream",
     "text": [
      "2 -->\n",
      "[5 1 4 3 9 0 6 8] [7 2]\n",
      "2 -->\n",
      "[6 3 2 1 8 0 5 7] [4 9]\n",
      "2 -->\n",
      "[7 8 0 5 6 3 2 1] [9 4]\n",
      "2 -->\n",
      "[8 9 4 2 3 5 7 0] [1 6]\n",
      "2 -->\n",
      "[6 7 2 8 5 3 9 4] [1 0]\n"
     ]
    }
   ],
   "source": [
    "ss = cross_validation.ShuffleSplit(10, n_iter=5, test_size=0.2)\n",
    "for train_index, test_index in ss:\n",
    "    print(\"%s -->\" % (len(test_index)),)\n",
    "    print(\"%s %s\" % (train_index, test_index))"
   ]
  },
  {
   "cell_type": "code",
   "execution_count": 114,
   "metadata": {
    "collapsed": false
   },
   "outputs": [
    {
     "name": "stdout",
     "output_type": "stream",
     "text": [
      "[1 2 3] --> [0]\n",
      "[0 2] --> [1 3]\n",
      "last two cases as \"reserved\" set\n",
      "[2 3] --> [0 1]\n"
     ]
    }
   ],
   "source": [
    "# -1 means element never in a test set, so will be in every training set\n",
    "ps = cross_validation.PredefinedSplit(test_fold=[0, 1, -1, 1])\n",
    "for train_index, test_index in ps:\n",
    "    print(train_index, \"-->\", test_index)\n",
    "\n",
    "print('last two cases as \"reserved\" set')\n",
    "ps = cross_validation.PredefinedSplit(test_fold=[0, 0, -1, -1]) \n",
    "for train_index, test_index in ps:\n",
    "    print(train_index, \"-->\", test_index)\n",
    "\n",
    "# use training indices as pre-screen before piping the training data into a \n",
    "# CV evaluation ... then use reserved data just before deployment\n",
    "# BUT: better to squirrel your gold-test data outside the system to make sure \n",
    "# you don't peak at it (!)"
   ]
  },
  {
   "cell_type": "markdown",
   "metadata": {},
   "source": [
    "### Stratification"
   ]
  },
  {
   "cell_type": "code",
   "execution_count": 118,
   "metadata": {
    "collapsed": false
   },
   "outputs": [
    {
     "name": "stdout",
     "output_type": "stream",
     "text": [
      "[20 50 50]\n",
      "[30 40 50]\n",
      "[50 20 50]\n",
      "[50 40 30]\n",
      "[50 50 20]\n"
     ]
    }
   ],
   "source": [
    "# Show, for each fold, how many of each type of iris are in the training set\n",
    "k_fold = cross_validation.KFold(n_examples, n_folds=5)\n",
    "for train, test in k_fold:\n",
    "    print(np.bincount(classes[train]))"
   ]
  },
  {
   "cell_type": "code",
   "execution_count": 120,
   "metadata": {
    "collapsed": false
   },
   "outputs": [
    {
     "name": "stdout",
     "output_type": "stream",
     "text": [
      "[40 40 40]\n",
      "[40 40 40]\n",
      "[40 40 40]\n",
      "[40 40 40]\n",
      "[40 40 40]\n"
     ]
    }
   ],
   "source": [
    "# Equalize how many of each type are in the training set with StratifiedKFold\n",
    "# k-fold:  split training data into k ~equal sized groups\n",
    "#          train on k-1, test on kth group\n",
    "#          repeat with each group as the test group\n",
    "#          take average\n",
    "k_fold = cross_validation.StratifiedKFold(classes, n_folds=5)\n",
    "for train, test in k_fold:\n",
    "    print(np.bincount(classes[train]))"
   ]
  },
  {
   "cell_type": "markdown",
   "metadata": {},
   "source": [
    "### Model Comparison"
   ]
  },
  {
   "cell_type": "code",
   "execution_count": 136,
   "metadata": {
    "collapsed": false
   },
   "outputs": [
    {
     "data": {
      "text/plain": [
       "<matplotlib.legend.Legend at 0x111cc1400>"
      ]
     },
     "execution_count": 136,
     "metadata": {},
     "output_type": "execute_result"
    },
    {
     "data": {
      "image/png": "[encoded data removed]",
      "text/plain": [
       "<matplotlib.figure.Figure at 0x1122238d0>"
      ]
     },
     "metadata": {},
     "output_type": "display_data"
    }
   ],
   "source": [
    "# We saw some model comparison above.  Let's add a few more models\n",
    "# (http://scikit-learn.org/stable/auto_examples/plot_classifier_comparison.html)\n",
    "from sklearn.tree import DecisionTreeClassifier\n",
    "knn20 = neighbors.KNeighborsClassifier(n_neighbors=20)\n",
    "knn5 = neighbors.KNeighborsClassifier(n_neighbors=5)\n",
    "logreg = linear_model.LogisticRegression()\n",
    "dectree = DecisionTreeClassifier()\n",
    "\n",
    "modelsAndMarker = [(knn20, 'x', 'knn20'), (knn5, 'o', 'knn5'), \n",
    "                   (logreg, '^', 'logreg'), (dectree, '.', 'dectree')]\n",
    "\n",
    "for mod, marker, label in modelsAndMarker:\n",
    "    k_fold    = cross_validation.KFold(n_examples, n_folds=10)\n",
    "    cv_scores = cross_validation.cross_val_score(mod, examples, classes, \n",
    "                                                 cv=k_fold, \n",
    "                                                 scoring='accuracy', \n",
    "                                                 n_jobs=-1) # all CPUs    \n",
    "    plt.plot(cv_scores, marker=marker, label=label)\n",
    "plt.ylim(0.5, 1.05)\n",
    "plt.legend(bbox_to_anchor=(1.05, 1), loc=2)"
   ]
  },
  {
   "cell_type": "markdown",
   "metadata": {},
   "source": [
    "### Learning Curves"
   ]
  },
  {
   "cell_type": "markdown",
   "metadata": {},
   "source": [
    "See http://scikit-learn.org/stable/modules/learning_curve.html"
   ]
  },
  {
   "cell_type": "code",
   "execution_count": 139,
   "metadata": {
    "collapsed": false
   },
   "outputs": [
    {
     "data": {
      "text/plain": [
       "<matplotlib.legend.Legend at 0x10d5ab080>"
      ]
     },
     "execution_count": 139,
     "metadata": {},
     "output_type": "execute_result"
    },
    {
     "data": {
      "image/png": "[encoded data removed]",
      "text/plain": [
       "<matplotlib.figure.Figure at 0x10d5270f0>"
      ]
     },
     "metadata": {},
     "output_type": "display_data"
    }
   ],
   "source": [
    "sz, train, test = learning_curve.learning_curve(\n",
    "                        knn5, examples, classes, \n",
    "                        cv = cross_validation.KFold(n_examples, n_folds=10),\n",
    "                        train_sizes=np.linspace(.1, 1.0, 10))\n",
    "\n",
    "for result, name, color in [(train, \"train\", 'r'), \n",
    "                            (test, \"test\", 'g')]:\n",
    "    mean = np.mean(result, 1)\n",
    "    sem  = ss_sem(result, 1)\n",
    "    \n",
    "    plt.fill_between(sz, mean-sem, mean+sem, alpha=0.2, color=color)\n",
    "    plt.plot(sz, mean, 'o-', color=color, label=\"CV %s-set Acc.\" % name.capitalize())\n",
    "\n",
    "plt.ylim(.5, 1.05)\n",
    "plt.legend(loc='best')"
   ]
  },
  {
   "cell_type": "markdown",
   "metadata": {},
   "source": [
    "### Evaluation Metrics"
   ]
  },
  {
   "cell_type": "markdown",
   "metadata": {},
   "source": [
    "#### For Classification Models"
   ]
  },
  {
   "cell_type": "markdown",
   "metadata": {},
   "source": [
    "http://scikit-learn.org/stable/modules/model_evaluation.html#confusion-matrix\n",
    "\n",
    "http://scikit-learn.org/stable/modules/model_evaluation.html#classification-report\n",
    "\n",
    "http://scikit-learn.org/stable/modules/model_evaluation.html#precision-recall-and-f-measures"
   ]
  },
  {
   "cell_type": "code",
   "execution_count": null,
   "metadata": {
    "collapsed": false
   },
   "outputs": [],
   "source": [
    "knn = neighbors.KNeighborsClassifier(n_neighbors=5)\n",
    "knn.fit(examples, classes)\n",
    "predictions = knn.predict(examples)\n",
    "\n",
    "print(\"confusion matrix\")\n",
    "print(metrics.confusion_matrix(classes, predictions))\n",
    "\n",
    "print(\"classification report\")\n",
    "print(metrics.classification_report(classes, predictions))\n",
    "\n",
    "# macro, average of statistic for each class_1, class_2, ... class_n\n",
    "# micro, compute single statistic over all of the instances \n",
    "#                (for precision each possible TP/FP occurrance)\n",
    "\n",
    "# with true_pos and false_pos counts of of TP/FP per class\n",
    "# micro_avg_precision = true_pos.sum() / (true_pos.sum() + false_pos.sum())\n",
    "# macro_avg_precision = np.mean(true_pos / (true_pos + false_pos))\n",
    "print(metrics.precision_score(classes, predictions, average='macro'))\n",
    "print(metrics.precision_recall_fscore_support(classes, predictions, average='macro'))\n",
    "\n",
    "print(metrics.precision_score(classes, predictions, average='micro'))\n",
    "print(metrics.precision_recall_fscore_support(classes, predictions, average='micro'))"
   ]
  },
  {
   "cell_type": "markdown",
   "metadata": {},
   "source": [
    "#### ROC Curves"
   ]
  },
  {
   "cell_type": "markdown",
   "metadata": {},
   "source": [
    "http://scikit-learn.org/stable/auto_examples/model_selection/plot_roc.html\n",
    "\n",
    "also want to look at:\n",
    "\n",
    "http://scikit-learn.org/stable/auto_examples/model_selection/plot_roc_crossval.html#example-model-selection-plot-roc-crossval-py"
   ]
  },
  {
   "cell_type": "code",
   "execution_count": null,
   "metadata": {
    "collapsed": false
   },
   "outputs": [],
   "source": [
    "from sklearn import preprocessing, multiclass"
   ]
  },
  {
   "cell_type": "code",
   "execution_count": null,
   "metadata": {
    "collapsed": false
   },
   "outputs": [],
   "source": [
    "classes = preprocessing.label_binarize(classes, classes=[0,1,2])\n",
    "knn = neighbors.KNeighborsClassifier(n_neighbors=5)\n",
    "mod = multiclass.OneVsRestClassifier(knn)\n",
    "\n",
    "y_score = mod.fit(examples, classes).predict_proba(examples)"
   ]
  },
  {
   "cell_type": "code",
   "execution_count": null,
   "metadata": {
    "collapsed": false
   },
   "outputs": [],
   "source": [
    "print(y_score.shape)\n",
    "print(y_score[0])\n",
    "\n",
    "print(classes[0], y_score[0])\n",
    "print(classes[100], y_score[100])"
   ]
  },
  {
   "cell_type": "code",
   "execution_count": null,
   "metadata": {
    "collapsed": false
   },
   "outputs": [],
   "source": [
    "# fpr, tpr, threshold\n",
    "metrics.roc_curve(classes[:,1], y_score[:,1])"
   ]
  },
  {
   "cell_type": "code",
   "execution_count": null,
   "metadata": {
    "collapsed": false
   },
   "outputs": [],
   "source": [
    "fig = plt.figure(figsize=(10,5))\n",
    "ax = fig.gca()\n",
    "\n",
    "for i in xrange(3):\n",
    "    fpr, tpr, _ = metrics.roc_curve(classes[:,i], y_score[:,i])\n",
    "    ax.plot(fpr, tpr, label=\"Class %d (AUC=%6.2f)\" % (i, metrics.auc(fpr, tpr)))\n",
    "    \n",
    "micro_fpr, micro_tpr = metrics.roc_curve(classes.ravel(), y_score.ravel())[:2]\n",
    "micro_area_1 = metrics.auc(micro_fpr, micro_tpr)\n",
    "micro_area_2 = metrics.roc_auc_score(classes.ravel(), y_score.ravel(), average=\"micro\")\n",
    "\n",
    "print(\"Should be the True: \", np.allclose(micro_area_1, micro_area_2))\n",
    "\n",
    "ax.plot(micro_fpr, micro_tpr, label='micro-average ROC curve (AUC = %f)' % micro_area)\n",
    "\n",
    "ax.set_xlim(0.0, 1.05)\n",
    "ax.set_ylim(0.8, 1.01)\n",
    "\n",
    "ax.legend(loc=\"lower right\");"
   ]
  },
  {
   "cell_type": "markdown",
   "metadata": {},
   "source": [
    "### Exercise"
   ]
  },
  {
   "cell_type": "markdown",
   "metadata": {},
   "source": [
    "In \"Model Comparison\" above, the k-folds are created inside the for-loop (see line 5).  What are the effects of moving that line outside (above) the loop?  Is this strictly a benefit or are there any drawbacks?  What factors might influence your answer?\n",
    "\n",
    "Pick your favorite (sklearn) classifier and generate an ROC curve and classification report for either the wine dataset or a synthetic classification dataset (or another dataset of your choice!).\n",
    "\n",
    "A slightly harder and open-ended problem:  Can you use AUC as a scoring function to generate a learning curve based on AUC instead of accuracy?\n",
    "See:\n",
    "\n",
    "  * http://scikit-learn.org/stable/modules/generated/sklearn.learning_curve.learning_curve.html\n",
    "  * http://scikit-learn.org/stable/modules/generated/sklearn.metrics.make_scorer.html\n",
    "  * http://scikit-learn.org/stable/modules/generated/sklearn.metrics.roc_auc_score.html"
   ]
  },
  {
   "cell_type": "markdown",
   "metadata": {},
   "source": [
    "### For Regression Models"
   ]
  },
  {
   "cell_type": "code",
   "execution_count": null,
   "metadata": {
    "collapsed": false
   },
   "outputs": [],
   "source": [
    "diabetes_dataset = datasets.load_diabetes()\n",
    "dd_examples, dd_targets = diabetes_dataset.data, diabetes_dataset.target\n",
    "\n",
    "linreg = linear_model.LinearRegression()\n",
    "kfold = cross_validation.KFold(len(dd_examples), n_folds=3, shuffle=True)"
   ]
  },
  {
   "cell_type": "code",
   "execution_count": null,
   "metadata": {
    "collapsed": false
   },
   "outputs": [],
   "source": [
    "# manually extract a k-fold train/test split\n",
    "train, test = next(iter(kfold))\n",
    "linreg.fit(dd_examples[train], dd_targets[train])\n",
    "\n",
    "preds  = linreg.predict(dd_examples[test])\n",
    "errors = preds - dd_targets[test]\n",
    "\n",
    "print(np.mean(errors**2))"
   ]
  },
  {
   "cell_type": "code",
   "execution_count": null,
   "metadata": {
    "collapsed": false
   },
   "outputs": [],
   "source": [
    "for train, test in kfold:\n",
    "    preds = linreg.fit(dd_examples[train], dd_targets[train]).predict(dd_examples[test])\n",
    "    print(metrics.mean_squared_error(preds, dd_targets[test]))"
   ]
  },
  {
   "cell_type": "code",
   "execution_count": null,
   "metadata": {
    "collapsed": false
   },
   "outputs": [],
   "source": [
    "cv_scores = cross_validation.cross_val_score(linreg, dd_examples, dd_targets, \n",
    "                                             cv=kfold, \n",
    "                                             scoring='mean_squared_error', \n",
    "                                             n_jobs=-1) # all CPUs\n",
    "print(cv_scores)"
   ]
  },
  {
   "cell_type": "markdown",
   "metadata": {},
   "source": [
    "Additional regression metrics are described here:\n",
    "\n",
    "http://scikit-learn.org/stable/modules/model_evaluation.html#regression-metrics\n",
    "\n",
    "Their names are all importable from `sklearn.metrics`:\n",
    "\n",
    "`explained_variance_score \n",
    "mean_absolute_error \n",
    "mean_squared_error \n",
    "median_absolute_error \n",
    "r2_score` \n"
   ]
  },
  {
   "cell_type": "markdown",
   "metadata": {},
   "source": [
    "### Exercise"
   ]
  },
  {
   "cell_type": "markdown",
   "metadata": {},
   "source": [
    "  1. On the diabetes dataset, run a 10-fold cross-validation for each of the five scoring functions and compute the correlations of the scores for each fold.\n",
    "\n",
    "  2. See if you can replace `scoring=\"string\"` with `scoring=aScorer` (i.e., a callable with signature `aScorer(estimator, inputs, output)`.  This may be of use:\n",
    "  \n",
    "    * http://scikit-learn.org/stable/modules/generated/sklearn.metrics.make_scorer.html\n"
   ]
  },
  {
   "cell_type": "code",
   "execution_count": null,
   "metadata": {
    "collapsed": false
   },
   "outputs": [],
   "source": [
    "import numpy as np\n",
    "import matplotlib.pyplot as plt\n",
    "from sklearn import (cross_validation, datasets,\n",
    "                     learning_curve,\n",
    "                     decomposition,\n",
    "                     grid_search, linear_model, \n",
    "                     neighbors, metrics)\n",
    "%matplotlib inline"
   ]
  },
  {
   "cell_type": "markdown",
   "metadata": {},
   "source": [
    "### Choosing Model Parameters with Grid Search"
   ]
  },
  {
   "cell_type": "code",
   "execution_count": null,
   "metadata": {
    "collapsed": false
   },
   "outputs": [],
   "source": [
    "iris_data = datasets.load_iris()\n",
    "\n",
    "# print(iris_data.DESCR)\n",
    "\n",
    "examples = iris_data.data\n",
    "classes  = iris_data.target"
   ]
  },
  {
   "cell_type": "code",
   "execution_count": null,
   "metadata": {
    "collapsed": false
   },
   "outputs": [],
   "source": [
    "knn = neighbors.KNeighborsClassifier()\n",
    "num_neigh = np.arange(1,11)\n",
    "\n",
    "kfold = cross_validation.KFold(len(examples), n_folds=10, shuffle=True)\n",
    "\n",
    "mod = grid_search.GridSearchCV(estimator = knn,\n",
    "                               param_grid = {\"n_neighbors\":num_neigh},\n",
    "                               cv=kfold)\n",
    "print(mod.fit(examples, classes))"
   ]
  },
  {
   "cell_type": "code",
   "execution_count": null,
   "metadata": {
    "collapsed": false
   },
   "outputs": [],
   "source": [
    "print(mod.best_estimator_)\n",
    "print(mod.best_params_)"
   ]
  },
  {
   "cell_type": "markdown",
   "metadata": {},
   "source": [
    "From http://scikit-learn.org/stable/modules/generated/sklearn.grid_search.GridSearchCV.html\n",
    "\n",
    "> If n_jobs was set to a value higher than one, the data is copied for each point in the grid (and not n_jobs times). This is done for efficiency reasons if individual jobs take very little time, but may raise errors if the dataset is large and not enough memory is available. A workaround in this case is to set pre_dispatch. Then, the memory is copied only pre_dispatch many times. A reasonable value for pre_dispatch is 2 * n_jobs."
   ]
  },
  {
   "cell_type": "code",
   "execution_count": null,
   "metadata": {
    "collapsed": false
   },
   "outputs": [],
   "source": [
    "from IPython.display import display\n",
    "from operator import attrgetter as ag\n",
    "mod.grid_scores_.sort(key=ag(\"mean_validation_score\"),\n",
    "                      reverse=True)\n",
    "display(mod.grid_scores_)"
   ]
  },
  {
   "cell_type": "markdown",
   "metadata": {},
   "source": [
    "If we haven't hit on `NamedTuples`, you might want to look at:\n",
    "  * https://docs.python.org/2/library/collections.html#collections.namedtuple\n",
    "\n",
    "Essentially, this gives us a tuple with class style named-attribute lookup.  It serves as a replacement for a class with -only- named data attributes."
   ]
  },
  {
   "cell_type": "code",
   "execution_count": null,
   "metadata": {
    "collapsed": false
   },
   "outputs": [],
   "source": [
    "print(type(mod.grid_scores_[0]))"
   ]
  },
  {
   "cell_type": "code",
   "execution_count": null,
   "metadata": {
    "collapsed": false
   },
   "outputs": [],
   "source": [
    "scoreByNeigh = {itm.parameters['n_neighbors']:itm.mean_validation_score for itm in mod.grid_scores_}\n",
    "plt.plot(num_neigh, [scoreByNeigh[n] for n in num_neigh], \"ro\")\n",
    "# wow!  big difference!  careful - look at the scale!\n",
    "# plt.ylim(0, 1.05)"
   ]
  },
  {
   "cell_type": "markdown",
   "metadata": {},
   "source": [
    "### Multiple Parameters"
   ]
  },
  {
   "cell_type": "code",
   "execution_count": null,
   "metadata": {
    "collapsed": false
   },
   "outputs": [],
   "source": [
    "knn = neighbors.KNeighborsClassifier()\n",
    "print(knn.get_params())"
   ]
  },
  {
   "cell_type": "code",
   "execution_count": null,
   "metadata": {
    "collapsed": false
   },
   "outputs": [],
   "source": [
    "# for weights:\n",
    "# distance means \"friend's\" contribution is weighted by distance from \"me\"\n",
    "# p is arg to Minkowski dist. (p-norm for distance)\n",
    "param_grid = {\"n_neighbors\" : np.arange(1,11),\n",
    "              \"weights\"     : ['uniform', 'distance'],\n",
    "              \"p\"           : [1,2,4,8,16]}\n",
    "    \n",
    "kfold = cross_validation.KFold(len(examples), n_folds=10, shuffle=True)\n",
    "\n",
    "mod = grid_search.GridSearchCV(estimator = knn,\n",
    "                               param_grid = param_grid,\n",
    "                               cv=kfold)\n",
    "mod.fit(examples, classes)"
   ]
  },
  {
   "cell_type": "code",
   "execution_count": null,
   "metadata": {
    "collapsed": false
   },
   "outputs": [],
   "source": [
    "print(mod.best_score_)\n",
    "print(mod.best_params_)"
   ]
  },
  {
   "cell_type": "markdown",
   "metadata": {},
   "source": [
    "### Exercise"
   ]
  },
  {
   "cell_type": "markdown",
   "metadata": {},
   "source": [
    "  1. Determine if stratification effects our parameter estimate or estimates.\n",
    "  \n",
    "  1.  Are we overfitting?  Use a train/test split (or k-fold CV) to hold-out some data from the grid search.  Note that the result of GridSearch/GridSearchCV is \"just\" a learning model.  So, you can pass it around anywhere a model is expected."
   ]
  },
  {
   "cell_type": "markdown",
   "metadata": {},
   "source": [
    "### Meta:  An answer"
   ]
  },
  {
   "cell_type": "code",
   "execution_count": null,
   "metadata": {
    "collapsed": false
   },
   "outputs": [],
   "source": [
    "# for weights:\n",
    "# distance means \"friend's\" contribution is weighted by distance from \"me\"\n",
    "# p is arg to Minkowski dist. (p-norm for distance)\n",
    "param_grid = {\"n_neighbors\" : np.arange(1,11),\n",
    "              \"weights\"     : ['uniform', 'distance'],\n",
    "              \"p\"           : [1,2,4,8,16]}\n",
    "\n",
    "# 10-fold \"inner\" CV; 3-fold (default) \"outer\" CV\n",
    "kfold = cross_validation.KFold(len(examples)/3, n_folds=10, shuffle=True)\n",
    "\n",
    "mod = grid_search.GridSearchCV(estimator = knn,\n",
    "                               param_grid = param_grid,\n",
    "                               cv=kfold)\n",
    "# default is 3-fold ... what else is *really important* to remember about the default\n",
    "# CV?\n",
    "cross_validation.cross_val_score(mod, examples, classes)"
   ]
  },
  {
   "cell_type": "markdown",
   "metadata": {},
   "source": [
    "### Randomized Parameter Search"
   ]
  },
  {
   "cell_type": "code",
   "execution_count": null,
   "metadata": {
    "collapsed": false
   },
   "outputs": [],
   "source": [
    "import scipy.stats as ss\n",
    "\n",
    "knn = neighbors.KNeighborsClassifier()\n",
    "\n",
    "param_dist = {\"n_neighbors\" : ss.geom(p=0.2),\n",
    "              \"weights\"     : ['uniform', 'distance'],\n",
    "              \"p\"           : ss.geom(p=.5)}\n",
    "\n",
    "kfold = cross_validation.KFold(len(examples), n_folds=10, shuffle=True)\n",
    "\n",
    "mod = grid_search.RandomizedSearchCV(estimator = knn,\n",
    "                                     param_distributions = param_dist,\n",
    "                                     cv=kfold,\n",
    "                                     n_iter=5)"
   ]
  },
  {
   "cell_type": "code",
   "execution_count": null,
   "metadata": {
    "collapsed": false
   },
   "outputs": [],
   "source": [
    "mod.fit(examples, classes)\n",
    "mod.grid_scores_"
   ]
  },
  {
   "cell_type": "markdown",
   "metadata": {},
   "source": [
    "### A Larger Example Comparing Random and Grid Search"
   ]
  },
  {
   "cell_type": "markdown",
   "metadata": {},
   "source": [
    "A larger example from:\n",
    "\n",
    "http://scikit-learn.org/stable/auto_examples/model_selection/randomized_search.html#example-model-selection-randomized-search-py\n",
    "\n",
    "which compares random and complete search."
   ]
  },
  {
   "cell_type": "code",
   "execution_count": null,
   "metadata": {
    "collapsed": false
   },
   "outputs": [],
   "source": [
    "import numpy as np\n",
    "\n",
    "from time import time\n",
    "from operator import itemgetter\n",
    "from scipy.stats import randint as sp_randint\n",
    "\n",
    "from sklearn.grid_search import GridSearchCV, RandomizedSearchCV\n",
    "from sklearn.datasets import load_digits\n",
    "from sklearn.ensemble import RandomForestClassifier\n",
    "\n",
    "# get some data\n",
    "iris = load_digits()\n",
    "X, y = iris.data, iris.target\n",
    "\n",
    "# build a classifier\n",
    "clf = RandomForestClassifier(n_estimators=20)\n",
    "\n",
    "\n",
    "# Utility function to report best scores\n",
    "def report(grid_scores, n_top=3):\n",
    "    top_scores = sorted(grid_scores, key=itemgetter(1), reverse=True)[:n_top]\n",
    "    for i, score in enumerate(top_scores):\n",
    "        print(\"Model with rank: {0}\".format(i + 1))\n",
    "        print(\"Mean validation score: {0:.3f} (std: {1:.3f})\".format(\n",
    "              score.mean_validation_score,\n",
    "              np.std(score.cv_validation_scores)))\n",
    "        print(\"Parameters: {0}\".format(score.parameters))\n",
    "        print(\"\")\n",
    "\n",
    "\n",
    "# specify parameters and distributions to sample from\n",
    "param_dist = {\"max_depth\": [3, None],\n",
    "              \"max_features\": sp_randint(1, 11),\n",
    "              \"min_samples_split\": sp_randint(1, 11),\n",
    "              \"min_samples_leaf\": sp_randint(1, 11),\n",
    "              \"bootstrap\": [True, False],\n",
    "              \"criterion\": [\"gini\", \"entropy\"]}\n",
    "\n",
    "# run randomized search\n",
    "n_iter_search = 20\n",
    "random_search = RandomizedSearchCV(clf, param_distributions=param_dist,\n",
    "                                   n_iter=n_iter_search)\n",
    "\n",
    "start = time()\n",
    "random_search.fit(X, y)\n",
    "print(\"RandomizedSearchCV took %.2f seconds for %d candidates\"\n",
    "      \" parameter settings.\" % ((time() - start), n_iter_search))\n",
    "report(random_search.grid_scores_)\n",
    "\n",
    "# use a full grid over all parameters\n",
    "param_grid = {\"max_depth\": [3, None],\n",
    "              \"max_features\": [1, 3, 10],\n",
    "              \"min_samples_split\": [1, 3, 10],\n",
    "              \"min_samples_leaf\": [1, 3, 10],\n",
    "              \"bootstrap\": [True, False],\n",
    "              \"criterion\": [\"gini\", \"entropy\"]}\n",
    "\n",
    "# run grid search\n",
    "grid_search = GridSearchCV(clf, param_grid=param_grid)\n",
    "start = time()\n",
    "grid_search.fit(X, y)\n",
    "\n",
    "print(\"GridSearchCV took %.2f seconds for %d candidate parameter settings.\"\n",
    "      % (time() - start, len(grid_search.grid_scores_)))\n",
    "report(grid_search.grid_scores_)"
   ]
  },
  {
   "cell_type": "code",
   "execution_count": null,
   "metadata": {
    "collapsed": false
   },
   "outputs": [],
   "source": [
    "import numpy as np\n",
    "import matplotlib.pyplot as plt\n",
    "from sklearn import (cross_validation, datasets,\n",
    "                     decomposition,\n",
    "                     grid_search, linear_model, \n",
    "                     neighbors, metrics,\n",
    "                     preprocessing,\n",
    "                     pipeline)\n",
    "%matplotlib inline"
   ]
  },
  {
   "cell_type": "markdown",
   "metadata": {},
   "source": [
    "### Preprocessing"
   ]
  },
  {
   "cell_type": "markdown",
   "metadata": {},
   "source": [
    "http://scikit-learn.org/stable/modules/classes.html#module-sklearn.preprocessing"
   ]
  },
  {
   "cell_type": "markdown",
   "metadata": {},
   "source": [
    "#### Linear Min/Max Scaling"
   ]
  },
  {
   "cell_type": "code",
   "execution_count": null,
   "metadata": {
    "collapsed": false
   },
   "outputs": [],
   "source": [
    "train = np.array([[ 1., -1.,  2.],\n",
    "                    [ 2.,  0.,  0.],\n",
    "                    [ 0.,  1., -1.]])\n",
    "\n",
    "min_max_scaler = preprocessing.MinMaxScaler()  # allows feature_range=(min,max)\n",
    "train_minmax = min_max_scaler.fit_transform(train)\n",
    "print(train_minmax)\n",
    "\n",
    "test = np.array([[ -3., -1.,  4.]])\n",
    "test_minmax = min_max_scaler.transform(test)\n",
    "print(test_minmax)"
   ]
  },
  {
   "cell_type": "code",
   "execution_count": null,
   "metadata": {
    "collapsed": false
   },
   "outputs": [],
   "source": [
    "from sklearn import preprocessing\n",
    "import numpy as np\n",
    "train = np.c_[np.random.normal(10, 2, 100),\n",
    "              np.random.normal(size=100),\n",
    "              np.random.normal(0, 5, 100)]\n",
    "\n",
    "# with_mean/with_std True/False (default True)\n",
    "scaled = preprocessing.scale(train)\n",
    "print(np.allclose(0.0, scaled.mean(axis=0)), np.allclose(1.0, scaled.std(axis=0)))\n",
    "\n",
    "# preprocessing.StandardScaler (as above) to learn a scaler to apply to later test data"
   ]
  },
  {
   "cell_type": "markdown",
   "metadata": {},
   "source": [
    "### PCA"
   ]
  },
  {
   "cell_type": "code",
   "execution_count": null,
   "metadata": {
    "collapsed": false
   },
   "outputs": [],
   "source": [
    "# helper function\n",
    "def examineData(data, ax=None, color=\"\"):\n",
    "    print(\"Mean Vector:\")\n",
    "    print(np.mean(data, axis=0))\n",
    "    print(\"Covariance Matrix:\")\n",
    "    print(np.cov(data, rowvar=False))\n",
    "    \n",
    "    if not ax:\n",
    "        fig, ax = plt.subplots(1,1)\n",
    "    ax.plot(data.T[0], data.T[1], color + 'o')\n",
    "    ax.set_aspect('equal')\n",
    "    ax.set_xlim((-20,20))\n",
    "    ax.set_ylim((-20,20))"
   ]
  },
  {
   "cell_type": "code",
   "execution_count": null,
   "metadata": {
    "collapsed": false
   },
   "outputs": [],
   "source": [
    "fig, ax1 = plt.subplots(1, 1)\n",
    "\n",
    "# create some sample data\n",
    "mean = [8,12]\n",
    "cov = [[2,3],[5,8]]\n",
    "data = np.random.multivariate_normal(mean, cov, 100)\n",
    "examineData(data, ax1, 'b')\n",
    "\n",
    "# center the data\n",
    "centered = data - np.mean(data,axis=0)\n",
    "examineData(centered, ax1, 'r')"
   ]
  },
  {
   "cell_type": "code",
   "execution_count": null,
   "metadata": {
    "collapsed": false
   },
   "outputs": [],
   "source": [
    "# center the data\n",
    "centered = data - np.mean(data,axis=0)\n",
    "examineData(centered)"
   ]
  },
  {
   "cell_type": "markdown",
   "metadata": {},
   "source": [
    "#### PCA Take 1: Rotation from Pricipal (Data) Axes to Standard Axes"
   ]
  },
  {
   "cell_type": "code",
   "execution_count": null,
   "metadata": {
    "collapsed": false
   },
   "outputs": [],
   "source": [
    "pca = decomposition.PCA(n_components=2)\n",
    "pca.fit(centered)\n",
    "rotated = pca.fit_transform(centered)\n",
    "examineData(rotated)"
   ]
  },
  {
   "cell_type": "markdown",
   "metadata": {},
   "source": [
    "#### PCA Take 2:  *Sphere*ing (i.e., Whitening or IID Whitening)"
   ]
  },
  {
   "cell_type": "code",
   "execution_count": null,
   "metadata": {
    "collapsed": false
   },
   "outputs": [],
   "source": [
    "pca = decomposition.PCA(n_components=2, whiten=True)\n",
    "pca.fit(centered)\n",
    "sphered = pca.fit_transform(centered)\n",
    "examineData(sphered)"
   ]
  },
  {
   "cell_type": "markdown",
   "metadata": {},
   "source": [
    "#### PCA Take 3:  On Standardized Data"
   ]
  },
  {
   "cell_type": "code",
   "execution_count": null,
   "metadata": {
    "collapsed": false
   },
   "outputs": [],
   "source": [
    "fig, (ax1, ax2) = plt.subplots(1, 2, figsize=(10,5))\n",
    "\n",
    "# see also:  scipy.stats.zscore\n",
    "zdata = (data-np.mean(data, axis=0)) / np.std(data, axis=0, ddof=1)\n",
    "examineData(zdata, ax1)\n",
    "\n",
    "pca = decomposition.PCA(n_components=2)\n",
    "pca.fit(zdata)\n",
    "rotated_z = pca.fit_transform(zdata)\n",
    "examineData(rotated_z, ax2)"
   ]
  },
  {
   "cell_type": "markdown",
   "metadata": {},
   "source": [
    "#### And One More Example"
   ]
  },
  {
   "cell_type": "code",
   "execution_count": null,
   "metadata": {
    "collapsed": false
   },
   "outputs": [],
   "source": [
    "mean = [8,12]\n",
    "cov = [[2,3],[5,8]]\n",
    "X, Y = np.random.multivariate_normal(mean, cov, 100).T\n",
    "expanded_data = np.c_[2*X + Y, .5*X+.5*Y, X**2 + Y, np.sqrt(X) + np.sin(Y)]\n",
    "centered = expanded_data - np.mean(expanded_data, axis=0)\n",
    "\n",
    "import pandas as pd\n",
    "pd.tools.plotting.scatter_matrix(pd.DataFrame(centered));"
   ]
  },
  {
   "cell_type": "code",
   "execution_count": null,
   "metadata": {
    "collapsed": false
   },
   "outputs": [],
   "source": [
    "pca = decomposition.PCA(n_components=2, whiten=True)\n",
    "pca.fit(centered)\n",
    "\n",
    "fmt = \"Component %d explains %f of variance\"\n",
    "print(\"\\n\".join(fmt % (idx, evr) for idx, evr in enumerate(pca.explained_variance_ratio_)))\n",
    "sphered = pca.fit_transform(centered)  # .fit() then .transform()\n",
    "examineData(sphered)"
   ]
  },
  {
   "cell_type": "markdown",
   "metadata": {},
   "source": [
    "### ICA"
   ]
  },
  {
   "cell_type": "markdown",
   "metadata": {},
   "source": [
    "From: http://scikit-learn.org/stable/auto_examples/decomposition/plot_ica_vs_pca.html"
   ]
  },
  {
   "cell_type": "code",
   "execution_count": null,
   "metadata": {
    "collapsed": false
   },
   "outputs": [],
   "source": [
    "def plotTwoCol(data, ax, *args, **kwargs):\n",
    "    ax.plot(data[:,0], data[:,1], *args, **kwargs)"
   ]
  },
  {
   "cell_type": "code",
   "execution_count": null,
   "metadata": {
    "collapsed": false
   },
   "outputs": [],
   "source": [
    "src = np.random.standard_t(1.5, size=(1000,2))\n",
    "src[:, 0] *= 2\n",
    "\n",
    "# create observed data as mixture of src\n",
    "mix = np.array([[1, 1],   \n",
    "                [0, 2]])\n",
    "obs = np.dot(src, mix.T)"
   ]
  },
  {
   "cell_type": "code",
   "execution_count": null,
   "metadata": {
    "collapsed": false
   },
   "outputs": [],
   "source": [
    "# obs[i] = <src[i]*A[0], src[i]*A[1]>\n",
    "print(np.dot(src[0], mix[0,:]), np.dot(src[0], mix[1,:]))\n",
    "print(src[0], \"-->\", obs[0])"
   ]
  },
  {
   "cell_type": "code",
   "execution_count": null,
   "metadata": {
    "collapsed": false
   },
   "outputs": [],
   "source": [
    "obs /= np.std(obs, axis=0)"
   ]
  },
  {
   "cell_type": "code",
   "execution_count": null,
   "metadata": {
    "collapsed": false
   },
   "outputs": [],
   "source": [
    "fig, (ax1, ax2) = plt.subplots(1,2,figsize=(10,5), sharey=True)\n",
    "plotTwoCol(src/np.std(src,axis=0), ax1, \"b.\")\n",
    "plotTwoCol(obs, ax2, 'r.')\n",
    "\n",
    "ax1.set_title(\"True Sources\")\n",
    "ax2.set_title(\"Observed Data\")\n",
    "\n",
    "ax1.set_ylim(-4, 4)\n",
    "ax1.set_xlim(-4, 4)\n",
    "ax2.set_xlim(-4, 4)"
   ]
  },
  {
   "cell_type": "code",
   "execution_count": null,
   "metadata": {
    "collapsed": false
   },
   "outputs": [],
   "source": [
    "pca = decomposition.PCA()\n",
    "rec_pca = pca.fit_transform(obs) # .transform(X)\n",
    "\n",
    "ica = decomposition.FastICA()\n",
    "rec_ica = ica.fit_transform(obs) # .transform(X)  # Estimate the sources"
   ]
  },
  {
   "cell_type": "code",
   "execution_count": null,
   "metadata": {
    "collapsed": false
   },
   "outputs": [],
   "source": [
    "fig, (ax1, ax2) = plt.subplots(1,2,figsize=(10,5), sharey=True)\n",
    "#ax1.plot(rec_pca[:,0], rec_pca[:,1], \"b.\")\n",
    "#ax2.plot(rec_ica[:,0], rec_ica[:,1], \"r.\")\n",
    "plotTwoCol(rec_pca / np.std(rec_pca, axis=0), ax1, 'b.')\n",
    "plotTwoCol(rec_ica / np.std(rec_ica, axis=0), ax2, 'r.')\n",
    "\n",
    "ax1.set_title(\"Recovered via PCA\")\n",
    "ax2.set_title(\"Recovered via ICA\")\n",
    "\n",
    "ax1.set_ylim(-4,4)\n",
    "ax1.set_xlim(-4,4)\n",
    "ax2.set_xlim(-4,4)"
   ]
  },
  {
   "cell_type": "code",
   "execution_count": null,
   "metadata": {
    "collapsed": false
   },
   "outputs": [],
   "source": [
    "fig, axes =  plt.subplots(2, 2, figsize=(10,10), sharey=True, sharex=True)\n",
    "plotTwoCol(src/np.std(src,axis=0), axes[0,0], \"b.\")\n",
    "plotTwoCol(obs, axes[0,1], 'r.')\n",
    "\n",
    "axes[0,0].set_title(\"True Sources\")\n",
    "axes[0,1].set_title(\"Observed Data\")\n",
    "\n",
    "plotTwoCol(rec_pca / np.std(rec_pca, axis=0), axes[1,0], 'g.')\n",
    "plotTwoCol(rec_ica / np.std(rec_ica, axis=0), axes[1,1], 'y.')\n",
    "\n",
    "axes[1,0].set_title(\"Recovered via PCA\")\n",
    "axes[1,1].set_title(\"Recovered via ICA\")\n",
    "\n",
    "for ax in axes.flat:\n",
    "    ax.set_xlim(-4,4)\n",
    "    ax.set_ylim(-4,4)"
   ]
  },
  {
   "cell_type": "markdown",
   "metadata": {},
   "source": [
    "### Application of PCA and ICA"
   ]
  },
  {
   "cell_type": "markdown",
   "metadata": {},
   "source": [
    "http://scikit-learn.org/stable/auto_examples/decomposition/plot_ica_blind_source_separation.html"
   ]
  },
  {
   "cell_type": "code",
   "execution_count": null,
   "metadata": {
    "collapsed": false
   },
   "outputs": [],
   "source": [
    "from scipy import signal"
   ]
  },
  {
   "cell_type": "code",
   "execution_count": null,
   "metadata": {
    "collapsed": false
   },
   "outputs": [],
   "source": [
    "n_samples = 2000\n",
    "time = np.linspace(0, 8, n_samples)\n",
    "\n",
    "s1 = np.sin(2 * time)                    # Signal 1 : sinusoidal signal\n",
    "s2 = np.sign(np.sin(3 * time))           # Signal 2 : square signal\n",
    "s3 = signal.sawtooth(2 * np.pi * time)   # Signal 3 : saw tooth signal\n",
    "\n",
    "src = np.c_[s1, s2, s3]                        # combine\n",
    "src += 0.2 * np.random.normal(size=src.shape)  # add noise\n",
    "src /= np.std(src, axis=0)                     # standardize\n",
    "\n",
    "# linear mix of sources to create observed data\n",
    "mix = np.array([[1, 1, 1], \n",
    "              [0.5, 2, 1.0], \n",
    "              [1.5, 1.0, 2.0]])  \n",
    "obs = np.dot(src, mix.T)\n",
    "obs /= np.std(obs, axis=0)"
   ]
  },
  {
   "cell_type": "code",
   "execution_count": null,
   "metadata": {
    "collapsed": false
   },
   "outputs": [],
   "source": [
    "ica = decomposition.FastICA(n_components=3)\n",
    "rec_ica = ica.fit_transform(obs)\n",
    "est_mix = ica.mixing_           # get estimated mixing matrix\n",
    "\n",
    "# We can `prove` that the ICA model applies by reverting the unmixing.\n",
    "print(\"Should be true: \", np.allclose(obs, \n",
    "                                      np.dot(rec_ica, est_mix.T) + ica.mean_))\n",
    "\n",
    "# For comparison, compute PCA\n",
    "pca = decomposition.PCA(n_components=3)\n",
    "rec_pca = pca.fit_transform(obs)"
   ]
  },
  {
   "cell_type": "code",
   "execution_count": null,
   "metadata": {
    "collapsed": false
   },
   "outputs": [],
   "source": [
    "fig, axes = plt.subplots(4,1,sharex=True, figsize=(20,10))\n",
    "\n",
    "titles = [\"Sources\", \"Observations\", \"ICA\", \"PCA\"]\n",
    "datasets = [src, obs, rec_ica, rec_pca]\n",
    "\n",
    "for ax, title, dset in zip(axes.flat, titles, datasets):\n",
    "    ax.set_title(title)\n",
    "    for sig in dset.T:\n",
    "        ax.plot(sig/np.std(sig))\n",
    "        \n",
    "# WARNING!  The extracted components are not necessarily \"in the same order\" as the original\n",
    "#           sources or observations.  So, reds are not necessariliy the closest\n",
    "#           to each other."
   ]
  },
  {
   "cell_type": "markdown",
   "metadata": {},
   "source": [
    "### Basis Expansion"
   ]
  },
  {
   "cell_type": "markdown",
   "metadata": {},
   "source": [
    "http://scikit-learn.org/stable/modules/generated/sklearn.preprocessing.PolynomialFeatures.html"
   ]
  },
  {
   "cell_type": "code",
   "execution_count": null,
   "metadata": {
    "collapsed": false
   },
   "outputs": [],
   "source": [
    "x = np.arange(6).reshape(3, 2)\n",
    "print(x)\n",
    "\n",
    "# include_bias=True (default) gets constant/intercept term\n",
    "poly0 = preprocessing.PolynomialFeatures(0)\n",
    "print(poly0.fit_transform(x))\n",
    "\n",
    "poly1 = preprocessing.PolynomialFeatures(1)\n",
    "print(poly1.fit_transform(x))\n",
    "\n",
    "# all degree 0, 1, 2 polys with these 2 features (x,y):\n",
    "# a, bx, cy, dxx, eyy, fxy\n",
    "poly2 = preprocessing.PolynomialFeatures(2)\n",
    "print(poly2.fit_transform(x))\n",
    "\n",
    "# only interactions:\n",
    "# ax**0y**0, bx**1y**0, cx**0y**1, dx**1y**1\n",
    "# no repeats - no squares\n",
    "poly3 = preprocessing.PolynomialFeatures(2, interaction_only=True)\n",
    "print(poly3.fit_transform(x))"
   ]
  },
  {
   "cell_type": "markdown",
   "metadata": {},
   "source": [
    "### Exercise"
   ]
  },
  {
   "cell_type": "markdown",
   "metadata": {},
   "source": [
    "You can grab the wine dataset with:\n",
    "\n",
    "`\n",
    "import urllib\n",
    "url = 'https://archive.ics.uci.edu/ml/machine-learning-databases/wine/wine.data'\n",
    "urllib.urlretrieve(url, 'data/wine.csv')\n",
    "tbl = np.genfromtxt('data/wine.csv', delimiter=\",\")\n",
    "classes = tbl[:,0]\n",
    "examples = tbl[:,1:]\n",
    "`\n",
    "\n",
    "  1. Does adding degree-2 polynomial features help with the wine dataset?\n",
    "  1. Does applying PCA to the wine dataset improve our performance?\n",
    "  1. Is there a fundamental problem answering these questions (with the tools we've seen so far)?"
   ]
  },
  {
   "cell_type": "markdown",
   "metadata": {},
   "source": [
    "### Pipelines"
   ]
  },
  {
   "cell_type": "code",
   "execution_count": null,
   "metadata": {
    "collapsed": false
   },
   "outputs": [],
   "source": [
    "import urllib\n",
    "url = 'https://archive.ics.uci.edu/ml/machine-learning-databases/wine/wine.data'\n",
    "urllib.urlretrieve(url, 'data/wine.csv')\n",
    "tbl = np.genfromtxt('data/wine.csv', delimiter=\",\")"
   ]
  },
  {
   "cell_type": "code",
   "execution_count": null,
   "metadata": {
    "collapsed": false
   },
   "outputs": [],
   "source": [
    "iris_data = datasets.load_iris()\n",
    "examples = iris_data.data\n",
    "classes  = iris_data.target"
   ]
  },
  {
   "cell_type": "code",
   "execution_count": null,
   "metadata": {
    "collapsed": false
   },
   "outputs": [],
   "source": [
    "print(classes.shape)\n",
    "print(examples.shape)"
   ]
  },
  {
   "cell_type": "code",
   "execution_count": null,
   "metadata": {
    "collapsed": false
   },
   "outputs": [],
   "source": [
    "knn = neighbors.KNeighborsClassifier(n_neighbors=5)\n",
    "pca = decomposition.PCA()\n",
    "scaler = preprocessing.StandardScaler()\n",
    "\n",
    "pipe = pipeline.Pipeline(steps=[('scaler', scaler),\n",
    "                                ('pca', pca), \n",
    "                                ('knn', knn)])"
   ]
  },
  {
   "cell_type": "code",
   "execution_count": null,
   "metadata": {
    "collapsed": false
   },
   "outputs": [],
   "source": [
    "n_examples = len(examples)\n",
    "\n",
    "k_fold    = cross_validation.KFold(n_examples, n_folds=10, shuffle=True)\n",
    "cv_scores = cross_validation.cross_val_score(knn, examples, classes, \n",
    "                                             cv=k_fold, \n",
    "                                             scoring='accuracy', \n",
    "                                             n_jobs=-1) # all CPUs\n",
    "\n",
    "print(cv_scores)"
   ]
  },
  {
   "cell_type": "code",
   "execution_count": null,
   "metadata": {
    "collapsed": false
   },
   "outputs": [],
   "source": [
    "n_components = [1,2,4]\n",
    "n_neighbors  = np.arange(1,10)\n",
    "\n",
    "mod = grid_search.GridSearchCV(pipe, {\"pca__n_components\" : n_components,\n",
    "                                      \"knn__n_neighbors\"  : n_neighbors})\n",
    "mod.fit(examples, classes)\n",
    "\n",
    "print(mod.best_estimator_.named_steps['pca'].n_components)\n",
    "print(mod.best_estimator_.named_steps['knn'].n_neighbors)"
   ]
  },
  {
   "cell_type": "markdown",
   "metadata": {},
   "source": [
    "### Exercise"
   ]
  },
  {
   "cell_type": "markdown",
   "metadata": {},
   "source": [
    "  1.  What happens if we don't scale the data before executing the rest of the pipeline?  Theories?\n",
    "  2.  You should be able to do a much better job answering the previous questions:\n",
    "    1. Does adding degree-2 polynomial features help with the wine dataset?\n",
    "    1. Does applying PCA to the wine dataset improve our performance?  Again:  what happens if we scale/don't scale the data before adding PCA to our pipeline?\n",
    "    1. Can you find better parameters for this pipeline applied to the wine dataset?\n"
   ]
  },
  {
   "cell_type": "markdown",
   "metadata": {},
   "source": [
    "### Other Topics"
   ]
  },
  {
   "cell_type": "markdown",
   "metadata": {},
   "source": [
    "#### Feature Extraction"
   ]
  },
  {
   "cell_type": "markdown",
   "metadata": {},
   "source": [
    "http://scikit-learn.org/stable/auto_examples/cluster/plot_dict_face_patches.html\n",
    "\n",
    "http://scikit-learn.org/stable/modules/feature_extraction.html#patch-extraction"
   ]
  },
  {
   "cell_type": "markdown",
   "metadata": {},
   "source": [
    "#### Feature Selection"
   ]
  },
  {
   "cell_type": "markdown",
   "metadata": {},
   "source": [
    "http://scikit-learn.org/stable/modules/feature_selection.html"
   ]
  },
  {
   "cell_type": "code",
   "execution_count": null,
   "metadata": {
    "collapsed": false
   },
   "outputs": [],
   "source": [
    "from sklearn.feature_selection import VarianceThreshold\n",
    "x = [[0, 0, 1], \n",
    "     [0, 1, 0], \n",
    "     [1, 1, 0], \n",
    "     [0, 1, 1], \n",
    "     [0, 1, 0], \n",
    "     [0, 1, 1]]\n",
    "\n",
    "sel = VarianceThreshold() # if variance on ftr == 0\n",
    "print(sel.fit_transform(x))\n",
    "\n",
    "\n",
    "# if we want to remove features that are 80% the same\n",
    "# variance of a bernoulli is p(1-p) ...\n",
    "# so, .8(1-.8) = .8 * .2 = .16\n",
    "sel = VarianceThreshold(threshold=.16)\n",
    "print(sel.fit_transform(x))"
   ]
  },
  {
   "cell_type": "markdown",
   "metadata": {},
   "source": [
    "### Best Practices for SVM"
   ]
  },
  {
   "cell_type": "markdown",
   "metadata": {},
   "source": [
    "`libsvm` (more below) authors' have a nice document on best practices for SVM: \n",
    "\n",
    "  * http://www.csie.ntu.edu.tw/~cjlin/papers/guide/guide.pdf"
   ]
  },
  {
   "cell_type": "markdown",
   "metadata": {},
   "source": [
    "### Preprocessing, SVM, and Faces"
   ]
  },
  {
   "cell_type": "markdown",
   "metadata": {},
   "source": [
    "`sklearn` has some nice examples using the \"faces in the wild\" dataset.  There is a shorter version of the examples here:\n",
    "  * http://scipy-lectures.github.io/packages/scikit-learn/index.html#putting-it-all-together-face-recognition\n",
    " \n",
    "And a long version here:\n",
    "  * http://scikit-learn.org/dev/auto_examples/applications/face_recognition.html\n",
    "\n",
    "Below is a simplified (and more direct!) walkthrough of the process."
   ]
  },
  {
   "cell_type": "markdown",
   "metadata": {},
   "source": [
    "#### Imports"
   ]
  },
  {
   "cell_type": "code",
   "execution_count": null,
   "metadata": {
    "collapsed": false
   },
   "outputs": [],
   "source": [
    "import numpy as np\n",
    "import matplotlib.pyplot as plt\n",
    "\n",
    "import itertools as it\n",
    "\n",
    "%matplotlib inline"
   ]
  },
  {
   "cell_type": "code",
   "execution_count": null,
   "metadata": {
    "collapsed": false
   },
   "outputs": [],
   "source": [
    "from sklearn import datasets, cross_validation, decomposition, svm"
   ]
  },
  {
   "cell_type": "markdown",
   "metadata": {},
   "source": [
    "#### Retrieve Data"
   ]
  },
  {
   "cell_type": "code",
   "execution_count": 140,
   "metadata": {
    "collapsed": false
   },
   "outputs": [
    {
     "name": "stderr",
     "output_type": "stream",
     "text": [
      "/Users/dmertz/anaconda/lib/python3.4/site-packages/sklearn/datasets/lfw.py:90: DeprecationWarning: The 'warn' method is deprecated, use 'warning' instead\n",
      "  logger.warn(\"Downloading LFW metadata: %s\", url)\n",
      "WARNING:sklearn.datasets.lfw:Downloading LFW metadata: http://vis-www.cs.umass.edu/lfw/pairsDevTrain.txt\n",
      "/Users/dmertz/anaconda/lib/python3.4/site-packages/sklearn/datasets/lfw.py:90: DeprecationWarning: The 'warn' method is deprecated, use 'warning' instead\n",
      "  logger.warn(\"Downloading LFW metadata: %s\", url)\n",
      "WARNING:sklearn.datasets.lfw:Downloading LFW metadata: http://vis-www.cs.umass.edu/lfw/pairsDevTest.txt\n",
      "/Users/dmertz/anaconda/lib/python3.4/site-packages/sklearn/datasets/lfw.py:90: DeprecationWarning: The 'warn' method is deprecated, use 'warning' instead\n",
      "  logger.warn(\"Downloading LFW metadata: %s\", url)\n",
      "WARNING:sklearn.datasets.lfw:Downloading LFW metadata: http://vis-www.cs.umass.edu/lfw/pairs.txt\n",
      "/Users/dmertz/anaconda/lib/python3.4/site-packages/sklearn/datasets/lfw.py:99: DeprecationWarning: The 'warn' method is deprecated, use 'warning' instead\n",
      "  logger.warn(\"Downloading LFW data (~200MB): %s\", archive_url)\n",
      "WARNING:sklearn.datasets.lfw:Downloading LFW data (~200MB): http://vis-www.cs.umass.edu/lfw/lfw-funneled.tgz\n"
     ]
    }
   ],
   "source": [
    "lfw_people = datasets.fetch_lfw_people(min_faces_per_person=70, \n",
    "                                       resize=0.4, \n",
    "                                       data_home=\"./data\")\n",
    "examples = lfw_people.data\n",
    "classes  = lfw_people.target"
   ]
  },
  {
   "cell_type": "markdown",
   "metadata": {},
   "source": [
    "#### Split Data, Preprocess, and Build Model"
   ]
  },
  {
   "cell_type": "code",
   "execution_count": null,
   "metadata": {
    "collapsed": false
   },
   "outputs": [],
   "source": [
    "n_examples = len(examples)\n",
    "train_idx, test_idx = cross_validation.train_test_split(np.arange(n_examples)) # def 25% test\n",
    "\n",
    "pca = decomposition.RandomizedPCA(n_components=150, whiten=True)\n",
    "train_pca = pca.fit_transform(examples[train_idx])\n",
    "test_pca  = pca.transform(examples[test_idx])\n",
    "\n",
    "mod = svm.SVC(C=5.0, gamma=0.001)\n",
    "mod.fit(train_pca, classes[train_idx])"
   ]
  },
  {
   "cell_type": "markdown",
   "metadata": {},
   "source": [
    "#### Apply Model and Look at Results"
   ]
  },
  {
   "cell_type": "code",
   "execution_count": null,
   "metadata": {
    "collapsed": false
   },
   "outputs": [],
   "source": [
    "fig, axes = plt.subplots(2,5, figsize=(10,5))\n",
    "for original, projected, ax in it.islice(it.izip(examples[test_idx],\n",
    "                                                 test_pca,\n",
    "                                                 axes.flat), \n",
    "                                         10):\n",
    "    pred = mod.predict(projected)\n",
    "    name = lfw_people.target_names[pred][0]\n",
    "    print(\"predicted class number: %s and name: %s\" % (pred, name))\n",
    "    ax.imshow(original.reshape(50, 37), cmap=plt.cm.gray)\n",
    "    ax.axis(\"off\")\n",
    "    ax.set_title(\"%s\" % name)"
   ]
  },
  {
   "cell_type": "markdown",
   "metadata": {},
   "source": [
    "### SVM as a Feature Selector"
   ]
  },
  {
   "cell_type": "markdown",
   "metadata": {},
   "source": [
    "SVM can be used to do feature selection by using an $L1$ penalty norm.  We use `LinearSVC` which interfaces to `liblinear` for better large data performance.  The docs recommend preferring the primal optimization problem when `n_examples > n_features`."
   ]
  },
  {
   "cell_type": "code",
   "execution_count": null,
   "metadata": {
    "collapsed": false
   },
   "outputs": [],
   "source": [
    "iris = datasets.load_iris()\n",
    "examples, classes = iris.data, iris.target\n",
    "print(examples.shape)\n",
    "\n",
    "reduced_examples = svm.LinearSVC(C=0.01, penalty=\"l1\", dual=False).fit_transform(examples, classes)\n",
    "print(reduced_examples.shape)"
   ]
  },
  {
   "cell_type": "markdown",
   "metadata": {},
   "source": [
    "And this can be used in a pipeline with"
   ]
  },
  {
   "cell_type": "code",
   "execution_count": null,
   "metadata": {
    "collapsed": false
   },
   "outputs": [],
   "source": [
    "from sklearn import pipeline, ensemble\n",
    "pipe = pipeline.Pipeline([('feature_selection', svm.LinearSVC(penalty=\"l1\", dual=False)),\n",
    "                          ('classification',    ensemble.RandomForestClassifier())])\n",
    "pipe.fit(examples, classes)"
   ]
  },
  {
   "cell_type": "markdown",
   "metadata": {},
   "source": [
    "### Exercise"
   ]
  },
  {
   "cell_type": "markdown",
   "metadata": {},
   "source": [
    "Using the faces dataset:\n",
    "    \n",
    "  *  Rewrite the classification process as a pipeline and see if you can find better parameters than those we used.\n",
    "    * How are you defining better?  You might want to use a classification table (F1, etc.) or ROC curve as your evaluation metric.  You should probably integrate CV as well.\n",
    "  *  Compare our pipeline (PCA + SVM) with a pipeline that uses SVM as a feature selector and Random Forest as the classifier."
   ]
  },
  {
   "cell_type": "markdown",
   "metadata": {},
   "source": [
    "### Other SVM Options"
   ]
  },
  {
   "cell_type": "markdown",
   "metadata": {},
   "source": [
    "#### Orange"
   ]
  },
  {
   "cell_type": "markdown",
   "metadata": {},
   "source": [
    "Orange (http://orange.biolab.si/) is a very mature, alternative machine learning library designed for Python and written in C++.  It has many of the same features as scikit-learn, but it also allows you to use [Visual Programming to design learning pipelines](http://orange.biolab.si/static/homepage/screenshots/thumbs/eval-class.png).\n",
    "You can install Orange with: `pip install Orange`.\n",
    "\n",
    "Orange provides a relatively direct interface to `libsvm` and `liblinear`.  See the docs here:\n",
    "  * http://docs.orange.biolab.si/reference/rst/Orange.classification.svm.html"
   ]
  },
  {
   "cell_type": "markdown",
   "metadata": {},
   "source": [
    "### libsvm"
   ]
  },
  {
   "cell_type": "markdown",
   "metadata": {},
   "source": [
    "`libsvm` is the underlying C library that drives \"most\" svm packages.  You can download `libsvm` itself from: https://www.csie.ntu.edu.tw/~cjlin/libsvm/.  `libsvm` has its own python bindings.\n",
    "\n",
    "There is a user-contributed package (caveats apply) for installing `libsvm` with conda:\n",
    "  * https://binstar.org/derickl/libsvm"
   ]
  },
  {
   "cell_type": "code",
   "execution_count": null,
   "metadata": {
    "collapsed": false
   },
   "outputs": [],
   "source": [
    "import numpy as np\n",
    "import cvxopt as cvx\n",
    "print(\"compare\")\n",
    "\n",
    "print(\"from numpy array -> cvx matrix: row-wise\")\n",
    "print(cvx.matrix(np.array([[1,2,3], [4,5,6]])))\n",
    "print(\"from python list -> cvx matrix:  col-wise\")\n",
    "print(cvx.matrix([[1,2,3], [4,5,6]]))"
   ]
  },
  {
   "cell_type": "markdown",
   "metadata": {},
   "source": [
    "### A Simple Linear Program"
   ]
  },
  {
   "cell_type": "markdown",
   "metadata": {},
   "source": [
    "Let's solve the following LP:\n",
    "\n",
    "$$\n",
    "\\begin{align}\n",
    "\\mbox{minimize }    -4x_1 - 5x_2 \\\\\n",
    "\\mbox{subject to }   2x_1 + x_2 &\\leq 3 \\\\\n",
    "                   x_1 + 2x_2 &\\leq 3 \\\\\n",
    "                   x_1 &\\geq 0 \\\\\n",
    "                   x_2 &\\geq 0\n",
    "\\end{align}\n",
    "$$\n",
    "\n",
    "From [cvxopt.solvers.lp](http://cvxopt.org/userguide/coneprog.html#linear-programmingstandard), the basic LP solver call `cvxopt.solvers.lp(c, G, h[, A, b])` is expecting arguments corresponding to these primal and dual (slack-) forms:\n",
    "\n",
    "$$\n",
    "\\begin{align}\n",
    "\\mbox{minimize }   c^T x &      & \\mbox{maximize }    -h^T z - b^T y \\\\\n",
    "\\mbox{subject to } G x + s &= h & \\mbox{subject to }  G^T z + A^T y + c &= 0 \\\\\n",
    "                        Ax &= b   &      z &\\succeq 0 \\\\\n",
    "                      s &\\succeq 0 & &\n",
    "\\end{align}\n",
    "$$"
   ]
  },
  {
   "cell_type": "code",
   "execution_count": null,
   "metadata": {
    "collapsed": false
   },
   "outputs": [],
   "source": [
    "c = cvx.matrix([-4., -5.]) # standard form uses c.T so this is readable \"as-is\"\n",
    "#G = matrix([[2., 1., -1., 0.], \n",
    "#            [1., 2., 0., -1.]])\n",
    "\n",
    "# use an array so we can see column wise coefficients\n",
    "G = cvx.matrix(np.array([[2,  1],\n",
    "                         [1,  2],\n",
    "                         [0, -1],   # postive constraint, * -1\n",
    "                         [0, -1]],  # same\n",
    "                        dtype=np.float64))\n",
    "h = cvx.matrix([3., 3., 0., 0.])\n",
    "sol = cvx.solvers.lp(c, G, h)\n",
    "print(sol['x'])\n",
    "print(sol.keys())\n",
    "# see: "
   ]
  },
  {
   "cell_type": "markdown",
   "metadata": {},
   "source": [
    "### A Simple QP"
   ]
  },
  {
   "cell_type": "markdown",
   "metadata": {},
   "source": [
    "$$\n",
    "\\begin{align}\n",
    "\\mbox{minimize }  & \\frac{1}{2}x_1^2 + 3x_1 + 4x_2 & \\\\\n",
    "\\mbox{subject to }& x_1 \\geq 0 \\\\\n",
    "                  & x_2 \\geq 0 \\\\\n",
    "                  &  x_1 + 4x_2 \\geq 5 \\\\\n",
    "                  & 2x_1 + 5x_2 \\leq 100 \\\\\n",
    "                  & 3x_1 + 6x_2 \\leq 10 \\\\\n",
    "\\end{align}\n",
    "$$\n",
    "\n",
    "The `cvxopt.solvers.qp(P, q[, G, h[, A, b]])` solves the following primal and dual problems:\n",
    "\n",
    "$$\n",
    "\\begin{array}[t]{ll}\n",
    "\\mbox{minimize} & (1/2) x^TPx + q^T x \\\\\n",
    "\\mbox{subject to} & Gx \\preceq h \\\\ & Ax = b\n",
    "\\end{array}\n",
    "$$\n",
    "and\n",
    "$$\n",
    "\\begin{array}[t]{ll}\n",
    "\\mbox{maximize}   & -(1/2) (q+G^Tz+A^Ty)^T P^\\dagger\n",
    "                     (q+G^Tz+A^Ty) -h^T z - b^T y \\\\\n",
    "\\mbox{subject to} & q + G^T z + A^T y \\in \\mbox{Range(P)} \\\\\n",
    "                  & z \\succeq 0.\n",
    "\\end{array}\n",
    "$$\n"
   ]
  },
  {
   "cell_type": "code",
   "execution_count": null,
   "metadata": {
    "collapsed": false
   },
   "outputs": [],
   "source": [
    "# Define QP parameters (directly)\n",
    "P = cvx.matrix([[1.0,0.0],[0.0,0.0]])\n",
    "q = cvx.matrix([3.0,4.0])\n",
    "#G = cvx.matrix([[-1.0,0.0,-1.0,2.0,3.0],\n",
    "#                [0.0,-1.0,-3.0,5.0,4.0]])\n",
    "G = cvx.matrix([[-1.0,0.0,-1.0,2.0,3.0],\n",
    "                [0.0,-1.0,-4.0,5.0,6.0]])\n",
    "\n",
    "#h = cvx.matrix([0.0,0.0,-15.0,100.0,80.0])\n",
    "h = cvx.matrix([0.0,0.0,-5.0,100.0,10.0])\n",
    "sol = cvx.solvers.qp(P,q,G,h)\n",
    "\n",
    "print(sol['x'])"
   ]
  },
  {
   "cell_type": "code",
   "execution_count": null,
   "metadata": {
    "collapsed": false
   },
   "outputs": [],
   "source": [
    "cvx.solvers.options['show_progress'] = False\n",
    "\n",
    "P = cvx.matrix(np.diag([1.0,0.0]))\n",
    "q = cvx.matrix(np.array([3,4], dtype=np.float_))\n",
    "G = cvx.matrix(np.array([[-1, 0],\n",
    "                         [ 0,-1],\n",
    "                         [-1,-4],\n",
    "                         [ 2, 5],\n",
    "                         [ 3, 6]],\n",
    "                       dtype=np.float_))\n",
    "h = cvx.matrix(np.array([0, 0, -5, 100, 10], dtype=np.float_))\n",
    "\n",
    "sol = cvx.solvers.qp(P,q,G,h)\n",
    "print(sol['x'])"
   ]
  },
  {
   "cell_type": "code",
   "execution_count": null,
   "metadata": {
    "collapsed": false
   },
   "outputs": [],
   "source": [
    "Q = 2*matrix([ [2, .5], [.5, 1] ])\n",
    "p = matrix([1.0, 1.0])\n",
    "G = matrix([[-1.0,0.0],[0.0,-1.0]])\n",
    "h = matrix([0.0,0.0])\n",
    "A = matrix([1.0, 1.0], (1,2))\n",
    "b = matrix(1.0)\n",
    "sol=solvers.qp(Q, p, G, h, A, b)"
   ]
  },
  {
   "cell_type": "markdown",
   "metadata": {},
   "source": [
    "### An Example of Coding an SVM via cvxopt"
   ]
  },
  {
   "cell_type": "code",
   "execution_count": null,
   "metadata": {
    "collapsed": false
   },
   "outputs": [],
   "source": [
    "%matplotlib inline"
   ]
  },
  {
   "cell_type": "markdown",
   "metadata": {},
   "source": [
    "The following example is from Matt Blondel.  He described it in a blog entry here: http://www.mblondel.org/journal/2010/09/19/support-vector-machines-in-python/ and posted the code as a gist:  https://gist.github.com/mblondel/586753.\n",
    "\n",
    "This is a very cool example, but it is not generally practical because the entire kernel matrix (for all pairs of cases) is explicitly computed and passed to the QP solver.  So, as coded, this will only work for a relatively small N."
   ]
  },
  {
   "cell_type": "code",
   "execution_count": null,
   "metadata": {
    "collapsed": false
   },
   "outputs": [],
   "source": [
    "# Mathieu Blondel, September 2010\n",
    "# License: BSD 3 clause\n",
    "\n",
    "import numpy as np\n",
    "from numpy import linalg\n",
    "import cvxopt\n",
    "import cvxopt.solvers\n",
    "\n",
    "def linear_kernel(x1, x2):\n",
    "    return np.dot(x1, x2)\n",
    "\n",
    "def polynomial_kernel(x, y, p=3):\n",
    "    return (1 + np.dot(x, y)) ** p\n",
    "\n",
    "def gaussian_kernel(x, y, sigma=5.0):\n",
    "    return np.exp(-linalg.norm(x-y)**2 / (2 * (sigma ** 2)))\n",
    "\n",
    "class SVM(object):\n",
    "\n",
    "    def __init__(self, kernel=linear_kernel, C=None):\n",
    "        self.kernel = kernel\n",
    "        self.C = C\n",
    "        if self.C is not None: self.C = float(self.C)\n",
    "\n",
    "    def fit(self, X, y):\n",
    "        n_samples, n_features = X.shape\n",
    "\n",
    "        # Gram matrix\n",
    "        K = np.zeros((n_samples, n_samples))\n",
    "        for i in range(n_samples):\n",
    "            for j in range(n_samples):\n",
    "                K[i,j] = self.kernel(X[i], X[j])\n",
    "\n",
    "        P = cvxopt.matrix(np.outer(y,y) * K)\n",
    "        q = cvxopt.matrix(np.ones(n_samples) * -1)\n",
    "        A = cvxopt.matrix(y, (1,n_samples))\n",
    "        b = cvxopt.matrix(0.0)\n",
    "\n",
    "        if self.C is None:\n",
    "            G = cvxopt.matrix(np.diag(np.ones(n_samples) * -1))\n",
    "            h = cvxopt.matrix(np.zeros(n_samples))\n",
    "        else:\n",
    "            tmp1 = np.diag(np.ones(n_samples) * -1)\n",
    "            tmp2 = np.identity(n_samples)\n",
    "            G = cvxopt.matrix(np.vstack((tmp1, tmp2)))\n",
    "            tmp1 = np.zeros(n_samples)\n",
    "            tmp2 = np.ones(n_samples) * self.C\n",
    "            h = cvxopt.matrix(np.hstack((tmp1, tmp2)))\n",
    "\n",
    "        # solve QP problem\n",
    "        solution = cvxopt.solvers.qp(P, q, G, h, A, b)\n",
    "\n",
    "        # Lagrange multipliers\n",
    "        a = np.ravel(solution['x'])\n",
    "\n",
    "        # Support vectors have non zero lagrange multipliers\n",
    "        sv = a > 1e-5\n",
    "        ind = np.arange(len(a))[sv]\n",
    "        self.a = a[sv]\n",
    "        self.sv = X[sv]\n",
    "        self.sv_y = y[sv]\n",
    "        print(\"%d support vectors out of %d points\" % (len(self.a), n_samples))\n",
    "\n",
    "        # Intercept\n",
    "        self.b = 0\n",
    "        for n in range(len(self.a)):\n",
    "            self.b += self.sv_y[n]\n",
    "            self.b -= np.sum(self.a * self.sv_y * K[ind[n],sv])\n",
    "        self.b /= len(self.a)\n",
    "\n",
    "        # Weight vector\n",
    "        if self.kernel == linear_kernel:\n",
    "            self.w = np.zeros(n_features)\n",
    "            for n in range(len(self.a)):\n",
    "                self.w += self.a[n] * self.sv_y[n] * self.sv[n]\n",
    "        else:\n",
    "            self.w = None\n",
    "\n",
    "    def project(self, X):\n",
    "        if self.w is not None:\n",
    "            return np.dot(X, self.w) + self.b\n",
    "        else:\n",
    "            y_predict = np.zeros(len(X))\n",
    "            for i in range(len(X)):\n",
    "                s = 0\n",
    "                for a, sv_y, sv in zip(self.a, self.sv_y, self.sv):\n",
    "                    s += a * sv_y * self.kernel(X[i], sv)\n",
    "                y_predict[i] = s\n",
    "            return y_predict + self.b\n",
    "\n",
    "    def predict(self, X):\n",
    "        return np.sign(self.project(X))"
   ]
  },
  {
   "cell_type": "markdown",
   "metadata": {},
   "source": [
    "#### Define Some Helper Routines to Drive the SVM"
   ]
  },
  {
   "cell_type": "code",
   "execution_count": null,
   "metadata": {
    "collapsed": false
   },
   "outputs": [],
   "source": [
    "import pylab as pl\n",
    "\n",
    "def gen_lin_separable_data():\n",
    "    # generate training data in the 2-d case\n",
    "    mean1 = np.array([0, 2])\n",
    "    mean2 = np.array([2, 0])\n",
    "    cov = np.array([[0.8, 0.6], [0.6, 0.8]])\n",
    "    X1 = np.random.multivariate_normal(mean1, cov, 100)\n",
    "    y1 = np.ones(len(X1))\n",
    "    X2 = np.random.multivariate_normal(mean2, cov, 100)\n",
    "    y2 = np.ones(len(X2)) * -1\n",
    "    return X1, y1, X2, y2\n",
    "\n",
    "def gen_non_lin_separable_data():\n",
    "    mean1 = [-1, 2]\n",
    "    mean2 = [1, -1]\n",
    "    mean3 = [4, -4]\n",
    "    mean4 = [-4, 4]\n",
    "    cov = [[1.0,0.8], [0.8, 1.0]]\n",
    "    X1 = np.random.multivariate_normal(mean1, cov, 50)\n",
    "    X1 = np.vstack((X1, np.random.multivariate_normal(mean3, cov, 50)))\n",
    "    y1 = np.ones(len(X1))\n",
    "    X2 = np.random.multivariate_normal(mean2, cov, 50)\n",
    "    X2 = np.vstack((X2, np.random.multivariate_normal(mean4, cov, 50)))\n",
    "    y2 = np.ones(len(X2)) * -1\n",
    "    return X1, y1, X2, y2\n",
    "\n",
    "def gen_lin_separable_overlap_data():\n",
    "    # generate training data in the 2-d case\n",
    "    mean1 = np.array([0, 2])\n",
    "    mean2 = np.array([2, 0])\n",
    "    cov = np.array([[1.5, 1.0], [1.0, 1.5]])\n",
    "    X1 = np.random.multivariate_normal(mean1, cov, 100)\n",
    "    y1 = np.ones(len(X1))\n",
    "    X2 = np.random.multivariate_normal(mean2, cov, 100)\n",
    "    y2 = np.ones(len(X2)) * -1\n",
    "    return X1, y1, X2, y2\n",
    "\n",
    "def split_train(X1, y1, X2, y2):\n",
    "    X1_train = X1[:90]\n",
    "    y1_train = y1[:90]\n",
    "    X2_train = X2[:90]\n",
    "    y2_train = y2[:90]\n",
    "    X_train = np.vstack((X1_train, X2_train))\n",
    "    y_train = np.hstack((y1_train, y2_train))\n",
    "    return X_train, y_train\n",
    "\n",
    "def split_test(X1, y1, X2, y2):\n",
    "    X1_test = X1[90:]\n",
    "    y1_test = y1[90:]\n",
    "    X2_test = X2[90:]\n",
    "    y2_test = y2[90:]\n",
    "    X_test = np.vstack((X1_test, X2_test))\n",
    "    y_test = np.hstack((y1_test, y2_test))\n",
    "    return X_test, y_test\n",
    "\n",
    "def plot_margin(X1_train, X2_train, clf):\n",
    "    def f(x, w, b, c=0):\n",
    "        # given x, return y such that [x,y] in on the line\n",
    "        # w.x + b = c\n",
    "        return (-w[0] * x - b + c) / w[1]\n",
    "\n",
    "    pl.plot(X1_train[:,0], X1_train[:,1], \"ro\")\n",
    "    pl.plot(X2_train[:,0], X2_train[:,1], \"bo\")\n",
    "    pl.scatter(clf.sv[:,0], clf.sv[:,1], s=100, c=\"g\")\n",
    "\n",
    "    # w.x + b = 0\n",
    "    a0 = -4; a1 = f(a0, clf.w, clf.b)\n",
    "    b0 = 4; b1 = f(b0, clf.w, clf.b)\n",
    "    pl.plot([a0,b0], [a1,b1], \"k\")\n",
    "\n",
    "    # w.x + b = 1\n",
    "    a0 = -4; a1 = f(a0, clf.w, clf.b, 1)\n",
    "    b0 = 4; b1 = f(b0, clf.w, clf.b, 1)\n",
    "    pl.plot([a0,b0], [a1,b1], \"k--\")\n",
    "\n",
    "    # w.x + b = -1\n",
    "    a0 = -4; a1 = f(a0, clf.w, clf.b, -1)\n",
    "    b0 = 4; b1 = f(b0, clf.w, clf.b, -1)\n",
    "    pl.plot([a0,b0], [a1,b1], \"k--\")\n",
    "\n",
    "    pl.axis(\"tight\")\n",
    "    pl.show()\n",
    "\n",
    "def plot_contour(X1_train, X2_train, clf):\n",
    "    pl.plot(X1_train[:,0], X1_train[:,1], \"ro\")\n",
    "    pl.plot(X2_train[:,0], X2_train[:,1], \"bo\")\n",
    "    pl.scatter(clf.sv[:,0], clf.sv[:,1], s=100, c=\"g\")\n",
    "\n",
    "    X1, X2 = np.meshgrid(np.linspace(-6,6,50), np.linspace(-6,6,50))\n",
    "    X = np.array([[x1, x2] for x1, x2 in zip(np.ravel(X1), np.ravel(X2))])\n",
    "    Z = clf.project(X).reshape(X1.shape)\n",
    "    pl.contour(X1, X2, Z, [0.0], colors='k', linewidths=1, origin='lower')\n",
    "    pl.contour(X1, X2, Z + 1, [0.0], colors='grey', linewidths=1, origin='lower')\n",
    "    pl.contour(X1, X2, Z - 1, [0.0], colors='grey', linewidths=1, origin='lower')\n",
    "\n",
    "    pl.axis(\"tight\")\n",
    "    pl.show()"
   ]
  },
  {
   "cell_type": "markdown",
   "metadata": {},
   "source": [
    "#### Define Some Test Functions"
   ]
  },
  {
   "cell_type": "code",
   "execution_count": null,
   "metadata": {
    "collapsed": false
   },
   "outputs": [],
   "source": [
    "def test_linear():\n",
    "    X1, y1, X2, y2 = gen_lin_separable_data()\n",
    "    X_train, y_train = split_train(X1, y1, X2, y2)\n",
    "    X_test, y_test = split_test(X1, y1, X2, y2)\n",
    "\n",
    "    clf = SVM()\n",
    "    clf.fit(X_train, y_train)\n",
    "\n",
    "    y_predict = clf.predict(X_test)\n",
    "    correct = np.sum(y_predict == y_test)\n",
    "    print(\"%d out of %d predictions correct\" % (correct, len(y_predict)))\n",
    "\n",
    "    plot_margin(X_train[y_train==1], X_train[y_train==-1], clf)\n",
    "\n",
    "def test_non_linear():\n",
    "    X1, y1, X2, y2 = gen_non_lin_separable_data()\n",
    "    X_train, y_train = split_train(X1, y1, X2, y2)\n",
    "    X_test, y_test = split_test(X1, y1, X2, y2)\n",
    "\n",
    "    clf = SVM(gaussian_kernel)\n",
    "    clf.fit(X_train, y_train)\n",
    "\n",
    "    y_predict = clf.predict(X_test)\n",
    "    correct = np.sum(y_predict == y_test)\n",
    "    print(\"%d out of %d predictions correct\" % (correct, len(y_predict)))\n",
    "\n",
    "    plot_contour(X_train[y_train==1], X_train[y_train==-1], clf)\n",
    "\n",
    "def test_soft():\n",
    "    X1, y1, X2, y2 = gen_lin_separable_overlap_data()\n",
    "    X_train, y_train = split_train(X1, y1, X2, y2)\n",
    "    X_test, y_test = split_test(X1, y1, X2, y2)\n",
    "\n",
    "    clf = SVM(C=0.1)\n",
    "    clf.fit(X_train, y_train)\n",
    "\n",
    "    y_predict = clf.predict(X_test)\n",
    "    correct = np.sum(y_predict == y_test)\n",
    "    print(\"%d out of %d predictions correct\" % (correct, len(y_predict)))\n",
    "\n",
    "    plot_contour(X_train[y_train==1], X_train[y_train==-1], clf)"
   ]
  },
  {
   "cell_type": "markdown",
   "metadata": {},
   "source": [
    "#### And Execute The Examples"
   ]
  },
  {
   "cell_type": "code",
   "execution_count": null,
   "metadata": {
    "collapsed": false
   },
   "outputs": [],
   "source": [
    "cvx.solvers.options['show_progress'] = False    \n",
    "test_linear()"
   ]
  },
  {
   "cell_type": "code",
   "execution_count": null,
   "metadata": {
    "collapsed": false
   },
   "outputs": [],
   "source": [
    "test_non_linear()"
   ]
  },
  {
   "cell_type": "code",
   "execution_count": null,
   "metadata": {
    "collapsed": false
   },
   "outputs": [],
   "source": [
    "test_soft()"
   ]
  }
 ],
 "metadata": {
  "kernelspec": {
   "display_name": "Python 3",
   "language": "python",
   "name": "python3"
  },
  "language_info": {
   "codemirror_mode": {
    "name": "ipython",
    "version": 3
   },
   "file_extension": ".py",
   "mimetype": "text/x-python",
   "name": "python",
   "nbconvert_exporter": "python",
   "pygments_lexer": "ipython3",
   "version": "3.4.3"
  }
 },
 "nbformat": 4,
 "nbformat_minor": 0
}
