{
 "cells": [
  {
   "cell_type": "code",
   "execution_count": 9,
   "metadata": {},
   "outputs": [
    {
     "data": {
      "text/plain": [
       "5050"
      ]
     },
     "execution_count": 9,
     "metadata": {},
     "output_type": "execute_result"
    }
   ],
   "source": [
    "sum=0\n",
    "for i in range(101):\n",
    "    sum+=i\n",
    "sum\n",
    "# 1+2+3+4+......+100"
   ]
  },
  {
   "cell_type": "code",
   "execution_count": 11,
   "metadata": {},
   "outputs": [
    {
     "data": {
      "text/plain": [
       "2550"
      ]
     },
     "execution_count": 11,
     "metadata": {},
     "output_type": "execute_result"
    }
   ],
   "source": [
    "sum=0\n",
    "for i in range(2,101,2):\n",
    "     sum+=i\n",
    "sum"
   ]
  },
  {
   "cell_type": "code",
   "execution_count": 14,
   "metadata": {},
   "outputs": [
    {
     "name": "stdout",
     "output_type": "stream",
     "text": [
      "a : 50\n",
      "smaller\n",
      "a : 25\n",
      "larger\n",
      "a : 37\n",
      "larger\n",
      "a : 43\n",
      "larger\n",
      "a : 46\n",
      "larger\n",
      "a : 48\n",
      "correct\n",
      "總共猜了5次\n"
     ]
    }
   ],
   "source": [
    "# while (True) -> 繼續loop  while (False) -> 離開loop\n",
    "\n",
    "import random\n",
    "t=0\n",
    "answer = random.randint(1,101)\n",
    "\n",
    "while True:\n",
    "    \n",
    "    a = int(input(\"a : \"))\n",
    "    \n",
    "    if a > answer :\n",
    "        print(\"smaller\")\n",
    "    elif a < answer :\n",
    "        print(\"larger\")\n",
    "    else: \n",
    "        print(\"correct\")\n",
    "        break\n",
    "    t+=1\n",
    "print(\"總共猜了%d次\" %t)\n",
    "    \n",
    "    \n",
    "    \n",
    "    \n",
    "    "
   ]
  },
  {
   "cell_type": "code",
   "execution_count": 66,
   "metadata": {},
   "outputs": [
    {
     "name": "stdout",
     "output_type": "stream",
     "text": [
      "總共猜了10次\n"
     ]
    }
   ],
   "source": [
    "import random\n",
    "t=0\n",
    "answer = random.randint(1,10001)\n",
    "k=[0,10000]\n",
    "while True:\n",
    "    \n",
    "    a = ( k[0] + k[1] )/2\n",
    "    a = round(a)\n",
    "    #print(a)\n",
    "    if a > answer :\n",
    "        #print(\"smaller\")\n",
    "        k[1] = a\n",
    "    elif a < answer :\n",
    "        #print(\"larger\")\n",
    "        k[0] = a\n",
    "    else: \n",
    "        #print(\"correct\")\n",
    "        break\n",
    "        \n",
    "    t+=1\n",
    "    \n",
    "print(\"總共猜了%d次\" %t)"
   ]
  },
  {
   "cell_type": "code",
   "execution_count": 76,
   "metadata": {},
   "outputs": [
    {
     "name": "stdout",
     "output_type": "stream",
     "text": [
      "1 x 1 =  1    \t2 x 1 =  2    \t3 x 1 =  3    \t4 x 1 =  4    \t5 x 1 =  5    \t6 x 1 =  6    \t7 x 1 =  7    \t8 x 1 =  8    \t9 x 1 =  9    \t\n",
      "1 x 2 =  2    \t2 x 2 =  4    \t3 x 2 =  6    \t4 x 2 =  8    \t5 x 2 =  10    \t6 x 2 =  12    \t7 x 2 =  14    \t8 x 2 =  16    \t9 x 2 =  18    \t\n",
      "1 x 3 =  3    \t2 x 3 =  6    \t3 x 3 =  9    \t4 x 3 =  12    \t5 x 3 =  15    \t6 x 3 =  18    \t7 x 3 =  21    \t8 x 3 =  24    \t9 x 3 =  27    \t\n",
      "1 x 4 =  4    \t2 x 4 =  8    \t3 x 4 =  12    \t4 x 4 =  16    \t5 x 4 =  20    \t6 x 4 =  24    \t7 x 4 =  28    \t8 x 4 =  32    \t9 x 4 =  36    \t\n",
      "1 x 5 =  5    \t2 x 5 =  10    \t3 x 5 =  15    \t4 x 5 =  20    \t5 x 5 =  25    \t6 x 5 =  30    \t7 x 5 =  35    \t8 x 5 =  40    \t9 x 5 =  45    \t\n",
      "1 x 6 =  6    \t2 x 6 =  12    \t3 x 6 =  18    \t4 x 6 =  24    \t5 x 6 =  30    \t6 x 6 =  36    \t7 x 6 =  42    \t8 x 6 =  48    \t9 x 6 =  54    \t\n",
      "1 x 7 =  7    \t2 x 7 =  14    \t3 x 7 =  21    \t4 x 7 =  28    \t5 x 7 =  35    \t6 x 7 =  42    \t7 x 7 =  49    \t8 x 7 =  56    \t9 x 7 =  63    \t\n",
      "1 x 8 =  8    \t2 x 8 =  16    \t3 x 8 =  24    \t4 x 8 =  32    \t5 x 8 =  40    \t6 x 8 =  48    \t7 x 8 =  56    \t8 x 8 =  64    \t9 x 8 =  72    \t\n",
      "1 x 9 =  9    \t2 x 9 =  18    \t3 x 9 =  27    \t4 x 9 =  36    \t5 x 9 =  45    \t6 x 9 =  54    \t7 x 9 =  63    \t8 x 9 =  72    \t9 x 9 =  81    \t\n"
     ]
    }
   ],
   "source": [
    "# 9x9乘法\n",
    "\n",
    "j=1\n",
    "\n",
    "while  j<10:\n",
    "    i=1\n",
    "    while i<10:\n",
    "        print(\"%d x %d =  %d    \" %( i, j ,i*j ),end = \"\\t\" )\n",
    "        i+=1\n",
    "    print(\"\")\n",
    "    j+=1\n",
    "\n"
   ]
  },
  {
   "cell_type": "code",
   "execution_count": 77,
   "metadata": {},
   "outputs": [
    {
     "data": {
      "text/plain": [
       "20"
      ]
     },
     "execution_count": 77,
     "metadata": {},
     "output_type": "execute_result"
    }
   ],
   "source": [
    "a=int(20.20011)\n",
    "a"
   ]
  },
  {
   "cell_type": "code",
   "execution_count": 167,
   "metadata": {},
   "outputs": [
    {
     "name": "stdout",
     "output_type": "stream",
     "text": [
      "a=11087\n",
      "a 是否為質數？\n",
      "y / n : y\n",
      "ans = y\n"
     ]
    }
   ],
   "source": [
    "import random\n",
    "a = random.randint(1,100000)\n",
    "print('a=%d'%a)\n",
    "print(\"a 是否為質數？\")\n",
    "\n",
    "ans='y'\n",
    "f = input('y / n : ')\n",
    "\n",
    "t=2\n",
    "\n",
    "while t< a**0.5+1:\n",
    "    if a%t==0: \n",
    "        ans='n'\n",
    "        print('t = %d'%t)\n",
    "    \n",
    "        break\n",
    "    if t == 2: t += 1\n",
    "    else: t += 2\n",
    "print('ans = %s'%ans)\n",
    "\n"
   ]
  },
  {
   "cell_type": "code",
   "execution_count": 188,
   "metadata": {},
   "outputs": [
    {
     "name": "stdout",
     "output_type": "stream",
     "text": [
      "*                      \n",
      "**                     \n",
      "***                    \n",
      "****                   \n",
      "*****                  \n",
      "******                 \n",
      "*******                \n",
      "********               \n",
      "*********              \n",
      "**********             \n",
      "***********            \n",
      "************           \n",
      "*************          \n",
      "**************         \n",
      "***************        \n",
      "****************       \n",
      "*****************      \n",
      "******************     \n",
      "*******************    \n",
      "********************   \n",
      "*********************  \n",
      "********************** \n",
      "***********************\n"
     ]
    }
   ],
   "source": [
    "a = []\n",
    "for i in range(23):\n",
    "    a.append(\" \")\n",
    "\n",
    "for i in range(len(a)):\n",
    "    a[i] = '*'\n",
    "    for j in a :\n",
    "        print(j, end=\"\")\n",
    "    print(\"\")\n",
    "    "
   ]
  },
  {
   "cell_type": "code",
   "execution_count": 193,
   "metadata": {},
   "outputs": [],
   "source": [
    "a = [range(2,100),range(123,1000)]"
   ]
  },
  {
   "cell_type": "code",
   "execution_count": 194,
   "metadata": {},
   "outputs": [
    {
     "data": {
      "text/plain": [
       "[range(2, 100), range(123, 1000)]"
      ]
     },
     "execution_count": 194,
     "metadata": {},
     "output_type": "execute_result"
    }
   ],
   "source": [
    "a"
   ]
  },
  {
   "cell_type": "code",
   "execution_count": 196,
   "metadata": {},
   "outputs": [
    {
     "data": {
      "text/plain": [
       "True"
      ]
     },
     "execution_count": 196,
     "metadata": {},
     "output_type": "execute_result"
    }
   ],
   "source": [
    "250 in a[1]\n"
   ]
  },
  {
   "cell_type": "code",
   "execution_count": null,
   "metadata": {},
   "outputs": [],
   "source": []
  }
 ],
 "metadata": {
  "kernelspec": {
   "display_name": "Python 3",
   "language": "python",
   "name": "python3"
  }
 },
 "nbformat": 4,
 "nbformat_minor": 2
}
